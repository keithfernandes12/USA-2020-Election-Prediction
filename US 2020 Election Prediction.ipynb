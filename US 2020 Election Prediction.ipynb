{
 "cells": [
  {
   "cell_type": "markdown",
   "metadata": {},
   "source": [
    "# US Election 2020 Election Forecasting Using Polling Data for Simulations\n",
    "\n",
    "Polls data taken from [FiveThirtyEight](https://data.fivethirtyeight.com/)\n",
    "\n",
    "## Steps\n",
    "1. Understanding the Dataset.\n",
    "2. Cleaning and Exploring the data.\n",
    "3. Changing the Data Layout\n",
    "4. Visualizations of the data\n",
    "5. Statistical Analysis of Polling Data\n",
    "6. Simulation of the Data\n",
    "7. Analyzing the Simulated Data\n",
    "8. Simulating the Data 10,000 times"
   ]
  },
  {
   "cell_type": "markdown",
   "metadata": {},
   "source": [
    "### 1. Understanding the Dataset"
   ]
  },
  {
   "cell_type": "code",
   "execution_count": 191,
   "metadata": {},
   "outputs": [
    {
     "data": {
      "text/html": [
       "<div>\n",
       "<style scoped>\n",
       "    .dataframe tbody tr th:only-of-type {\n",
       "        vertical-align: middle;\n",
       "    }\n",
       "\n",
       "    .dataframe tbody tr th {\n",
       "        vertical-align: top;\n",
       "    }\n",
       "\n",
       "    .dataframe thead th {\n",
       "        text-align: right;\n",
       "    }\n",
       "</style>\n",
       "<table border=\"1\" class=\"dataframe\">\n",
       "  <thead>\n",
       "    <tr style=\"text-align: right;\">\n",
       "      <th></th>\n",
       "      <th>question_id</th>\n",
       "      <th>poll_id</th>\n",
       "      <th>cycle</th>\n",
       "      <th>state</th>\n",
       "      <th>pollster_id</th>\n",
       "      <th>pollster</th>\n",
       "      <th>sponsor_ids</th>\n",
       "      <th>sponsors</th>\n",
       "      <th>display_name</th>\n",
       "      <th>pollster_rating_id</th>\n",
       "      <th>...</th>\n",
       "      <th>created_at</th>\n",
       "      <th>notes</th>\n",
       "      <th>url</th>\n",
       "      <th>stage</th>\n",
       "      <th>race_id</th>\n",
       "      <th>answer</th>\n",
       "      <th>candidate_id</th>\n",
       "      <th>candidate_name</th>\n",
       "      <th>candidate_party</th>\n",
       "      <th>pct</th>\n",
       "    </tr>\n",
       "  </thead>\n",
       "  <tbody>\n",
       "    <tr>\n",
       "      <th>0</th>\n",
       "      <td>133816</td>\n",
       "      <td>71450</td>\n",
       "      <td>2020</td>\n",
       "      <td>Ohio</td>\n",
       "      <td>399</td>\n",
       "      <td>Rasmussen Reports/Pulse Opinion Research</td>\n",
       "      <td>NaN</td>\n",
       "      <td>NaN</td>\n",
       "      <td>Rasmussen Reports/Pulse Opinion Research</td>\n",
       "      <td>277.0</td>\n",
       "      <td>...</td>\n",
       "      <td>10/20/20 10:30</td>\n",
       "      <td>NaN</td>\n",
       "      <td>https://www.rasmussenreports.com/public_conten...</td>\n",
       "      <td>general</td>\n",
       "      <td>6246</td>\n",
       "      <td>Biden</td>\n",
       "      <td>13256</td>\n",
       "      <td>Joseph R. Biden Jr.</td>\n",
       "      <td>DEM</td>\n",
       "      <td>48.0</td>\n",
       "    </tr>\n",
       "    <tr>\n",
       "      <th>1</th>\n",
       "      <td>133816</td>\n",
       "      <td>71450</td>\n",
       "      <td>2020</td>\n",
       "      <td>Ohio</td>\n",
       "      <td>399</td>\n",
       "      <td>Rasmussen Reports/Pulse Opinion Research</td>\n",
       "      <td>NaN</td>\n",
       "      <td>NaN</td>\n",
       "      <td>Rasmussen Reports/Pulse Opinion Research</td>\n",
       "      <td>277.0</td>\n",
       "      <td>...</td>\n",
       "      <td>10/20/20 10:30</td>\n",
       "      <td>NaN</td>\n",
       "      <td>https://www.rasmussenreports.com/public_conten...</td>\n",
       "      <td>general</td>\n",
       "      <td>6246</td>\n",
       "      <td>Trump</td>\n",
       "      <td>13254</td>\n",
       "      <td>Donald Trump</td>\n",
       "      <td>REP</td>\n",
       "      <td>47.0</td>\n",
       "    </tr>\n",
       "    <tr>\n",
       "      <th>2</th>\n",
       "      <td>133838</td>\n",
       "      <td>71457</td>\n",
       "      <td>2020</td>\n",
       "      <td>Pennsylvania</td>\n",
       "      <td>399</td>\n",
       "      <td>Rasmussen Reports/Pulse Opinion Research</td>\n",
       "      <td>NaN</td>\n",
       "      <td>NaN</td>\n",
       "      <td>Rasmussen Reports/Pulse Opinion Research</td>\n",
       "      <td>277.0</td>\n",
       "      <td>...</td>\n",
       "      <td>10/20/20 13:21</td>\n",
       "      <td>NaN</td>\n",
       "      <td>https://www.rasmussenreports.com/public_conten...</td>\n",
       "      <td>general</td>\n",
       "      <td>6249</td>\n",
       "      <td>Biden</td>\n",
       "      <td>13256</td>\n",
       "      <td>Joseph R. Biden Jr.</td>\n",
       "      <td>DEM</td>\n",
       "      <td>50.0</td>\n",
       "    </tr>\n",
       "    <tr>\n",
       "      <th>3</th>\n",
       "      <td>133838</td>\n",
       "      <td>71457</td>\n",
       "      <td>2020</td>\n",
       "      <td>Pennsylvania</td>\n",
       "      <td>399</td>\n",
       "      <td>Rasmussen Reports/Pulse Opinion Research</td>\n",
       "      <td>NaN</td>\n",
       "      <td>NaN</td>\n",
       "      <td>Rasmussen Reports/Pulse Opinion Research</td>\n",
       "      <td>277.0</td>\n",
       "      <td>...</td>\n",
       "      <td>10/20/20 13:21</td>\n",
       "      <td>NaN</td>\n",
       "      <td>https://www.rasmussenreports.com/public_conten...</td>\n",
       "      <td>general</td>\n",
       "      <td>6249</td>\n",
       "      <td>Trump</td>\n",
       "      <td>13254</td>\n",
       "      <td>Donald Trump</td>\n",
       "      <td>REP</td>\n",
       "      <td>47.0</td>\n",
       "    </tr>\n",
       "    <tr>\n",
       "      <th>4</th>\n",
       "      <td>133777</td>\n",
       "      <td>71435</td>\n",
       "      <td>2020</td>\n",
       "      <td>Georgia</td>\n",
       "      <td>1102</td>\n",
       "      <td>Emerson College</td>\n",
       "      <td>1446</td>\n",
       "      <td>NewsNation</td>\n",
       "      <td>Emerson College</td>\n",
       "      <td>88.0</td>\n",
       "      <td>...</td>\n",
       "      <td>10/19/20 20:06</td>\n",
       "      <td>NaN</td>\n",
       "      <td>https://emersonpolling.reportablenews.com/pr/g...</td>\n",
       "      <td>general</td>\n",
       "      <td>6221</td>\n",
       "      <td>Biden</td>\n",
       "      <td>13256</td>\n",
       "      <td>Joseph R. Biden Jr.</td>\n",
       "      <td>DEM</td>\n",
       "      <td>47.0</td>\n",
       "    </tr>\n",
       "    <tr>\n",
       "      <th>5</th>\n",
       "      <td>133777</td>\n",
       "      <td>71435</td>\n",
       "      <td>2020</td>\n",
       "      <td>Georgia</td>\n",
       "      <td>1102</td>\n",
       "      <td>Emerson College</td>\n",
       "      <td>1446</td>\n",
       "      <td>NewsNation</td>\n",
       "      <td>Emerson College</td>\n",
       "      <td>88.0</td>\n",
       "      <td>...</td>\n",
       "      <td>10/19/20 20:06</td>\n",
       "      <td>NaN</td>\n",
       "      <td>https://emersonpolling.reportablenews.com/pr/g...</td>\n",
       "      <td>general</td>\n",
       "      <td>6221</td>\n",
       "      <td>Trump</td>\n",
       "      <td>13254</td>\n",
       "      <td>Donald Trump</td>\n",
       "      <td>REP</td>\n",
       "      <td>48.4</td>\n",
       "    </tr>\n",
       "    <tr>\n",
       "      <th>6</th>\n",
       "      <td>133810</td>\n",
       "      <td>71446</td>\n",
       "      <td>2020</td>\n",
       "      <td>NaN</td>\n",
       "      <td>228</td>\n",
       "      <td>IBD/TIPP</td>\n",
       "      <td>NaN</td>\n",
       "      <td>NaN</td>\n",
       "      <td>IBD/TIPP</td>\n",
       "      <td>144.0</td>\n",
       "      <td>...</td>\n",
       "      <td>10/20/20 09:05</td>\n",
       "      <td>NaN</td>\n",
       "      <td>https://www.investors.com/news/trump-vs-biden-...</td>\n",
       "      <td>general</td>\n",
       "      <td>6210</td>\n",
       "      <td>Biden</td>\n",
       "      <td>13256</td>\n",
       "      <td>Joseph R. Biden Jr.</td>\n",
       "      <td>DEM</td>\n",
       "      <td>48.1</td>\n",
       "    </tr>\n",
       "    <tr>\n",
       "      <th>7</th>\n",
       "      <td>133810</td>\n",
       "      <td>71446</td>\n",
       "      <td>2020</td>\n",
       "      <td>NaN</td>\n",
       "      <td>228</td>\n",
       "      <td>IBD/TIPP</td>\n",
       "      <td>NaN</td>\n",
       "      <td>NaN</td>\n",
       "      <td>IBD/TIPP</td>\n",
       "      <td>144.0</td>\n",
       "      <td>...</td>\n",
       "      <td>10/20/20 09:05</td>\n",
       "      <td>NaN</td>\n",
       "      <td>https://www.investors.com/news/trump-vs-biden-...</td>\n",
       "      <td>general</td>\n",
       "      <td>6210</td>\n",
       "      <td>Trump</td>\n",
       "      <td>13254</td>\n",
       "      <td>Donald Trump</td>\n",
       "      <td>REP</td>\n",
       "      <td>45.8</td>\n",
       "    </tr>\n",
       "    <tr>\n",
       "      <th>8</th>\n",
       "      <td>133810</td>\n",
       "      <td>71446</td>\n",
       "      <td>2020</td>\n",
       "      <td>NaN</td>\n",
       "      <td>228</td>\n",
       "      <td>IBD/TIPP</td>\n",
       "      <td>NaN</td>\n",
       "      <td>NaN</td>\n",
       "      <td>IBD/TIPP</td>\n",
       "      <td>144.0</td>\n",
       "      <td>...</td>\n",
       "      <td>10/20/20 09:05</td>\n",
       "      <td>NaN</td>\n",
       "      <td>https://www.investors.com/news/trump-vs-biden-...</td>\n",
       "      <td>general</td>\n",
       "      <td>6210</td>\n",
       "      <td>Jorgensen</td>\n",
       "      <td>14611</td>\n",
       "      <td>Jo Jorgensen</td>\n",
       "      <td>LIB</td>\n",
       "      <td>3.0</td>\n",
       "    </tr>\n",
       "    <tr>\n",
       "      <th>9</th>\n",
       "      <td>133810</td>\n",
       "      <td>71446</td>\n",
       "      <td>2020</td>\n",
       "      <td>NaN</td>\n",
       "      <td>228</td>\n",
       "      <td>IBD/TIPP</td>\n",
       "      <td>NaN</td>\n",
       "      <td>NaN</td>\n",
       "      <td>IBD/TIPP</td>\n",
       "      <td>144.0</td>\n",
       "      <td>...</td>\n",
       "      <td>10/20/20 09:05</td>\n",
       "      <td>NaN</td>\n",
       "      <td>https://www.investors.com/news/trump-vs-biden-...</td>\n",
       "      <td>general</td>\n",
       "      <td>6210</td>\n",
       "      <td>Hawkins</td>\n",
       "      <td>14612</td>\n",
       "      <td>Howie Hawkins</td>\n",
       "      <td>GRE</td>\n",
       "      <td>0.9</td>\n",
       "    </tr>\n",
       "  </tbody>\n",
       "</table>\n",
       "<p>10 rows × 38 columns</p>\n",
       "</div>"
      ],
      "text/plain": [
       "   question_id  poll_id  cycle         state  pollster_id  \\\n",
       "0       133816    71450   2020          Ohio          399   \n",
       "1       133816    71450   2020          Ohio          399   \n",
       "2       133838    71457   2020  Pennsylvania          399   \n",
       "3       133838    71457   2020  Pennsylvania          399   \n",
       "4       133777    71435   2020       Georgia         1102   \n",
       "5       133777    71435   2020       Georgia         1102   \n",
       "6       133810    71446   2020           NaN          228   \n",
       "7       133810    71446   2020           NaN          228   \n",
       "8       133810    71446   2020           NaN          228   \n",
       "9       133810    71446   2020           NaN          228   \n",
       "\n",
       "                                   pollster sponsor_ids    sponsors  \\\n",
       "0  Rasmussen Reports/Pulse Opinion Research         NaN         NaN   \n",
       "1  Rasmussen Reports/Pulse Opinion Research         NaN         NaN   \n",
       "2  Rasmussen Reports/Pulse Opinion Research         NaN         NaN   \n",
       "3  Rasmussen Reports/Pulse Opinion Research         NaN         NaN   \n",
       "4                           Emerson College        1446  NewsNation   \n",
       "5                           Emerson College        1446  NewsNation   \n",
       "6                                  IBD/TIPP         NaN         NaN   \n",
       "7                                  IBD/TIPP         NaN         NaN   \n",
       "8                                  IBD/TIPP         NaN         NaN   \n",
       "9                                  IBD/TIPP         NaN         NaN   \n",
       "\n",
       "                               display_name  pollster_rating_id  ...  \\\n",
       "0  Rasmussen Reports/Pulse Opinion Research               277.0  ...   \n",
       "1  Rasmussen Reports/Pulse Opinion Research               277.0  ...   \n",
       "2  Rasmussen Reports/Pulse Opinion Research               277.0  ...   \n",
       "3  Rasmussen Reports/Pulse Opinion Research               277.0  ...   \n",
       "4                           Emerson College                88.0  ...   \n",
       "5                           Emerson College                88.0  ...   \n",
       "6                                  IBD/TIPP               144.0  ...   \n",
       "7                                  IBD/TIPP               144.0  ...   \n",
       "8                                  IBD/TIPP               144.0  ...   \n",
       "9                                  IBD/TIPP               144.0  ...   \n",
       "\n",
       "       created_at notes                                                url  \\\n",
       "0  10/20/20 10:30   NaN  https://www.rasmussenreports.com/public_conten...   \n",
       "1  10/20/20 10:30   NaN  https://www.rasmussenreports.com/public_conten...   \n",
       "2  10/20/20 13:21   NaN  https://www.rasmussenreports.com/public_conten...   \n",
       "3  10/20/20 13:21   NaN  https://www.rasmussenreports.com/public_conten...   \n",
       "4  10/19/20 20:06   NaN  https://emersonpolling.reportablenews.com/pr/g...   \n",
       "5  10/19/20 20:06   NaN  https://emersonpolling.reportablenews.com/pr/g...   \n",
       "6  10/20/20 09:05   NaN  https://www.investors.com/news/trump-vs-biden-...   \n",
       "7  10/20/20 09:05   NaN  https://www.investors.com/news/trump-vs-biden-...   \n",
       "8  10/20/20 09:05   NaN  https://www.investors.com/news/trump-vs-biden-...   \n",
       "9  10/20/20 09:05   NaN  https://www.investors.com/news/trump-vs-biden-...   \n",
       "\n",
       "     stage race_id     answer candidate_id       candidate_name  \\\n",
       "0  general    6246      Biden        13256  Joseph R. Biden Jr.   \n",
       "1  general    6246      Trump        13254         Donald Trump   \n",
       "2  general    6249      Biden        13256  Joseph R. Biden Jr.   \n",
       "3  general    6249      Trump        13254         Donald Trump   \n",
       "4  general    6221      Biden        13256  Joseph R. Biden Jr.   \n",
       "5  general    6221      Trump        13254         Donald Trump   \n",
       "6  general    6210      Biden        13256  Joseph R. Biden Jr.   \n",
       "7  general    6210      Trump        13254         Donald Trump   \n",
       "8  general    6210  Jorgensen        14611         Jo Jorgensen   \n",
       "9  general    6210    Hawkins        14612        Howie Hawkins   \n",
       "\n",
       "   candidate_party   pct  \n",
       "0              DEM  48.0  \n",
       "1              REP  47.0  \n",
       "2              DEM  50.0  \n",
       "3              REP  47.0  \n",
       "4              DEM  47.0  \n",
       "5              REP  48.4  \n",
       "6              DEM  48.1  \n",
       "7              REP  45.8  \n",
       "8              LIB   3.0  \n",
       "9              GRE   0.9  \n",
       "\n",
       "[10 rows x 38 columns]"
      ]
     },
     "execution_count": 191,
     "metadata": {},
     "output_type": "execute_result"
    }
   ],
   "source": [
    "import pandas as pd \n",
    "import numpy as np \n",
    "\n",
    "# Importing the data\n",
    "\n",
    "polls_data = \"president_polls.csv\"\n",
    "df = pd.read_csv(polls_data)\n",
    "df.head(10)"
   ]
  },
  {
   "cell_type": "code",
   "execution_count": 192,
   "metadata": {},
   "outputs": [
    {
     "data": {
      "text/plain": [
       "Index(['question_id', 'poll_id', 'cycle', 'state', 'pollster_id', 'pollster',\n",
       "       'sponsor_ids', 'sponsors', 'display_name', 'pollster_rating_id',\n",
       "       'pollster_rating_name', 'fte_grade', 'sample_size', 'population',\n",
       "       'population_full', 'methodology', 'office_type', 'seat_number',\n",
       "       'seat_name', 'start_date', 'end_date', 'election_date',\n",
       "       'sponsor_candidate', 'internal', 'partisan', 'tracking',\n",
       "       'nationwide_batch', 'ranked_choice_reallocated', 'created_at', 'notes',\n",
       "       'url', 'stage', 'race_id', 'answer', 'candidate_id', 'candidate_name',\n",
       "       'candidate_party', 'pct'],\n",
       "      dtype='object')"
      ]
     },
     "execution_count": 192,
     "metadata": {},
     "output_type": "execute_result"
    }
   ],
   "source": [
    "# Checking the columns available in the data\n",
    "df.columns"
   ]
  },
  {
   "cell_type": "code",
   "execution_count": 193,
   "metadata": {},
   "outputs": [
    {
     "data": {
      "text/html": [
       "<div>\n",
       "<style scoped>\n",
       "    .dataframe tbody tr th:only-of-type {\n",
       "        vertical-align: middle;\n",
       "    }\n",
       "\n",
       "    .dataframe tbody tr th {\n",
       "        vertical-align: top;\n",
       "    }\n",
       "\n",
       "    .dataframe thead th {\n",
       "        text-align: right;\n",
       "    }\n",
       "</style>\n",
       "<table border=\"1\" class=\"dataframe\">\n",
       "  <thead>\n",
       "    <tr style=\"text-align: right;\">\n",
       "      <th></th>\n",
       "      <th>question_id</th>\n",
       "      <th>poll_id</th>\n",
       "      <th>state</th>\n",
       "      <th>pollster</th>\n",
       "      <th>start_date</th>\n",
       "      <th>end_date</th>\n",
       "      <th>answer</th>\n",
       "      <th>pct</th>\n",
       "    </tr>\n",
       "  </thead>\n",
       "  <tbody>\n",
       "    <tr>\n",
       "      <th>0</th>\n",
       "      <td>133816</td>\n",
       "      <td>71450</td>\n",
       "      <td>Ohio</td>\n",
       "      <td>Rasmussen Reports/Pulse Opinion Research</td>\n",
       "      <td>10/18/20</td>\n",
       "      <td>10/19/20</td>\n",
       "      <td>Biden</td>\n",
       "      <td>48.0</td>\n",
       "    </tr>\n",
       "    <tr>\n",
       "      <th>1</th>\n",
       "      <td>133816</td>\n",
       "      <td>71450</td>\n",
       "      <td>Ohio</td>\n",
       "      <td>Rasmussen Reports/Pulse Opinion Research</td>\n",
       "      <td>10/18/20</td>\n",
       "      <td>10/19/20</td>\n",
       "      <td>Trump</td>\n",
       "      <td>47.0</td>\n",
       "    </tr>\n",
       "    <tr>\n",
       "      <th>2</th>\n",
       "      <td>133838</td>\n",
       "      <td>71457</td>\n",
       "      <td>Pennsylvania</td>\n",
       "      <td>Rasmussen Reports/Pulse Opinion Research</td>\n",
       "      <td>10/18/20</td>\n",
       "      <td>10/19/20</td>\n",
       "      <td>Biden</td>\n",
       "      <td>50.0</td>\n",
       "    </tr>\n",
       "    <tr>\n",
       "      <th>3</th>\n",
       "      <td>133838</td>\n",
       "      <td>71457</td>\n",
       "      <td>Pennsylvania</td>\n",
       "      <td>Rasmussen Reports/Pulse Opinion Research</td>\n",
       "      <td>10/18/20</td>\n",
       "      <td>10/19/20</td>\n",
       "      <td>Trump</td>\n",
       "      <td>47.0</td>\n",
       "    </tr>\n",
       "    <tr>\n",
       "      <th>4</th>\n",
       "      <td>133777</td>\n",
       "      <td>71435</td>\n",
       "      <td>Georgia</td>\n",
       "      <td>Emerson College</td>\n",
       "      <td>10/17/20</td>\n",
       "      <td>10/19/20</td>\n",
       "      <td>Biden</td>\n",
       "      <td>47.0</td>\n",
       "    </tr>\n",
       "  </tbody>\n",
       "</table>\n",
       "</div>"
      ],
      "text/plain": [
       "   question_id  poll_id         state  \\\n",
       "0       133816    71450          Ohio   \n",
       "1       133816    71450          Ohio   \n",
       "2       133838    71457  Pennsylvania   \n",
       "3       133838    71457  Pennsylvania   \n",
       "4       133777    71435       Georgia   \n",
       "\n",
       "                                   pollster start_date  end_date answer   pct  \n",
       "0  Rasmussen Reports/Pulse Opinion Research   10/18/20  10/19/20  Biden  48.0  \n",
       "1  Rasmussen Reports/Pulse Opinion Research   10/18/20  10/19/20  Trump  47.0  \n",
       "2  Rasmussen Reports/Pulse Opinion Research   10/18/20  10/19/20  Biden  50.0  \n",
       "3  Rasmussen Reports/Pulse Opinion Research   10/18/20  10/19/20  Trump  47.0  \n",
       "4                           Emerson College   10/17/20  10/19/20  Biden  47.0  "
      ]
     },
     "execution_count": 193,
     "metadata": {},
     "output_type": "execute_result"
    }
   ],
   "source": [
    "# Let's retain only the information that we'll use, specifically the final results of the poll.\n",
    "df = df[['question_id','poll_id','state', 'pollster','start_date','end_date','answer','pct']]\n",
    "df.head()"
   ]
  },
  {
   "cell_type": "code",
   "execution_count": 194,
   "metadata": {},
   "outputs": [
    {
     "name": "stdout",
     "output_type": "stream",
     "text": [
      "<class 'pandas.core.frame.DataFrame'>\n",
      "RangeIndex: 11909 entries, 0 to 11908\n",
      "Data columns (total 8 columns):\n",
      " #   Column       Non-Null Count  Dtype  \n",
      "---  ------       --------------  -----  \n",
      " 0   question_id  11909 non-null  int64  \n",
      " 1   poll_id      11909 non-null  int64  \n",
      " 2   state        7363 non-null   object \n",
      " 3   pollster     11909 non-null  object \n",
      " 4   start_date   11909 non-null  object \n",
      " 5   end_date     11909 non-null  object \n",
      " 6   answer       11909 non-null  object \n",
      " 7   pct          11909 non-null  float64\n",
      "dtypes: float64(1), int64(2), object(5)\n",
      "memory usage: 744.4+ KB\n"
     ]
    }
   ],
   "source": [
    "df.info()"
   ]
  },
  {
   "cell_type": "code",
   "execution_count": 195,
   "metadata": {},
   "outputs": [
    {
     "name": "stdout",
     "output_type": "stream",
     "text": [
      "<class 'pandas.core.frame.DataFrame'>\n",
      "RangeIndex: 11909 entries, 0 to 11908\n",
      "Data columns (total 8 columns):\n",
      " #   Column       Non-Null Count  Dtype         \n",
      "---  ------       --------------  -----         \n",
      " 0   question_id  11909 non-null  int64         \n",
      " 1   poll_id      11909 non-null  int64         \n",
      " 2   state        7363 non-null   object        \n",
      " 3   pollster     11909 non-null  object        \n",
      " 4   start_date   11909 non-null  datetime64[ns]\n",
      " 5   end_date     11909 non-null  datetime64[ns]\n",
      " 6   answer       11909 non-null  object        \n",
      " 7   pct          11909 non-null  float64       \n",
      "dtypes: datetime64[ns](2), float64(1), int64(2), object(3)\n",
      "memory usage: 744.4+ KB\n"
     ]
    },
    {
     "name": "stderr",
     "output_type": "stream",
     "text": [
      "C:\\Users\\Keith Fernandes\\AppData\\Local\\Temp\\ipykernel_12208\\3644650790.py:2: UserWarning:\n",
      "\n",
      "Could not infer format, so each element will be parsed individually, falling back to `dateutil`. To ensure parsing is consistent and as-expected, please specify a format.\n",
      "\n",
      "C:\\Users\\Keith Fernandes\\AppData\\Local\\Temp\\ipykernel_12208\\3644650790.py:3: UserWarning:\n",
      "\n",
      "Could not infer format, so each element will be parsed individually, falling back to `dateutil`. To ensure parsing is consistent and as-expected, please specify a format.\n",
      "\n"
     ]
    }
   ],
   "source": [
    "# Convertering data type of the 'start_date' & 'end_date' columns to datetime\n",
    "df['start_date'] = pd.to_datetime(df['start_date'])\n",
    "df['end_date'] = pd.to_datetime(df['end_date'])\n",
    "df.info()"
   ]
  },
  {
   "cell_type": "code",
   "execution_count": 196,
   "metadata": {},
   "outputs": [
    {
     "name": "stdout",
     "output_type": "stream",
     "text": [
      "196\n"
     ]
    }
   ],
   "source": [
    "# Number of unique Pollsters\n",
    "print((len(df.pollster.unique())))"
   ]
  },
  {
   "cell_type": "code",
   "execution_count": 197,
   "metadata": {},
   "outputs": [
    {
     "name": "stdout",
     "output_type": "stream",
     "text": [
      "2896\n"
     ]
    }
   ],
   "source": [
    "# Number of Polls conducted\n",
    "print((len(df.poll_id.unique())))"
   ]
  },
  {
   "cell_type": "code",
   "execution_count": 198,
   "metadata": {},
   "outputs": [
    {
     "data": {
      "text/html": [
       "<div>\n",
       "<style scoped>\n",
       "    .dataframe tbody tr th:only-of-type {\n",
       "        vertical-align: middle;\n",
       "    }\n",
       "\n",
       "    .dataframe tbody tr th {\n",
       "        vertical-align: top;\n",
       "    }\n",
       "\n",
       "    .dataframe thead th {\n",
       "        text-align: right;\n",
       "    }\n",
       "</style>\n",
       "<table border=\"1\" class=\"dataframe\">\n",
       "  <thead>\n",
       "    <tr style=\"text-align: right;\">\n",
       "      <th></th>\n",
       "      <th>question_id</th>\n",
       "      <th>poll_id</th>\n",
       "      <th>state</th>\n",
       "      <th>pollster</th>\n",
       "      <th>start_date</th>\n",
       "      <th>end_date</th>\n",
       "      <th>answer</th>\n",
       "      <th>pct</th>\n",
       "    </tr>\n",
       "  </thead>\n",
       "  <tbody>\n",
       "    <tr>\n",
       "      <th>0</th>\n",
       "      <td>133816</td>\n",
       "      <td>71450</td>\n",
       "      <td>Ohio</td>\n",
       "      <td>Rasmussen Reports/Pulse Opinion Research</td>\n",
       "      <td>2020-10-18</td>\n",
       "      <td>2020-10-19</td>\n",
       "      <td>Biden</td>\n",
       "      <td>48.0</td>\n",
       "    </tr>\n",
       "    <tr>\n",
       "      <th>1</th>\n",
       "      <td>133816</td>\n",
       "      <td>71450</td>\n",
       "      <td>Ohio</td>\n",
       "      <td>Rasmussen Reports/Pulse Opinion Research</td>\n",
       "      <td>2020-10-18</td>\n",
       "      <td>2020-10-19</td>\n",
       "      <td>Trump</td>\n",
       "      <td>47.0</td>\n",
       "    </tr>\n",
       "    <tr>\n",
       "      <th>2</th>\n",
       "      <td>133838</td>\n",
       "      <td>71457</td>\n",
       "      <td>Pennsylvania</td>\n",
       "      <td>Rasmussen Reports/Pulse Opinion Research</td>\n",
       "      <td>2020-10-18</td>\n",
       "      <td>2020-10-19</td>\n",
       "      <td>Biden</td>\n",
       "      <td>50.0</td>\n",
       "    </tr>\n",
       "    <tr>\n",
       "      <th>3</th>\n",
       "      <td>133838</td>\n",
       "      <td>71457</td>\n",
       "      <td>Pennsylvania</td>\n",
       "      <td>Rasmussen Reports/Pulse Opinion Research</td>\n",
       "      <td>2020-10-18</td>\n",
       "      <td>2020-10-19</td>\n",
       "      <td>Trump</td>\n",
       "      <td>47.0</td>\n",
       "    </tr>\n",
       "    <tr>\n",
       "      <th>4</th>\n",
       "      <td>133777</td>\n",
       "      <td>71435</td>\n",
       "      <td>Georgia</td>\n",
       "      <td>Emerson College</td>\n",
       "      <td>2020-10-17</td>\n",
       "      <td>2020-10-19</td>\n",
       "      <td>Biden</td>\n",
       "      <td>47.0</td>\n",
       "    </tr>\n",
       "    <tr>\n",
       "      <th>...</th>\n",
       "      <td>...</td>\n",
       "      <td>...</td>\n",
       "      <td>...</td>\n",
       "      <td>...</td>\n",
       "      <td>...</td>\n",
       "      <td>...</td>\n",
       "      <td>...</td>\n",
       "      <td>...</td>\n",
       "    </tr>\n",
       "    <tr>\n",
       "      <th>11904</th>\n",
       "      <td>92081</td>\n",
       "      <td>57026</td>\n",
       "      <td>Ohio</td>\n",
       "      <td>Public Policy Polling</td>\n",
       "      <td>2018-11-27</td>\n",
       "      <td>2018-11-28</td>\n",
       "      <td>Trump</td>\n",
       "      <td>46.0</td>\n",
       "    </tr>\n",
       "    <tr>\n",
       "      <th>11905</th>\n",
       "      <td>92082</td>\n",
       "      <td>57026</td>\n",
       "      <td>Ohio</td>\n",
       "      <td>Public Policy Polling</td>\n",
       "      <td>2018-11-27</td>\n",
       "      <td>2018-11-28</td>\n",
       "      <td>Warren</td>\n",
       "      <td>43.0</td>\n",
       "    </tr>\n",
       "    <tr>\n",
       "      <th>11906</th>\n",
       "      <td>92082</td>\n",
       "      <td>57026</td>\n",
       "      <td>Ohio</td>\n",
       "      <td>Public Policy Polling</td>\n",
       "      <td>2018-11-27</td>\n",
       "      <td>2018-11-28</td>\n",
       "      <td>Trump</td>\n",
       "      <td>49.0</td>\n",
       "    </tr>\n",
       "    <tr>\n",
       "      <th>11907</th>\n",
       "      <td>92078</td>\n",
       "      <td>57025</td>\n",
       "      <td>NaN</td>\n",
       "      <td>Rasmussen Reports/Pulse Opinion Research</td>\n",
       "      <td>2018-11-12</td>\n",
       "      <td>2018-11-13</td>\n",
       "      <td>Obama</td>\n",
       "      <td>50.0</td>\n",
       "    </tr>\n",
       "    <tr>\n",
       "      <th>11908</th>\n",
       "      <td>92078</td>\n",
       "      <td>57025</td>\n",
       "      <td>NaN</td>\n",
       "      <td>Rasmussen Reports/Pulse Opinion Research</td>\n",
       "      <td>2018-11-12</td>\n",
       "      <td>2018-11-13</td>\n",
       "      <td>Trump</td>\n",
       "      <td>43.0</td>\n",
       "    </tr>\n",
       "  </tbody>\n",
       "</table>\n",
       "<p>11909 rows × 8 columns</p>\n",
       "</div>"
      ],
      "text/plain": [
       "       question_id  poll_id         state  \\\n",
       "0           133816    71450          Ohio   \n",
       "1           133816    71450          Ohio   \n",
       "2           133838    71457  Pennsylvania   \n",
       "3           133838    71457  Pennsylvania   \n",
       "4           133777    71435       Georgia   \n",
       "...            ...      ...           ...   \n",
       "11904        92081    57026          Ohio   \n",
       "11905        92082    57026          Ohio   \n",
       "11906        92082    57026          Ohio   \n",
       "11907        92078    57025           NaN   \n",
       "11908        92078    57025           NaN   \n",
       "\n",
       "                                       pollster start_date   end_date  answer  \\\n",
       "0      Rasmussen Reports/Pulse Opinion Research 2020-10-18 2020-10-19   Biden   \n",
       "1      Rasmussen Reports/Pulse Opinion Research 2020-10-18 2020-10-19   Trump   \n",
       "2      Rasmussen Reports/Pulse Opinion Research 2020-10-18 2020-10-19   Biden   \n",
       "3      Rasmussen Reports/Pulse Opinion Research 2020-10-18 2020-10-19   Trump   \n",
       "4                               Emerson College 2020-10-17 2020-10-19   Biden   \n",
       "...                                         ...        ...        ...     ...   \n",
       "11904                     Public Policy Polling 2018-11-27 2018-11-28   Trump   \n",
       "11905                     Public Policy Polling 2018-11-27 2018-11-28  Warren   \n",
       "11906                     Public Policy Polling 2018-11-27 2018-11-28   Trump   \n",
       "11907  Rasmussen Reports/Pulse Opinion Research 2018-11-12 2018-11-13   Obama   \n",
       "11908  Rasmussen Reports/Pulse Opinion Research 2018-11-12 2018-11-13   Trump   \n",
       "\n",
       "        pct  \n",
       "0      48.0  \n",
       "1      47.0  \n",
       "2      50.0  \n",
       "3      47.0  \n",
       "4      47.0  \n",
       "...     ...  \n",
       "11904  46.0  \n",
       "11905  43.0  \n",
       "11906  49.0  \n",
       "11907  50.0  \n",
       "11908  43.0  \n",
       "\n",
       "[11909 rows x 8 columns]"
      ]
     },
     "execution_count": 198,
     "metadata": {},
     "output_type": "execute_result"
    }
   ],
   "source": [
    "df"
   ]
  },
  {
   "cell_type": "markdown",
   "metadata": {},
   "source": [
    "### 2. Cleaning and Exploring the data"
   ]
  },
  {
   "cell_type": "code",
   "execution_count": 199,
   "metadata": {},
   "outputs": [
    {
     "data": {
      "text/plain": [
       "0         True\n",
       "1         True\n",
       "2         True\n",
       "3         True\n",
       "4         True\n",
       "         ...  \n",
       "11904    False\n",
       "11905    False\n",
       "11906    False\n",
       "11907    False\n",
       "11908    False\n",
       "Length: 11909, dtype: bool"
      ]
     },
     "execution_count": 199,
     "metadata": {},
     "output_type": "execute_result"
    }
   ],
   "source": [
    "# Filtering out polls that aren't from the 3 months leading up to the November 2nd Election Data (Between August 1st and November 2nd 2020)\n",
    "start_date = '2020-08-01'\n",
    "end_date = '2020-11-02'\n",
    "\n",
    "mask = (df['start_date'] >= start_date) & (df['end_date'] <= end_date)\n",
    "mask"
   ]
  },
  {
   "cell_type": "code",
   "execution_count": 200,
   "metadata": {},
   "outputs": [
    {
     "data": {
      "text/html": [
       "<div>\n",
       "<style scoped>\n",
       "    .dataframe tbody tr th:only-of-type {\n",
       "        vertical-align: middle;\n",
       "    }\n",
       "\n",
       "    .dataframe tbody tr th {\n",
       "        vertical-align: top;\n",
       "    }\n",
       "\n",
       "    .dataframe thead th {\n",
       "        text-align: right;\n",
       "    }\n",
       "</style>\n",
       "<table border=\"1\" class=\"dataframe\">\n",
       "  <thead>\n",
       "    <tr style=\"text-align: right;\">\n",
       "      <th></th>\n",
       "      <th>question_id</th>\n",
       "      <th>poll_id</th>\n",
       "      <th>state</th>\n",
       "      <th>pollster</th>\n",
       "      <th>start_date</th>\n",
       "      <th>end_date</th>\n",
       "      <th>answer</th>\n",
       "      <th>pct</th>\n",
       "    </tr>\n",
       "  </thead>\n",
       "  <tbody>\n",
       "    <tr>\n",
       "      <th>0</th>\n",
       "      <td>133816</td>\n",
       "      <td>71450</td>\n",
       "      <td>Ohio</td>\n",
       "      <td>Rasmussen Reports/Pulse Opinion Research</td>\n",
       "      <td>2020-10-18</td>\n",
       "      <td>2020-10-19</td>\n",
       "      <td>Biden</td>\n",
       "      <td>48.00</td>\n",
       "    </tr>\n",
       "    <tr>\n",
       "      <th>1</th>\n",
       "      <td>133816</td>\n",
       "      <td>71450</td>\n",
       "      <td>Ohio</td>\n",
       "      <td>Rasmussen Reports/Pulse Opinion Research</td>\n",
       "      <td>2020-10-18</td>\n",
       "      <td>2020-10-19</td>\n",
       "      <td>Trump</td>\n",
       "      <td>47.00</td>\n",
       "    </tr>\n",
       "    <tr>\n",
       "      <th>2</th>\n",
       "      <td>133838</td>\n",
       "      <td>71457</td>\n",
       "      <td>Pennsylvania</td>\n",
       "      <td>Rasmussen Reports/Pulse Opinion Research</td>\n",
       "      <td>2020-10-18</td>\n",
       "      <td>2020-10-19</td>\n",
       "      <td>Biden</td>\n",
       "      <td>50.00</td>\n",
       "    </tr>\n",
       "    <tr>\n",
       "      <th>3</th>\n",
       "      <td>133838</td>\n",
       "      <td>71457</td>\n",
       "      <td>Pennsylvania</td>\n",
       "      <td>Rasmussen Reports/Pulse Opinion Research</td>\n",
       "      <td>2020-10-18</td>\n",
       "      <td>2020-10-19</td>\n",
       "      <td>Trump</td>\n",
       "      <td>47.00</td>\n",
       "    </tr>\n",
       "    <tr>\n",
       "      <th>4</th>\n",
       "      <td>133777</td>\n",
       "      <td>71435</td>\n",
       "      <td>Georgia</td>\n",
       "      <td>Emerson College</td>\n",
       "      <td>2020-10-17</td>\n",
       "      <td>2020-10-19</td>\n",
       "      <td>Biden</td>\n",
       "      <td>47.00</td>\n",
       "    </tr>\n",
       "    <tr>\n",
       "      <th>...</th>\n",
       "      <td>...</td>\n",
       "      <td>...</td>\n",
       "      <td>...</td>\n",
       "      <td>...</td>\n",
       "      <td>...</td>\n",
       "      <td>...</td>\n",
       "      <td>...</td>\n",
       "      <td>...</td>\n",
       "    </tr>\n",
       "    <tr>\n",
       "      <th>5288</th>\n",
       "      <td>127307</td>\n",
       "      <td>67986</td>\n",
       "      <td>NaN</td>\n",
       "      <td>Morning Consult</td>\n",
       "      <td>2020-08-01</td>\n",
       "      <td>2020-08-03</td>\n",
       "      <td>Trump</td>\n",
       "      <td>42.00</td>\n",
       "    </tr>\n",
       "    <tr>\n",
       "      <th>5289</th>\n",
       "      <td>132507</td>\n",
       "      <td>70853</td>\n",
       "      <td>NaN</td>\n",
       "      <td>SurveyMonkey</td>\n",
       "      <td>2020-08-01</td>\n",
       "      <td>2020-08-03</td>\n",
       "      <td>Biden</td>\n",
       "      <td>52.72</td>\n",
       "    </tr>\n",
       "    <tr>\n",
       "      <th>5290</th>\n",
       "      <td>132507</td>\n",
       "      <td>70853</td>\n",
       "      <td>NaN</td>\n",
       "      <td>SurveyMonkey</td>\n",
       "      <td>2020-08-01</td>\n",
       "      <td>2020-08-03</td>\n",
       "      <td>Trump</td>\n",
       "      <td>44.88</td>\n",
       "    </tr>\n",
       "    <tr>\n",
       "      <th>5291</th>\n",
       "      <td>132632</td>\n",
       "      <td>70853</td>\n",
       "      <td>NaN</td>\n",
       "      <td>SurveyMonkey</td>\n",
       "      <td>2020-08-01</td>\n",
       "      <td>2020-08-03</td>\n",
       "      <td>Biden</td>\n",
       "      <td>51.92</td>\n",
       "    </tr>\n",
       "    <tr>\n",
       "      <th>5292</th>\n",
       "      <td>132632</td>\n",
       "      <td>70853</td>\n",
       "      <td>NaN</td>\n",
       "      <td>SurveyMonkey</td>\n",
       "      <td>2020-08-01</td>\n",
       "      <td>2020-08-03</td>\n",
       "      <td>Trump</td>\n",
       "      <td>46.40</td>\n",
       "    </tr>\n",
       "  </tbody>\n",
       "</table>\n",
       "<p>5257 rows × 8 columns</p>\n",
       "</div>"
      ],
      "text/plain": [
       "      question_id  poll_id         state  \\\n",
       "0          133816    71450          Ohio   \n",
       "1          133816    71450          Ohio   \n",
       "2          133838    71457  Pennsylvania   \n",
       "3          133838    71457  Pennsylvania   \n",
       "4          133777    71435       Georgia   \n",
       "...           ...      ...           ...   \n",
       "5288       127307    67986           NaN   \n",
       "5289       132507    70853           NaN   \n",
       "5290       132507    70853           NaN   \n",
       "5291       132632    70853           NaN   \n",
       "5292       132632    70853           NaN   \n",
       "\n",
       "                                      pollster start_date   end_date answer  \\\n",
       "0     Rasmussen Reports/Pulse Opinion Research 2020-10-18 2020-10-19  Biden   \n",
       "1     Rasmussen Reports/Pulse Opinion Research 2020-10-18 2020-10-19  Trump   \n",
       "2     Rasmussen Reports/Pulse Opinion Research 2020-10-18 2020-10-19  Biden   \n",
       "3     Rasmussen Reports/Pulse Opinion Research 2020-10-18 2020-10-19  Trump   \n",
       "4                              Emerson College 2020-10-17 2020-10-19  Biden   \n",
       "...                                        ...        ...        ...    ...   \n",
       "5288                           Morning Consult 2020-08-01 2020-08-03  Trump   \n",
       "5289                              SurveyMonkey 2020-08-01 2020-08-03  Biden   \n",
       "5290                              SurveyMonkey 2020-08-01 2020-08-03  Trump   \n",
       "5291                              SurveyMonkey 2020-08-01 2020-08-03  Biden   \n",
       "5292                              SurveyMonkey 2020-08-01 2020-08-03  Trump   \n",
       "\n",
       "        pct  \n",
       "0     48.00  \n",
       "1     47.00  \n",
       "2     50.00  \n",
       "3     47.00  \n",
       "4     47.00  \n",
       "...     ...  \n",
       "5288  42.00  \n",
       "5289  52.72  \n",
       "5290  44.88  \n",
       "5291  51.92  \n",
       "5292  46.40  \n",
       "\n",
       "[5257 rows x 8 columns]"
      ]
     },
     "execution_count": 200,
     "metadata": {},
     "output_type": "execute_result"
    }
   ],
   "source": [
    "df = df.loc[mask]\n",
    "df"
   ]
  },
  {
   "cell_type": "code",
   "execution_count": 201,
   "metadata": {},
   "outputs": [
    {
     "data": {
      "text/plain": [
       "array(['Biden', 'Trump', 'Jorgensen', 'Hawkins', 'West', 'Pence',\n",
       "       'Harris', 'Blankenship', 'De La Fuente', 'La Riva', 'Pierce',\n",
       "       'Kennedy', 'Simmons'], dtype=object)"
      ]
     },
     "execution_count": 201,
     "metadata": {},
     "output_type": "execute_result"
    }
   ],
   "source": [
    "# All the candidates in the polls\n",
    "df.answer.unique()"
   ]
  },
  {
   "cell_type": "code",
   "execution_count": 202,
   "metadata": {},
   "outputs": [
    {
     "data": {
      "text/plain": [
       "array(['Biden', 'Trump'], dtype=object)"
      ]
     },
     "execution_count": 202,
     "metadata": {},
     "output_type": "execute_result"
    }
   ],
   "source": [
    "# Removing all 3rd party candidates\n",
    "candidates = ['Trump' , 'Biden']\n",
    "df = df.loc[df['answer'].isin(candidates)]\n",
    "df.answer.unique()"
   ]
  },
  {
   "cell_type": "code",
   "execution_count": 203,
   "metadata": {},
   "outputs": [
    {
     "name": "stdout",
     "output_type": "stream",
     "text": [
      "4648\n"
     ]
    }
   ],
   "source": [
    "print(len(df))"
   ]
  },
  {
   "cell_type": "code",
   "execution_count": 204,
   "metadata": {},
   "outputs": [
    {
     "name": "stdout",
     "output_type": "stream",
     "text": [
      "3202\n"
     ]
    }
   ],
   "source": [
    "# Removing National Polls labelled as NaN\n",
    "df = df[df['state'].notna()]\n",
    "print(len(df))\n"
   ]
  },
  {
   "cell_type": "code",
   "execution_count": 205,
   "metadata": {},
   "outputs": [
    {
     "data": {
      "text/plain": [
       "1062"
      ]
     },
     "execution_count": 205,
     "metadata": {},
     "output_type": "execute_result"
    }
   ],
   "source": [
    "len(df.poll_id.unique())"
   ]
  },
  {
   "cell_type": "code",
   "execution_count": 206,
   "metadata": {},
   "outputs": [
    {
     "data": {
      "text/html": [
       "<div>\n",
       "<style scoped>\n",
       "    .dataframe tbody tr th:only-of-type {\n",
       "        vertical-align: middle;\n",
       "    }\n",
       "\n",
       "    .dataframe tbody tr th {\n",
       "        vertical-align: top;\n",
       "    }\n",
       "\n",
       "    .dataframe thead th {\n",
       "        text-align: right;\n",
       "    }\n",
       "</style>\n",
       "<table border=\"1\" class=\"dataframe\">\n",
       "  <thead>\n",
       "    <tr style=\"text-align: right;\">\n",
       "      <th></th>\n",
       "      <th>question_id</th>\n",
       "      <th>poll_id</th>\n",
       "      <th>state</th>\n",
       "      <th>pollster</th>\n",
       "      <th>start_date</th>\n",
       "      <th>end_date</th>\n",
       "      <th>answer</th>\n",
       "      <th>pct</th>\n",
       "    </tr>\n",
       "  </thead>\n",
       "  <tbody>\n",
       "    <tr>\n",
       "      <th>0</th>\n",
       "      <td>133816</td>\n",
       "      <td>71450</td>\n",
       "      <td>Ohio</td>\n",
       "      <td>Rasmussen Reports/Pulse Opinion Research</td>\n",
       "      <td>2020-10-18</td>\n",
       "      <td>2020-10-19</td>\n",
       "      <td>Biden</td>\n",
       "      <td>48.0</td>\n",
       "    </tr>\n",
       "    <tr>\n",
       "      <th>1</th>\n",
       "      <td>133816</td>\n",
       "      <td>71450</td>\n",
       "      <td>Ohio</td>\n",
       "      <td>Rasmussen Reports/Pulse Opinion Research</td>\n",
       "      <td>2020-10-18</td>\n",
       "      <td>2020-10-19</td>\n",
       "      <td>Trump</td>\n",
       "      <td>47.0</td>\n",
       "    </tr>\n",
       "  </tbody>\n",
       "</table>\n",
       "</div>"
      ],
      "text/plain": [
       "   question_id  poll_id state                                  pollster  \\\n",
       "0       133816    71450  Ohio  Rasmussen Reports/Pulse Opinion Research   \n",
       "1       133816    71450  Ohio  Rasmussen Reports/Pulse Opinion Research   \n",
       "\n",
       "  start_date   end_date answer   pct  \n",
       "0 2020-10-18 2020-10-19  Biden  48.0  \n",
       "1 2020-10-18 2020-10-19  Trump  47.0  "
      ]
     },
     "execution_count": 206,
     "metadata": {},
     "output_type": "execute_result"
    }
   ],
   "source": [
    "# Each poll occupies 2 lines\n",
    "df.loc[df['poll_id'] == 71450]"
   ]
  },
  {
   "cell_type": "markdown",
   "metadata": {},
   "source": [
    "### 3. Changing the Data Layout"
   ]
  },
  {
   "cell_type": "code",
   "execution_count": 207,
   "metadata": {},
   "outputs": [
    {
     "data": {
      "text/plain": [
       "1          2\n",
       "2          3\n",
       "3          4\n",
       "4          5\n",
       "5          6\n",
       "        ... \n",
       "3198    3199\n",
       "3199    3200\n",
       "3200    3201\n",
       "3201    3202\n",
       "3202    3203\n",
       "Name: join_index, Length: 3202, dtype: int32"
      ]
     },
     "execution_count": 207,
     "metadata": {},
     "output_type": "execute_result"
    }
   ],
   "source": [
    "# Chaning the index to start with 1 instead of 0\n",
    "df.index = np.arange(1,len(df)+1)\n",
    "\n",
    "df['join_index'] = df.index + 1\n",
    "df['join_index']"
   ]
  },
  {
   "cell_type": "code",
   "execution_count": 208,
   "metadata": {},
   "outputs": [
    {
     "data": {
      "text/html": [
       "<div>\n",
       "<style scoped>\n",
       "    .dataframe tbody tr th:only-of-type {\n",
       "        vertical-align: middle;\n",
       "    }\n",
       "\n",
       "    .dataframe tbody tr th {\n",
       "        vertical-align: top;\n",
       "    }\n",
       "\n",
       "    .dataframe thead th {\n",
       "        text-align: right;\n",
       "    }\n",
       "</style>\n",
       "<table border=\"1\" class=\"dataframe\">\n",
       "  <thead>\n",
       "    <tr style=\"text-align: right;\">\n",
       "      <th></th>\n",
       "      <th>question_id</th>\n",
       "      <th>poll_id</th>\n",
       "      <th>state</th>\n",
       "      <th>pollster</th>\n",
       "      <th>start_date</th>\n",
       "      <th>end_date</th>\n",
       "      <th>answer</th>\n",
       "      <th>pct</th>\n",
       "      <th>join_index</th>\n",
       "    </tr>\n",
       "  </thead>\n",
       "  <tbody>\n",
       "    <tr>\n",
       "      <th>1</th>\n",
       "      <td>133816</td>\n",
       "      <td>71450</td>\n",
       "      <td>Ohio</td>\n",
       "      <td>Rasmussen Reports/Pulse Opinion Research</td>\n",
       "      <td>2020-10-18</td>\n",
       "      <td>2020-10-19</td>\n",
       "      <td>Biden</td>\n",
       "      <td>48.0</td>\n",
       "      <td>2</td>\n",
       "    </tr>\n",
       "    <tr>\n",
       "      <th>3</th>\n",
       "      <td>133838</td>\n",
       "      <td>71457</td>\n",
       "      <td>Pennsylvania</td>\n",
       "      <td>Rasmussen Reports/Pulse Opinion Research</td>\n",
       "      <td>2020-10-18</td>\n",
       "      <td>2020-10-19</td>\n",
       "      <td>Biden</td>\n",
       "      <td>50.0</td>\n",
       "      <td>4</td>\n",
       "    </tr>\n",
       "    <tr>\n",
       "      <th>5</th>\n",
       "      <td>133777</td>\n",
       "      <td>71435</td>\n",
       "      <td>Georgia</td>\n",
       "      <td>Emerson College</td>\n",
       "      <td>2020-10-17</td>\n",
       "      <td>2020-10-19</td>\n",
       "      <td>Biden</td>\n",
       "      <td>47.0</td>\n",
       "      <td>6</td>\n",
       "    </tr>\n",
       "    <tr>\n",
       "      <th>7</th>\n",
       "      <td>133664</td>\n",
       "      <td>71379</td>\n",
       "      <td>Pennsylvania</td>\n",
       "      <td>Ipsos</td>\n",
       "      <td>2020-10-13</td>\n",
       "      <td>2020-10-19</td>\n",
       "      <td>Biden</td>\n",
       "      <td>49.0</td>\n",
       "      <td>8</td>\n",
       "    </tr>\n",
       "    <tr>\n",
       "      <th>9</th>\n",
       "      <td>133666</td>\n",
       "      <td>71379</td>\n",
       "      <td>Pennsylvania</td>\n",
       "      <td>Ipsos</td>\n",
       "      <td>2020-10-13</td>\n",
       "      <td>2020-10-19</td>\n",
       "      <td>Biden</td>\n",
       "      <td>49.0</td>\n",
       "      <td>10</td>\n",
       "    </tr>\n",
       "  </tbody>\n",
       "</table>\n",
       "</div>"
      ],
      "text/plain": [
       "   question_id  poll_id         state  \\\n",
       "1       133816    71450          Ohio   \n",
       "3       133838    71457  Pennsylvania   \n",
       "5       133777    71435       Georgia   \n",
       "7       133664    71379  Pennsylvania   \n",
       "9       133666    71379  Pennsylvania   \n",
       "\n",
       "                                   pollster start_date   end_date answer  \\\n",
       "1  Rasmussen Reports/Pulse Opinion Research 2020-10-18 2020-10-19  Biden   \n",
       "3  Rasmussen Reports/Pulse Opinion Research 2020-10-18 2020-10-19  Biden   \n",
       "5                           Emerson College 2020-10-17 2020-10-19  Biden   \n",
       "7                                     Ipsos 2020-10-13 2020-10-19  Biden   \n",
       "9                                     Ipsos 2020-10-13 2020-10-19  Biden   \n",
       "\n",
       "    pct  join_index  \n",
       "1  48.0           2  \n",
       "3  50.0           4  \n",
       "5  47.0           6  \n",
       "7  49.0           8  \n",
       "9  49.0          10  "
      ]
     },
     "execution_count": 208,
     "metadata": {},
     "output_type": "execute_result"
    }
   ],
   "source": [
    "# Extracting the odd rows out\n",
    "odd_rows = df[df.index % 2 == 1]\n",
    "odd_rows.head()"
   ]
  },
  {
   "cell_type": "code",
   "execution_count": 209,
   "metadata": {},
   "outputs": [
    {
     "data": {
      "text/html": [
       "<div>\n",
       "<style scoped>\n",
       "    .dataframe tbody tr th:only-of-type {\n",
       "        vertical-align: middle;\n",
       "    }\n",
       "\n",
       "    .dataframe tbody tr th {\n",
       "        vertical-align: top;\n",
       "    }\n",
       "\n",
       "    .dataframe thead th {\n",
       "        text-align: right;\n",
       "    }\n",
       "</style>\n",
       "<table border=\"1\" class=\"dataframe\">\n",
       "  <thead>\n",
       "    <tr style=\"text-align: right;\">\n",
       "      <th></th>\n",
       "      <th>question_id</th>\n",
       "      <th>poll_id</th>\n",
       "      <th>state</th>\n",
       "      <th>pollster</th>\n",
       "      <th>start_date</th>\n",
       "      <th>end_date</th>\n",
       "      <th>answer</th>\n",
       "      <th>pct</th>\n",
       "      <th>join_index</th>\n",
       "      <th>question_idsecond</th>\n",
       "      <th>poll_idsecond</th>\n",
       "      <th>statesecond</th>\n",
       "      <th>pollstersecond</th>\n",
       "      <th>start_datesecond</th>\n",
       "      <th>end_datesecond</th>\n",
       "      <th>answersecond</th>\n",
       "      <th>pctsecond</th>\n",
       "      <th>join_indexsecond</th>\n",
       "    </tr>\n",
       "  </thead>\n",
       "  <tbody>\n",
       "    <tr>\n",
       "      <th>1</th>\n",
       "      <td>133816</td>\n",
       "      <td>71450</td>\n",
       "      <td>Ohio</td>\n",
       "      <td>Rasmussen Reports/Pulse Opinion Research</td>\n",
       "      <td>2020-10-18</td>\n",
       "      <td>2020-10-19</td>\n",
       "      <td>Biden</td>\n",
       "      <td>48.0</td>\n",
       "      <td>2</td>\n",
       "      <td>133816</td>\n",
       "      <td>71450</td>\n",
       "      <td>Ohio</td>\n",
       "      <td>Rasmussen Reports/Pulse Opinion Research</td>\n",
       "      <td>2020-10-18</td>\n",
       "      <td>2020-10-19</td>\n",
       "      <td>Trump</td>\n",
       "      <td>47.0</td>\n",
       "      <td>3</td>\n",
       "    </tr>\n",
       "    <tr>\n",
       "      <th>3</th>\n",
       "      <td>133838</td>\n",
       "      <td>71457</td>\n",
       "      <td>Pennsylvania</td>\n",
       "      <td>Rasmussen Reports/Pulse Opinion Research</td>\n",
       "      <td>2020-10-18</td>\n",
       "      <td>2020-10-19</td>\n",
       "      <td>Biden</td>\n",
       "      <td>50.0</td>\n",
       "      <td>4</td>\n",
       "      <td>133838</td>\n",
       "      <td>71457</td>\n",
       "      <td>Pennsylvania</td>\n",
       "      <td>Rasmussen Reports/Pulse Opinion Research</td>\n",
       "      <td>2020-10-18</td>\n",
       "      <td>2020-10-19</td>\n",
       "      <td>Trump</td>\n",
       "      <td>47.0</td>\n",
       "      <td>5</td>\n",
       "    </tr>\n",
       "    <tr>\n",
       "      <th>5</th>\n",
       "      <td>133777</td>\n",
       "      <td>71435</td>\n",
       "      <td>Georgia</td>\n",
       "      <td>Emerson College</td>\n",
       "      <td>2020-10-17</td>\n",
       "      <td>2020-10-19</td>\n",
       "      <td>Biden</td>\n",
       "      <td>47.0</td>\n",
       "      <td>6</td>\n",
       "      <td>133777</td>\n",
       "      <td>71435</td>\n",
       "      <td>Georgia</td>\n",
       "      <td>Emerson College</td>\n",
       "      <td>2020-10-17</td>\n",
       "      <td>2020-10-19</td>\n",
       "      <td>Trump</td>\n",
       "      <td>48.4</td>\n",
       "      <td>7</td>\n",
       "    </tr>\n",
       "    <tr>\n",
       "      <th>7</th>\n",
       "      <td>133664</td>\n",
       "      <td>71379</td>\n",
       "      <td>Pennsylvania</td>\n",
       "      <td>Ipsos</td>\n",
       "      <td>2020-10-13</td>\n",
       "      <td>2020-10-19</td>\n",
       "      <td>Biden</td>\n",
       "      <td>49.0</td>\n",
       "      <td>8</td>\n",
       "      <td>133664</td>\n",
       "      <td>71379</td>\n",
       "      <td>Pennsylvania</td>\n",
       "      <td>Ipsos</td>\n",
       "      <td>2020-10-13</td>\n",
       "      <td>2020-10-19</td>\n",
       "      <td>Trump</td>\n",
       "      <td>45.0</td>\n",
       "      <td>9</td>\n",
       "    </tr>\n",
       "    <tr>\n",
       "      <th>9</th>\n",
       "      <td>133666</td>\n",
       "      <td>71379</td>\n",
       "      <td>Pennsylvania</td>\n",
       "      <td>Ipsos</td>\n",
       "      <td>2020-10-13</td>\n",
       "      <td>2020-10-19</td>\n",
       "      <td>Biden</td>\n",
       "      <td>49.0</td>\n",
       "      <td>10</td>\n",
       "      <td>133666</td>\n",
       "      <td>71379</td>\n",
       "      <td>Pennsylvania</td>\n",
       "      <td>Ipsos</td>\n",
       "      <td>2020-10-13</td>\n",
       "      <td>2020-10-19</td>\n",
       "      <td>Trump</td>\n",
       "      <td>45.0</td>\n",
       "      <td>11</td>\n",
       "    </tr>\n",
       "    <tr>\n",
       "      <th>...</th>\n",
       "      <td>...</td>\n",
       "      <td>...</td>\n",
       "      <td>...</td>\n",
       "      <td>...</td>\n",
       "      <td>...</td>\n",
       "      <td>...</td>\n",
       "      <td>...</td>\n",
       "      <td>...</td>\n",
       "      <td>...</td>\n",
       "      <td>...</td>\n",
       "      <td>...</td>\n",
       "      <td>...</td>\n",
       "      <td>...</td>\n",
       "      <td>...</td>\n",
       "      <td>...</td>\n",
       "      <td>...</td>\n",
       "      <td>...</td>\n",
       "      <td>...</td>\n",
       "    </tr>\n",
       "    <tr>\n",
       "      <th>3193</th>\n",
       "      <td>127277</td>\n",
       "      <td>67973</td>\n",
       "      <td>Arizona</td>\n",
       "      <td>OH Predictive Insights</td>\n",
       "      <td>2020-08-03</td>\n",
       "      <td>2020-08-04</td>\n",
       "      <td>Biden</td>\n",
       "      <td>49.0</td>\n",
       "      <td>3194</td>\n",
       "      <td>127277</td>\n",
       "      <td>67973</td>\n",
       "      <td>Arizona</td>\n",
       "      <td>OH Predictive Insights</td>\n",
       "      <td>2020-08-03</td>\n",
       "      <td>2020-08-04</td>\n",
       "      <td>Trump</td>\n",
       "      <td>45.0</td>\n",
       "      <td>3195</td>\n",
       "    </tr>\n",
       "    <tr>\n",
       "      <th>3195</th>\n",
       "      <td>127577</td>\n",
       "      <td>68113</td>\n",
       "      <td>Arizona</td>\n",
       "      <td>OnMessage Inc.</td>\n",
       "      <td>2020-08-02</td>\n",
       "      <td>2020-08-04</td>\n",
       "      <td>Biden</td>\n",
       "      <td>48.0</td>\n",
       "      <td>3196</td>\n",
       "      <td>127577</td>\n",
       "      <td>68113</td>\n",
       "      <td>Arizona</td>\n",
       "      <td>OnMessage Inc.</td>\n",
       "      <td>2020-08-02</td>\n",
       "      <td>2020-08-04</td>\n",
       "      <td>Trump</td>\n",
       "      <td>51.0</td>\n",
       "      <td>3197</td>\n",
       "    </tr>\n",
       "    <tr>\n",
       "      <th>3197</th>\n",
       "      <td>127578</td>\n",
       "      <td>68114</td>\n",
       "      <td>Florida</td>\n",
       "      <td>OnMessage Inc.</td>\n",
       "      <td>2020-08-02</td>\n",
       "      <td>2020-08-04</td>\n",
       "      <td>Biden</td>\n",
       "      <td>49.0</td>\n",
       "      <td>3198</td>\n",
       "      <td>127578</td>\n",
       "      <td>68114</td>\n",
       "      <td>Florida</td>\n",
       "      <td>OnMessage Inc.</td>\n",
       "      <td>2020-08-02</td>\n",
       "      <td>2020-08-04</td>\n",
       "      <td>Trump</td>\n",
       "      <td>49.0</td>\n",
       "      <td>3199</td>\n",
       "    </tr>\n",
       "    <tr>\n",
       "      <th>3199</th>\n",
       "      <td>127579</td>\n",
       "      <td>68115</td>\n",
       "      <td>Pennsylvania</td>\n",
       "      <td>OnMessage Inc.</td>\n",
       "      <td>2020-08-02</td>\n",
       "      <td>2020-08-04</td>\n",
       "      <td>Biden</td>\n",
       "      <td>50.0</td>\n",
       "      <td>3200</td>\n",
       "      <td>127579</td>\n",
       "      <td>68115</td>\n",
       "      <td>Pennsylvania</td>\n",
       "      <td>OnMessage Inc.</td>\n",
       "      <td>2020-08-02</td>\n",
       "      <td>2020-08-04</td>\n",
       "      <td>Trump</td>\n",
       "      <td>46.0</td>\n",
       "      <td>3201</td>\n",
       "    </tr>\n",
       "    <tr>\n",
       "      <th>3201</th>\n",
       "      <td>127580</td>\n",
       "      <td>68116</td>\n",
       "      <td>Wisconsin</td>\n",
       "      <td>OnMessage Inc.</td>\n",
       "      <td>2020-08-02</td>\n",
       "      <td>2020-08-04</td>\n",
       "      <td>Biden</td>\n",
       "      <td>47.0</td>\n",
       "      <td>3202</td>\n",
       "      <td>127580</td>\n",
       "      <td>68116</td>\n",
       "      <td>Wisconsin</td>\n",
       "      <td>OnMessage Inc.</td>\n",
       "      <td>2020-08-02</td>\n",
       "      <td>2020-08-04</td>\n",
       "      <td>Trump</td>\n",
       "      <td>47.0</td>\n",
       "      <td>3203</td>\n",
       "    </tr>\n",
       "  </tbody>\n",
       "</table>\n",
       "<p>1601 rows × 18 columns</p>\n",
       "</div>"
      ],
      "text/plain": [
       "      question_id  poll_id         state  \\\n",
       "1          133816    71450          Ohio   \n",
       "3          133838    71457  Pennsylvania   \n",
       "5          133777    71435       Georgia   \n",
       "7          133664    71379  Pennsylvania   \n",
       "9          133666    71379  Pennsylvania   \n",
       "...           ...      ...           ...   \n",
       "3193       127277    67973       Arizona   \n",
       "3195       127577    68113       Arizona   \n",
       "3197       127578    68114       Florida   \n",
       "3199       127579    68115  Pennsylvania   \n",
       "3201       127580    68116     Wisconsin   \n",
       "\n",
       "                                      pollster start_date   end_date answer  \\\n",
       "1     Rasmussen Reports/Pulse Opinion Research 2020-10-18 2020-10-19  Biden   \n",
       "3     Rasmussen Reports/Pulse Opinion Research 2020-10-18 2020-10-19  Biden   \n",
       "5                              Emerson College 2020-10-17 2020-10-19  Biden   \n",
       "7                                        Ipsos 2020-10-13 2020-10-19  Biden   \n",
       "9                                        Ipsos 2020-10-13 2020-10-19  Biden   \n",
       "...                                        ...        ...        ...    ...   \n",
       "3193                    OH Predictive Insights 2020-08-03 2020-08-04  Biden   \n",
       "3195                            OnMessage Inc. 2020-08-02 2020-08-04  Biden   \n",
       "3197                            OnMessage Inc. 2020-08-02 2020-08-04  Biden   \n",
       "3199                            OnMessage Inc. 2020-08-02 2020-08-04  Biden   \n",
       "3201                            OnMessage Inc. 2020-08-02 2020-08-04  Biden   \n",
       "\n",
       "       pct  join_index  question_idsecond  poll_idsecond   statesecond  \\\n",
       "1     48.0           2             133816          71450          Ohio   \n",
       "3     50.0           4             133838          71457  Pennsylvania   \n",
       "5     47.0           6             133777          71435       Georgia   \n",
       "7     49.0           8             133664          71379  Pennsylvania   \n",
       "9     49.0          10             133666          71379  Pennsylvania   \n",
       "...    ...         ...                ...            ...           ...   \n",
       "3193  49.0        3194             127277          67973       Arizona   \n",
       "3195  48.0        3196             127577          68113       Arizona   \n",
       "3197  49.0        3198             127578          68114       Florida   \n",
       "3199  50.0        3200             127579          68115  Pennsylvania   \n",
       "3201  47.0        3202             127580          68116     Wisconsin   \n",
       "\n",
       "                                pollstersecond start_datesecond  \\\n",
       "1     Rasmussen Reports/Pulse Opinion Research       2020-10-18   \n",
       "3     Rasmussen Reports/Pulse Opinion Research       2020-10-18   \n",
       "5                              Emerson College       2020-10-17   \n",
       "7                                        Ipsos       2020-10-13   \n",
       "9                                        Ipsos       2020-10-13   \n",
       "...                                        ...              ...   \n",
       "3193                    OH Predictive Insights       2020-08-03   \n",
       "3195                            OnMessage Inc.       2020-08-02   \n",
       "3197                            OnMessage Inc.       2020-08-02   \n",
       "3199                            OnMessage Inc.       2020-08-02   \n",
       "3201                            OnMessage Inc.       2020-08-02   \n",
       "\n",
       "     end_datesecond answersecond  pctsecond  join_indexsecond  \n",
       "1        2020-10-19        Trump       47.0                 3  \n",
       "3        2020-10-19        Trump       47.0                 5  \n",
       "5        2020-10-19        Trump       48.4                 7  \n",
       "7        2020-10-19        Trump       45.0                 9  \n",
       "9        2020-10-19        Trump       45.0                11  \n",
       "...             ...          ...        ...               ...  \n",
       "3193     2020-08-04        Trump       45.0              3195  \n",
       "3195     2020-08-04        Trump       51.0              3197  \n",
       "3197     2020-08-04        Trump       49.0              3199  \n",
       "3199     2020-08-04        Trump       46.0              3201  \n",
       "3201     2020-08-04        Trump       47.0              3203  \n",
       "\n",
       "[1601 rows x 18 columns]"
      ]
     },
     "execution_count": 209,
     "metadata": {},
     "output_type": "execute_result"
    }
   ],
   "source": [
    "# Putting the polls with the same poll_id on the same line for easier data processing\n",
    "grouped = odd_rows.join(df, on='join_index' ,rsuffix='second')\n",
    "grouped"
   ]
  },
  {
   "cell_type": "code",
   "execution_count": 210,
   "metadata": {},
   "outputs": [
    {
     "data": {
      "text/html": [
       "<div>\n",
       "<style scoped>\n",
       "    .dataframe tbody tr th:only-of-type {\n",
       "        vertical-align: middle;\n",
       "    }\n",
       "\n",
       "    .dataframe tbody tr th {\n",
       "        vertical-align: top;\n",
       "    }\n",
       "\n",
       "    .dataframe thead th {\n",
       "        text-align: right;\n",
       "    }\n",
       "</style>\n",
       "<table border=\"1\" class=\"dataframe\">\n",
       "  <thead>\n",
       "    <tr style=\"text-align: right;\">\n",
       "      <th></th>\n",
       "      <th>question_id</th>\n",
       "      <th>poll_id</th>\n",
       "      <th>state</th>\n",
       "      <th>pollster</th>\n",
       "      <th>start_date</th>\n",
       "      <th>end_date</th>\n",
       "      <th>answer</th>\n",
       "      <th>pct</th>\n",
       "      <th>answersecond</th>\n",
       "      <th>pctsecond</th>\n",
       "    </tr>\n",
       "  </thead>\n",
       "  <tbody>\n",
       "    <tr>\n",
       "      <th>1</th>\n",
       "      <td>133816</td>\n",
       "      <td>71450</td>\n",
       "      <td>Ohio</td>\n",
       "      <td>Rasmussen Reports/Pulse Opinion Research</td>\n",
       "      <td>2020-10-18</td>\n",
       "      <td>2020-10-19</td>\n",
       "      <td>Biden</td>\n",
       "      <td>48.0</td>\n",
       "      <td>Trump</td>\n",
       "      <td>47.0</td>\n",
       "    </tr>\n",
       "    <tr>\n",
       "      <th>3</th>\n",
       "      <td>133838</td>\n",
       "      <td>71457</td>\n",
       "      <td>Pennsylvania</td>\n",
       "      <td>Rasmussen Reports/Pulse Opinion Research</td>\n",
       "      <td>2020-10-18</td>\n",
       "      <td>2020-10-19</td>\n",
       "      <td>Biden</td>\n",
       "      <td>50.0</td>\n",
       "      <td>Trump</td>\n",
       "      <td>47.0</td>\n",
       "    </tr>\n",
       "    <tr>\n",
       "      <th>5</th>\n",
       "      <td>133777</td>\n",
       "      <td>71435</td>\n",
       "      <td>Georgia</td>\n",
       "      <td>Emerson College</td>\n",
       "      <td>2020-10-17</td>\n",
       "      <td>2020-10-19</td>\n",
       "      <td>Biden</td>\n",
       "      <td>47.0</td>\n",
       "      <td>Trump</td>\n",
       "      <td>48.4</td>\n",
       "    </tr>\n",
       "    <tr>\n",
       "      <th>7</th>\n",
       "      <td>133664</td>\n",
       "      <td>71379</td>\n",
       "      <td>Pennsylvania</td>\n",
       "      <td>Ipsos</td>\n",
       "      <td>2020-10-13</td>\n",
       "      <td>2020-10-19</td>\n",
       "      <td>Biden</td>\n",
       "      <td>49.0</td>\n",
       "      <td>Trump</td>\n",
       "      <td>45.0</td>\n",
       "    </tr>\n",
       "    <tr>\n",
       "      <th>9</th>\n",
       "      <td>133666</td>\n",
       "      <td>71379</td>\n",
       "      <td>Pennsylvania</td>\n",
       "      <td>Ipsos</td>\n",
       "      <td>2020-10-13</td>\n",
       "      <td>2020-10-19</td>\n",
       "      <td>Biden</td>\n",
       "      <td>49.0</td>\n",
       "      <td>Trump</td>\n",
       "      <td>45.0</td>\n",
       "    </tr>\n",
       "  </tbody>\n",
       "</table>\n",
       "</div>"
      ],
      "text/plain": [
       "   question_id  poll_id         state  \\\n",
       "1       133816    71450          Ohio   \n",
       "3       133838    71457  Pennsylvania   \n",
       "5       133777    71435       Georgia   \n",
       "7       133664    71379  Pennsylvania   \n",
       "9       133666    71379  Pennsylvania   \n",
       "\n",
       "                                   pollster start_date   end_date answer  \\\n",
       "1  Rasmussen Reports/Pulse Opinion Research 2020-10-18 2020-10-19  Biden   \n",
       "3  Rasmussen Reports/Pulse Opinion Research 2020-10-18 2020-10-19  Biden   \n",
       "5                           Emerson College 2020-10-17 2020-10-19  Biden   \n",
       "7                                     Ipsos 2020-10-13 2020-10-19  Biden   \n",
       "9                                     Ipsos 2020-10-13 2020-10-19  Biden   \n",
       "\n",
       "    pct answersecond  pctsecond  \n",
       "1  48.0        Trump       47.0  \n",
       "3  50.0        Trump       47.0  \n",
       "5  47.0        Trump       48.4  \n",
       "7  49.0        Trump       45.0  \n",
       "9  49.0        Trump       45.0  "
      ]
     },
     "execution_count": 210,
     "metadata": {},
     "output_type": "execute_result"
    }
   ],
   "source": [
    "# Removing all the repeated columns to make the data cleaner\n",
    "grouped = grouped.loc[:,['question_id', 'poll_id', 'state', 'pollster', 'start_date', 'end_date',\n",
    "       'answer', 'pct','answersecond', 'pctsecond']]\n",
    "grouped.head()"
   ]
  },
  {
   "cell_type": "code",
   "execution_count": 211,
   "metadata": {},
   "outputs": [
    {
     "data": {
      "text/plain": [
       "array(['Biden'], dtype=object)"
      ]
     },
     "execution_count": 211,
     "metadata": {},
     "output_type": "execute_result"
    }
   ],
   "source": [
    "grouped.answer.unique()"
   ]
  },
  {
   "cell_type": "code",
   "execution_count": 212,
   "metadata": {},
   "outputs": [
    {
     "data": {
      "text/plain": [
       "array(['Trump'], dtype=object)"
      ]
     },
     "execution_count": 212,
     "metadata": {},
     "output_type": "execute_result"
    }
   ],
   "source": [
    "grouped.answersecond.unique()"
   ]
  },
  {
   "cell_type": "code",
   "execution_count": 213,
   "metadata": {},
   "outputs": [
    {
     "data": {
      "text/html": [
       "<div>\n",
       "<style scoped>\n",
       "    .dataframe tbody tr th:only-of-type {\n",
       "        vertical-align: middle;\n",
       "    }\n",
       "\n",
       "    .dataframe tbody tr th {\n",
       "        vertical-align: top;\n",
       "    }\n",
       "\n",
       "    .dataframe thead th {\n",
       "        text-align: right;\n",
       "    }\n",
       "</style>\n",
       "<table border=\"1\" class=\"dataframe\">\n",
       "  <thead>\n",
       "    <tr style=\"text-align: right;\">\n",
       "      <th></th>\n",
       "      <th>question_id</th>\n",
       "      <th>poll_id</th>\n",
       "      <th>state</th>\n",
       "      <th>pollster</th>\n",
       "      <th>start_date</th>\n",
       "      <th>end_date</th>\n",
       "      <th>Biden</th>\n",
       "      <th>Trump</th>\n",
       "    </tr>\n",
       "  </thead>\n",
       "  <tbody>\n",
       "    <tr>\n",
       "      <th>1</th>\n",
       "      <td>133816</td>\n",
       "      <td>71450</td>\n",
       "      <td>Ohio</td>\n",
       "      <td>Rasmussen Reports/Pulse Opinion Research</td>\n",
       "      <td>2020-10-18</td>\n",
       "      <td>2020-10-19</td>\n",
       "      <td>48.0</td>\n",
       "      <td>47.0</td>\n",
       "    </tr>\n",
       "    <tr>\n",
       "      <th>3</th>\n",
       "      <td>133838</td>\n",
       "      <td>71457</td>\n",
       "      <td>Pennsylvania</td>\n",
       "      <td>Rasmussen Reports/Pulse Opinion Research</td>\n",
       "      <td>2020-10-18</td>\n",
       "      <td>2020-10-19</td>\n",
       "      <td>50.0</td>\n",
       "      <td>47.0</td>\n",
       "    </tr>\n",
       "    <tr>\n",
       "      <th>5</th>\n",
       "      <td>133777</td>\n",
       "      <td>71435</td>\n",
       "      <td>Georgia</td>\n",
       "      <td>Emerson College</td>\n",
       "      <td>2020-10-17</td>\n",
       "      <td>2020-10-19</td>\n",
       "      <td>47.0</td>\n",
       "      <td>48.4</td>\n",
       "    </tr>\n",
       "    <tr>\n",
       "      <th>7</th>\n",
       "      <td>133664</td>\n",
       "      <td>71379</td>\n",
       "      <td>Pennsylvania</td>\n",
       "      <td>Ipsos</td>\n",
       "      <td>2020-10-13</td>\n",
       "      <td>2020-10-19</td>\n",
       "      <td>49.0</td>\n",
       "      <td>45.0</td>\n",
       "    </tr>\n",
       "    <tr>\n",
       "      <th>9</th>\n",
       "      <td>133666</td>\n",
       "      <td>71379</td>\n",
       "      <td>Pennsylvania</td>\n",
       "      <td>Ipsos</td>\n",
       "      <td>2020-10-13</td>\n",
       "      <td>2020-10-19</td>\n",
       "      <td>49.0</td>\n",
       "      <td>45.0</td>\n",
       "    </tr>\n",
       "  </tbody>\n",
       "</table>\n",
       "</div>"
      ],
      "text/plain": [
       "   question_id  poll_id         state  \\\n",
       "1       133816    71450          Ohio   \n",
       "3       133838    71457  Pennsylvania   \n",
       "5       133777    71435       Georgia   \n",
       "7       133664    71379  Pennsylvania   \n",
       "9       133666    71379  Pennsylvania   \n",
       "\n",
       "                                   pollster start_date   end_date  Biden  \\\n",
       "1  Rasmussen Reports/Pulse Opinion Research 2020-10-18 2020-10-19   48.0   \n",
       "3  Rasmussen Reports/Pulse Opinion Research 2020-10-18 2020-10-19   50.0   \n",
       "5                           Emerson College 2020-10-17 2020-10-19   47.0   \n",
       "7                                     Ipsos 2020-10-13 2020-10-19   49.0   \n",
       "9                                     Ipsos 2020-10-13 2020-10-19   49.0   \n",
       "\n",
       "   Trump  \n",
       "1   47.0  \n",
       "3   47.0  \n",
       "5   48.4  \n",
       "7   45.0  \n",
       "9   45.0  "
      ]
     },
     "execution_count": 213,
     "metadata": {},
     "output_type": "execute_result"
    }
   ],
   "source": [
    "# Renaming the column 'pct' to 'Biden' and the column 'pctsecond' to 'Trump' as they contain the respective percentages of that candidate for the specific poll\n",
    "# Removing the columns 'answer' and 'answersecond' to make the data cleaner\n",
    "grouped.rename(columns={'pct' : 'Biden', 'pctsecond' : 'Trump'}, inplace=True)\n",
    "grouped.drop(['answer', 'answersecond'], axis=1, inplace=True)\n",
    "grouped.head()"
   ]
  },
  {
   "cell_type": "code",
   "execution_count": 214,
   "metadata": {},
   "outputs": [
    {
     "data": {
      "text/plain": [
       "array(['Ohio', 'Pennsylvania', 'Georgia', 'Wisconsin', 'Michigan',\n",
       "       'Arizona', 'Texas', 'North Carolina', 'Wyoming', 'West Virginia',\n",
       "       'Vermont', 'Virginia', 'Utah', 'South Dakota', 'South Carolina',\n",
       "       'Oregon', 'Oklahoma', 'Nevada', 'New Mexico', 'New Jersey',\n",
       "       'New Hampshire', 'Nebraska', 'North Dakota', 'Montana',\n",
       "       'Mississippi', 'Minnesota', 'Maine', 'Maryland', 'Massachusetts',\n",
       "       'Kentucky', 'Kansas', 'Indiana', 'Illinois', 'Idaho', 'Iowa',\n",
       "       'Hawaii', 'Delaware', 'Connecticut', 'Arkansas', 'Alabama',\n",
       "       'District of Columbia', 'Washington', 'Tennessee', 'Rhode Island',\n",
       "       'New York', 'Missouri', 'Louisiana', 'Florida', 'Colorado',\n",
       "       'California', 'Alaska', 'Maine CD-1', 'Maine CD-2',\n",
       "       'Nebraska CD-2'], dtype=object)"
      ]
     },
     "execution_count": 214,
     "metadata": {},
     "output_type": "execute_result"
    }
   ],
   "source": [
    "grouped.state.unique()"
   ]
  },
  {
   "cell_type": "code",
   "execution_count": 215,
   "metadata": {},
   "outputs": [
    {
     "data": {
      "text/plain": [
       "array(['Ohio', 'Pennsylvania', 'Georgia', 'Wisconsin', 'Michigan',\n",
       "       'Arizona', 'Texas', 'North Carolina', 'Wyoming', 'West Virginia',\n",
       "       'Vermont', 'Virginia', 'Utah', 'South Dakota', 'South Carolina',\n",
       "       'Oregon', 'Oklahoma', 'Nevada', 'New Mexico', 'New Jersey',\n",
       "       'New Hampshire', 'Nebraska', 'North Dakota', 'Montana',\n",
       "       'Mississippi', 'Minnesota', 'Maine', 'Maryland', 'Massachusetts',\n",
       "       'Kentucky', 'Kansas', 'Indiana', 'Illinois', 'Idaho', 'Iowa',\n",
       "       'Hawaii', 'Delaware', 'Connecticut', 'Arkansas', 'Alabama',\n",
       "       'District of Columbia', 'Washington', 'Tennessee', 'Rhode Island',\n",
       "       'New York', 'Missouri', 'Louisiana', 'Florida', 'Colorado',\n",
       "       'California', 'Alaska'], dtype=object)"
      ]
     },
     "execution_count": 215,
     "metadata": {},
     "output_type": "execute_result"
    }
   ],
   "source": [
    "#Removing the suffix of 'CD-1' & 'CD-2' from the state names\n",
    "grouped['state'] = grouped['state'].str.replace(r' CD-1','')\n",
    "grouped['state'] = grouped['state'].str.replace(r' CD-2','')\n",
    "grouped.state.unique()"
   ]
  },
  {
   "cell_type": "markdown",
   "metadata": {},
   "source": [
    "#### In the US Electral Process there are 538 Seats and a candidate requires 270 to win.\n",
    "##### The USA Electral Map\n",
    "![alt text](https://classroommagazines.scholastic.com/content/dam/classroom-magazines/magazines/election/election-2020/civics-in-action/the-electoral-college/ELECTION_ELECTORALCOLLEGE_HEADER_MAP.jpg)"
   ]
  },
  {
   "cell_type": "code",
   "execution_count": 216,
   "metadata": {},
   "outputs": [],
   "source": [
    "# Assigning each state with their number of seats\n",
    "states = {\n",
    "    \"Alabama\": 9,\n",
    "    \"Alaska\": 3,\n",
    "    \"Arizona\": 11,\n",
    "    \"Arkansas\": 6,\n",
    "    \"California\": 55,\n",
    "    \"Colorado\": 9,\n",
    "    \"Connecticut\": 7,\n",
    "    \"Delaware\": 3,\n",
    "    \"District of Columbia\": 3,\n",
    "    \"Florida\": 29,\n",
    "    \"Georgia\": 16,\n",
    "    \"Hawaii\": 4,\n",
    "    \"Idaho\": 4,\n",
    "    \"Illinois\": 20,\n",
    "    \"Indiana\": 11,\n",
    "    \"Iowa\": 6,\n",
    "    \"Kansas\": 6,\n",
    "    \"Kentucky\": 8,\n",
    "    \"Louisiana\": 8,\n",
    "    \"Maine\": 4,\n",
    "    \"Maryland\": 10,\n",
    "    \"Massachusetts\": 11,\n",
    "    \"Michigan\": 16,\n",
    "    \"Minnesota\": 10,\n",
    "    \"Mississippi\": 6,\n",
    "    \"Missouri\": 10,\n",
    "    \"Montana\": 3,\n",
    "    \"Nebraska\": 5,\n",
    "    \"Nevada\": 6,\n",
    "    \"New Hampshire\": 4,\n",
    "    \"New Jersey\": 14,\n",
    "    \"New Mexico\": 5,\n",
    "    \"New York\": 29,\n",
    "    \"North Carolina\": 15,\n",
    "    \"North Dakota\": 3,\n",
    "    \"Ohio\": 18,\n",
    "    \"Oklahoma\": 7,\n",
    "    \"Oregon\": 7,\n",
    "    \"Pennsylvania\": 20,\n",
    "    \"Rhode Island\": 4,\n",
    "    \"South Carolina\": 9,\n",
    "    \"South Dakota\": 3,\n",
    "    \"Tennessee\": 11,\n",
    "    \"Texas\": 38,\n",
    "    \"Utah\": 6,\n",
    "    \"Vermont\": 3,\n",
    "    \"Virginia\": 13,\n",
    "    \"Washington\": 12,\n",
    "    \"West Virginia\": 5,\n",
    "    \"Wisconsin\": 10,\n",
    "    \"Wyoming\": 3,\n",
    "}"
   ]
  },
  {
   "cell_type": "code",
   "execution_count": 217,
   "metadata": {},
   "outputs": [
    {
     "data": {
      "text/html": [
       "<div>\n",
       "<style scoped>\n",
       "    .dataframe tbody tr th:only-of-type {\n",
       "        vertical-align: middle;\n",
       "    }\n",
       "\n",
       "    .dataframe tbody tr th {\n",
       "        vertical-align: top;\n",
       "    }\n",
       "\n",
       "    .dataframe thead th {\n",
       "        text-align: right;\n",
       "    }\n",
       "</style>\n",
       "<table border=\"1\" class=\"dataframe\">\n",
       "  <thead>\n",
       "    <tr style=\"text-align: right;\">\n",
       "      <th></th>\n",
       "      <th>question_id</th>\n",
       "      <th>poll_id</th>\n",
       "      <th>state</th>\n",
       "      <th>pollster</th>\n",
       "      <th>start_date</th>\n",
       "      <th>end_date</th>\n",
       "      <th>Biden</th>\n",
       "      <th>Trump</th>\n",
       "      <th>Seats</th>\n",
       "    </tr>\n",
       "  </thead>\n",
       "  <tbody>\n",
       "    <tr>\n",
       "      <th>1</th>\n",
       "      <td>133816</td>\n",
       "      <td>71450</td>\n",
       "      <td>Ohio</td>\n",
       "      <td>Rasmussen Reports/Pulse Opinion Research</td>\n",
       "      <td>2020-10-18</td>\n",
       "      <td>2020-10-19</td>\n",
       "      <td>48.0</td>\n",
       "      <td>47.0</td>\n",
       "      <td>18</td>\n",
       "    </tr>\n",
       "    <tr>\n",
       "      <th>3</th>\n",
       "      <td>133838</td>\n",
       "      <td>71457</td>\n",
       "      <td>Pennsylvania</td>\n",
       "      <td>Rasmussen Reports/Pulse Opinion Research</td>\n",
       "      <td>2020-10-18</td>\n",
       "      <td>2020-10-19</td>\n",
       "      <td>50.0</td>\n",
       "      <td>47.0</td>\n",
       "      <td>20</td>\n",
       "    </tr>\n",
       "    <tr>\n",
       "      <th>5</th>\n",
       "      <td>133777</td>\n",
       "      <td>71435</td>\n",
       "      <td>Georgia</td>\n",
       "      <td>Emerson College</td>\n",
       "      <td>2020-10-17</td>\n",
       "      <td>2020-10-19</td>\n",
       "      <td>47.0</td>\n",
       "      <td>48.4</td>\n",
       "      <td>16</td>\n",
       "    </tr>\n",
       "    <tr>\n",
       "      <th>7</th>\n",
       "      <td>133664</td>\n",
       "      <td>71379</td>\n",
       "      <td>Pennsylvania</td>\n",
       "      <td>Ipsos</td>\n",
       "      <td>2020-10-13</td>\n",
       "      <td>2020-10-19</td>\n",
       "      <td>49.0</td>\n",
       "      <td>45.0</td>\n",
       "      <td>20</td>\n",
       "    </tr>\n",
       "    <tr>\n",
       "      <th>9</th>\n",
       "      <td>133666</td>\n",
       "      <td>71379</td>\n",
       "      <td>Pennsylvania</td>\n",
       "      <td>Ipsos</td>\n",
       "      <td>2020-10-13</td>\n",
       "      <td>2020-10-19</td>\n",
       "      <td>49.0</td>\n",
       "      <td>45.0</td>\n",
       "      <td>20</td>\n",
       "    </tr>\n",
       "    <tr>\n",
       "      <th>...</th>\n",
       "      <td>...</td>\n",
       "      <td>...</td>\n",
       "      <td>...</td>\n",
       "      <td>...</td>\n",
       "      <td>...</td>\n",
       "      <td>...</td>\n",
       "      <td>...</td>\n",
       "      <td>...</td>\n",
       "      <td>...</td>\n",
       "    </tr>\n",
       "    <tr>\n",
       "      <th>3193</th>\n",
       "      <td>127277</td>\n",
       "      <td>67973</td>\n",
       "      <td>Arizona</td>\n",
       "      <td>OH Predictive Insights</td>\n",
       "      <td>2020-08-03</td>\n",
       "      <td>2020-08-04</td>\n",
       "      <td>49.0</td>\n",
       "      <td>45.0</td>\n",
       "      <td>11</td>\n",
       "    </tr>\n",
       "    <tr>\n",
       "      <th>3195</th>\n",
       "      <td>127577</td>\n",
       "      <td>68113</td>\n",
       "      <td>Arizona</td>\n",
       "      <td>OnMessage Inc.</td>\n",
       "      <td>2020-08-02</td>\n",
       "      <td>2020-08-04</td>\n",
       "      <td>48.0</td>\n",
       "      <td>51.0</td>\n",
       "      <td>11</td>\n",
       "    </tr>\n",
       "    <tr>\n",
       "      <th>3197</th>\n",
       "      <td>127578</td>\n",
       "      <td>68114</td>\n",
       "      <td>Florida</td>\n",
       "      <td>OnMessage Inc.</td>\n",
       "      <td>2020-08-02</td>\n",
       "      <td>2020-08-04</td>\n",
       "      <td>49.0</td>\n",
       "      <td>49.0</td>\n",
       "      <td>29</td>\n",
       "    </tr>\n",
       "    <tr>\n",
       "      <th>3199</th>\n",
       "      <td>127579</td>\n",
       "      <td>68115</td>\n",
       "      <td>Pennsylvania</td>\n",
       "      <td>OnMessage Inc.</td>\n",
       "      <td>2020-08-02</td>\n",
       "      <td>2020-08-04</td>\n",
       "      <td>50.0</td>\n",
       "      <td>46.0</td>\n",
       "      <td>20</td>\n",
       "    </tr>\n",
       "    <tr>\n",
       "      <th>3201</th>\n",
       "      <td>127580</td>\n",
       "      <td>68116</td>\n",
       "      <td>Wisconsin</td>\n",
       "      <td>OnMessage Inc.</td>\n",
       "      <td>2020-08-02</td>\n",
       "      <td>2020-08-04</td>\n",
       "      <td>47.0</td>\n",
       "      <td>47.0</td>\n",
       "      <td>10</td>\n",
       "    </tr>\n",
       "  </tbody>\n",
       "</table>\n",
       "<p>1601 rows × 9 columns</p>\n",
       "</div>"
      ],
      "text/plain": [
       "      question_id  poll_id         state  \\\n",
       "1          133816    71450          Ohio   \n",
       "3          133838    71457  Pennsylvania   \n",
       "5          133777    71435       Georgia   \n",
       "7          133664    71379  Pennsylvania   \n",
       "9          133666    71379  Pennsylvania   \n",
       "...           ...      ...           ...   \n",
       "3193       127277    67973       Arizona   \n",
       "3195       127577    68113       Arizona   \n",
       "3197       127578    68114       Florida   \n",
       "3199       127579    68115  Pennsylvania   \n",
       "3201       127580    68116     Wisconsin   \n",
       "\n",
       "                                      pollster start_date   end_date  Biden  \\\n",
       "1     Rasmussen Reports/Pulse Opinion Research 2020-10-18 2020-10-19   48.0   \n",
       "3     Rasmussen Reports/Pulse Opinion Research 2020-10-18 2020-10-19   50.0   \n",
       "5                              Emerson College 2020-10-17 2020-10-19   47.0   \n",
       "7                                        Ipsos 2020-10-13 2020-10-19   49.0   \n",
       "9                                        Ipsos 2020-10-13 2020-10-19   49.0   \n",
       "...                                        ...        ...        ...    ...   \n",
       "3193                    OH Predictive Insights 2020-08-03 2020-08-04   49.0   \n",
       "3195                            OnMessage Inc. 2020-08-02 2020-08-04   48.0   \n",
       "3197                            OnMessage Inc. 2020-08-02 2020-08-04   49.0   \n",
       "3199                            OnMessage Inc. 2020-08-02 2020-08-04   50.0   \n",
       "3201                            OnMessage Inc. 2020-08-02 2020-08-04   47.0   \n",
       "\n",
       "      Trump  Seats  \n",
       "1      47.0     18  \n",
       "3      47.0     20  \n",
       "5      48.4     16  \n",
       "7      45.0     20  \n",
       "9      45.0     20  \n",
       "...     ...    ...  \n",
       "3193   45.0     11  \n",
       "3195   51.0     11  \n",
       "3197   49.0     29  \n",
       "3199   46.0     20  \n",
       "3201   47.0     10  \n",
       "\n",
       "[1601 rows x 9 columns]"
      ]
     },
     "execution_count": 217,
     "metadata": {},
     "output_type": "execute_result"
    }
   ],
   "source": [
    "def getSeats(row):\n",
    "    return states[row['state']]\n",
    "\n",
    "grouped['Seats'] = grouped.apply(getSeats, axis=1)\n",
    "grouped"
   ]
  },
  {
   "cell_type": "markdown",
   "metadata": {},
   "source": [
    "### 4. Visualizations"
   ]
  },
  {
   "cell_type": "code",
   "execution_count": 218,
   "metadata": {},
   "outputs": [
    {
     "data": {
      "text/plain": [
       "[<matplotlib.lines.Line2D at 0x27effd7de80>]"
      ]
     },
     "execution_count": 218,
     "metadata": {},
     "output_type": "execute_result"
    },
    {
     "data": {
      "image/png": "[encoded data removed]",
      "text/plain": [
       "<Figure size 640x480 with 1 Axes>"
      ]
     },
     "metadata": {},
     "output_type": "display_data"
    }
   ],
   "source": [
    "import matplotlib.pyplot as plt\n",
    "\n",
    "plt.plot(grouped.index, grouped['Biden'], color=\"Blue\")\n",
    "plt.plot(grouped.index, grouped['Trump'], color=\"Red\")"
   ]
  },
  {
   "cell_type": "code",
   "execution_count": 219,
   "metadata": {},
   "outputs": [],
   "source": [
    "#Plotting the difference by date\n",
    "diff_by_date = grouped.groupby('start_date')[['Biden', 'Trump']].mean().reset_index()\n",
    "diff_by_date['difference'] = diff_by_date['Biden'] - diff_by_date['Trump']"
   ]
  },
  {
   "cell_type": "code",
   "execution_count": 220,
   "metadata": {},
   "outputs": [
    {
     "data": {
      "application/vnd.plotly.v1+json": {
       "config": {
        "plotlyServerURL": "https://plot.ly"
       },
       "data": [
        {
         "hovertemplate": "start_date=%{x}<br>difference=%{y}<extra></extra>",
         "legendgroup": "",
         "line": {
          "color": "#636efa",
          "dash": "solid"
         },
         "marker": {
          "symbol": "circle"
         },
         "mode": "lines",
         "name": "",
         "orientation": "v",
         "showlegend": false,
         "type": "scatter",
         "x": [
          "2020-08-01T00:00:00",
          "2020-08-02T00:00:00",
          "2020-08-03T00:00:00",
          "2020-08-04T00:00:00",
          "2020-08-05T00:00:00",
          "2020-08-06T00:00:00",
          "2020-08-07T00:00:00",
          "2020-08-08T00:00:00",
          "2020-08-09T00:00:00",
          "2020-08-10T00:00:00",
          "2020-08-11T00:00:00",
          "2020-08-12T00:00:00",
          "2020-08-13T00:00:00",
          "2020-08-14T00:00:00",
          "2020-08-15T00:00:00",
          "2020-08-16T00:00:00",
          "2020-08-17T00:00:00",
          "2020-08-18T00:00:00",
          "2020-08-19T00:00:00",
          "2020-08-20T00:00:00",
          "2020-08-21T00:00:00",
          "2020-08-22T00:00:00",
          "2020-08-23T00:00:00",
          "2020-08-24T00:00:00",
          "2020-08-25T00:00:00",
          "2020-08-26T00:00:00",
          "2020-08-27T00:00:00",
          "2020-08-28T00:00:00",
          "2020-08-29T00:00:00",
          "2020-08-30T00:00:00",
          "2020-08-31T00:00:00",
          "2020-09-01T00:00:00",
          "2020-09-02T00:00:00",
          "2020-09-03T00:00:00",
          "2020-09-04T00:00:00",
          "2020-09-05T00:00:00",
          "2020-09-06T00:00:00",
          "2020-09-07T00:00:00",
          "2020-09-08T00:00:00",
          "2020-09-09T00:00:00",
          "2020-09-10T00:00:00",
          "2020-09-11T00:00:00",
          "2020-09-12T00:00:00",
          "2020-09-14T00:00:00",
          "2020-09-15T00:00:00",
          "2020-09-16T00:00:00",
          "2020-09-17T00:00:00",
          "2020-09-18T00:00:00",
          "2020-09-19T00:00:00",
          "2020-09-20T00:00:00",
          "2020-09-21T00:00:00",
          "2020-09-22T00:00:00",
          "2020-09-23T00:00:00",
          "2020-09-24T00:00:00",
          "2020-09-25T00:00:00",
          "2020-09-26T00:00:00",
          "2020-09-27T00:00:00",
          "2020-09-28T00:00:00",
          "2020-09-29T00:00:00",
          "2020-09-30T00:00:00",
          "2020-10-01T00:00:00",
          "2020-10-02T00:00:00",
          "2020-10-03T00:00:00",
          "2020-10-04T00:00:00",
          "2020-10-05T00:00:00",
          "2020-10-06T00:00:00",
          "2020-10-07T00:00:00",
          "2020-10-08T00:00:00",
          "2020-10-09T00:00:00",
          "2020-10-10T00:00:00",
          "2020-10-11T00:00:00",
          "2020-10-12T00:00:00",
          "2020-10-13T00:00:00",
          "2020-10-14T00:00:00",
          "2020-10-15T00:00:00",
          "2020-10-16T00:00:00",
          "2020-10-17T00:00:00",
          "2020-10-18T00:00:00"
         ],
         "xaxis": "x",
         "y": [
          2.465999999999994,
          1.7999999999999972,
          6,
          3.5,
          3.8683333333333394,
          6.316666666666663,
          3.235294117647058,
          3.407999999999994,
          19,
          9,
          5.4680000000000035,
          11.533333333333331,
          2.9499999999999957,
          1.1799999999999997,
          5.13333333333334,
          7.571428571428569,
          5.302500000000002,
          10,
          9,
          5.936666666666667,
          6.467826086956521,
          12.333333333333329,
          10,
          5.5,
          11.700000000000003,
          4.058749999999996,
          6,
          4.05555555555555,
          2.796666666666667,
          5.55555555555555,
          4.799999999999997,
          4.114090909090898,
          -1.764000000000003,
          7.211666666666666,
          11.996923076923075,
          9,
          7.825000000000003,
          -1.8200000000000003,
          8.475000000000001,
          9.25555555555556,
          5.526315789473685,
          3.007619047619052,
          2.2222222222222214,
          0.6061224489795976,
          5.3788990825688145,
          3.583669724770644,
          7.834112903225815,
          5.358407079646014,
          7.135135135135137,
          5.547706422018358,
          5.8578313253012055,
          1.1499999999999986,
          3.6840000000000117,
          0.7909090909090821,
          6.350000000000001,
          2.3249999999999957,
          8.54,
          0.6666666666666714,
          4.5,
          6.032142857142851,
          5.441666666666663,
          5.632000000000005,
          1.8333333333333357,
          3.266666666666673,
          -1.4500000000000028,
          4.618181818181817,
          4.106250000000003,
          4.443478260869568,
          2.9272727272727295,
          3.8999999999999986,
          -1.1666666666666714,
          2.7666666666666657,
          3.4555555555555557,
          6.099999999999994,
          2.0999999999999943,
          5.200000000000003,
          -1.3999999999999986,
          4.666666666666664
         ],
         "yaxis": "y"
        }
       ],
       "layout": {
        "legend": {
         "tracegroupgap": 0
        },
        "template": {
         "data": {
          "bar": [
           {
            "error_x": {
             "color": "#2a3f5f"
            },
            "error_y": {
             "color": "#2a3f5f"
            },
            "marker": {
             "line": {
              "color": "#E5ECF6",
              "width": 0.5
             },
             "pattern": {
              "fillmode": "overlay",
              "size": 10,
              "solidity": 0.2
             }
            },
            "type": "bar"
           }
          ],
          "barpolar": [
           {
            "marker": {
             "line": {
              "color": "#E5ECF6",
              "width": 0.5
             },
             "pattern": {
              "fillmode": "overlay",
              "size": 10,
              "solidity": 0.2
             }
            },
            "type": "barpolar"
           }
          ],
          "carpet": [
           {
            "aaxis": {
             "endlinecolor": "#2a3f5f",
             "gridcolor": "white",
             "linecolor": "white",
             "minorgridcolor": "white",
             "startlinecolor": "#2a3f5f"
            },
            "baxis": {
             "endlinecolor": "#2a3f5f",
             "gridcolor": "white",
             "linecolor": "white",
             "minorgridcolor": "white",
             "startlinecolor": "#2a3f5f"
            },
            "type": "carpet"
           }
          ],
          "choropleth": [
           {
            "colorbar": {
             "outlinewidth": 0,
             "ticks": ""
            },
            "type": "choropleth"
           }
          ],
          "contour": [
           {
            "colorbar": {
             "outlinewidth": 0,
             "ticks": ""
            },
            "colorscale": [
             [
              0,
              "#0d0887"
             ],
             [
              0.1111111111111111,
              "#46039f"
             ],
             [
              0.2222222222222222,
              "#7201a8"
             ],
             [
              0.3333333333333333,
              "#9c179e"
             ],
             [
              0.4444444444444444,
              "#bd3786"
             ],
             [
              0.5555555555555556,
              "#d8576b"
             ],
             [
              0.6666666666666666,
              "#ed7953"
             ],
             [
              0.7777777777777778,
              "#fb9f3a"
             ],
             [
              0.8888888888888888,
              "#fdca26"
             ],
             [
              1,
              "#f0f921"
             ]
            ],
            "type": "contour"
           }
          ],
          "contourcarpet": [
           {
            "colorbar": {
             "outlinewidth": 0,
             "ticks": ""
            },
            "type": "contourcarpet"
           }
          ],
          "heatmap": [
           {
            "colorbar": {
             "outlinewidth": 0,
             "ticks": ""
            },
            "colorscale": [
             [
              0,
              "#0d0887"
             ],
             [
              0.1111111111111111,
              "#46039f"
             ],
             [
              0.2222222222222222,
              "#7201a8"
             ],
             [
              0.3333333333333333,
              "#9c179e"
             ],
             [
              0.4444444444444444,
              "#bd3786"
             ],
             [
              0.5555555555555556,
              "#d8576b"
             ],
             [
              0.6666666666666666,
              "#ed7953"
             ],
             [
              0.7777777777777778,
              "#fb9f3a"
             ],
             [
              0.8888888888888888,
              "#fdca26"
             ],
             [
              1,
              "#f0f921"
             ]
            ],
            "type": "heatmap"
           }
          ],
          "heatmapgl": [
           {
            "colorbar": {
             "outlinewidth": 0,
             "ticks": ""
            },
            "colorscale": [
             [
              0,
              "#0d0887"
             ],
             [
              0.1111111111111111,
              "#46039f"
             ],
             [
              0.2222222222222222,
              "#7201a8"
             ],
             [
              0.3333333333333333,
              "#9c179e"
             ],
             [
              0.4444444444444444,
              "#bd3786"
             ],
             [
              0.5555555555555556,
              "#d8576b"
             ],
             [
              0.6666666666666666,
              "#ed7953"
             ],
             [
              0.7777777777777778,
              "#fb9f3a"
             ],
             [
              0.8888888888888888,
              "#fdca26"
             ],
             [
              1,
              "#f0f921"
             ]
            ],
            "type": "heatmapgl"
           }
          ],
          "histogram": [
           {
            "marker": {
             "pattern": {
              "fillmode": "overlay",
              "size": 10,
              "solidity": 0.2
             }
            },
            "type": "histogram"
           }
          ],
          "histogram2d": [
           {
            "colorbar": {
             "outlinewidth": 0,
             "ticks": ""
            },
            "colorscale": [
             [
              0,
              "#0d0887"
             ],
             [
              0.1111111111111111,
              "#46039f"
             ],
             [
              0.2222222222222222,
              "#7201a8"
             ],
             [
              0.3333333333333333,
              "#9c179e"
             ],
             [
              0.4444444444444444,
              "#bd3786"
             ],
             [
              0.5555555555555556,
              "#d8576b"
             ],
             [
              0.6666666666666666,
              "#ed7953"
             ],
             [
              0.7777777777777778,
              "#fb9f3a"
             ],
             [
              0.8888888888888888,
              "#fdca26"
             ],
             [
              1,
              "#f0f921"
             ]
            ],
            "type": "histogram2d"
           }
          ],
          "histogram2dcontour": [
           {
            "colorbar": {
             "outlinewidth": 0,
             "ticks": ""
            },
            "colorscale": [
             [
              0,
              "#0d0887"
             ],
             [
              0.1111111111111111,
              "#46039f"
             ],
             [
              0.2222222222222222,
              "#7201a8"
             ],
             [
              0.3333333333333333,
              "#9c179e"
             ],
             [
              0.4444444444444444,
              "#bd3786"
             ],
             [
              0.5555555555555556,
              "#d8576b"
             ],
             [
              0.6666666666666666,
              "#ed7953"
             ],
             [
              0.7777777777777778,
              "#fb9f3a"
             ],
             [
              0.8888888888888888,
              "#fdca26"
             ],
             [
              1,
              "#f0f921"
             ]
            ],
            "type": "histogram2dcontour"
           }
          ],
          "mesh3d": [
           {
            "colorbar": {
             "outlinewidth": 0,
             "ticks": ""
            },
            "type": "mesh3d"
           }
          ],
          "parcoords": [
           {
            "line": {
             "colorbar": {
              "outlinewidth": 0,
              "ticks": ""
             }
            },
            "type": "parcoords"
           }
          ],
          "pie": [
           {
            "automargin": true,
            "type": "pie"
           }
          ],
          "scatter": [
           {
            "fillpattern": {
             "fillmode": "overlay",
             "size": 10,
             "solidity": 0.2
            },
            "type": "scatter"
           }
          ],
          "scatter3d": [
           {
            "line": {
             "colorbar": {
              "outlinewidth": 0,
              "ticks": ""
             }
            },
            "marker": {
             "colorbar": {
              "outlinewidth": 0,
              "ticks": ""
             }
            },
            "type": "scatter3d"
           }
          ],
          "scattercarpet": [
           {
            "marker": {
             "colorbar": {
              "outlinewidth": 0,
              "ticks": ""
             }
            },
            "type": "scattercarpet"
           }
          ],
          "scattergeo": [
           {
            "marker": {
             "colorbar": {
              "outlinewidth": 0,
              "ticks": ""
             }
            },
            "type": "scattergeo"
           }
          ],
          "scattergl": [
           {
            "marker": {
             "colorbar": {
              "outlinewidth": 0,
              "ticks": ""
             }
            },
            "type": "scattergl"
           }
          ],
          "scattermapbox": [
           {
            "marker": {
             "colorbar": {
              "outlinewidth": 0,
              "ticks": ""
             }
            },
            "type": "scattermapbox"
           }
          ],
          "scatterpolar": [
           {
            "marker": {
             "colorbar": {
              "outlinewidth": 0,
              "ticks": ""
             }
            },
            "type": "scatterpolar"
           }
          ],
          "scatterpolargl": [
           {
            "marker": {
             "colorbar": {
              "outlinewidth": 0,
              "ticks": ""
             }
            },
            "type": "scatterpolargl"
           }
          ],
          "scatterternary": [
           {
            "marker": {
             "colorbar": {
              "outlinewidth": 0,
              "ticks": ""
             }
            },
            "type": "scatterternary"
           }
          ],
          "surface": [
           {
            "colorbar": {
             "outlinewidth": 0,
             "ticks": ""
            },
            "colorscale": [
             [
              0,
              "#0d0887"
             ],
             [
              0.1111111111111111,
              "#46039f"
             ],
             [
              0.2222222222222222,
              "#7201a8"
             ],
             [
              0.3333333333333333,
              "#9c179e"
             ],
             [
              0.4444444444444444,
              "#bd3786"
             ],
             [
              0.5555555555555556,
              "#d8576b"
             ],
             [
              0.6666666666666666,
              "#ed7953"
             ],
             [
              0.7777777777777778,
              "#fb9f3a"
             ],
             [
              0.8888888888888888,
              "#fdca26"
             ],
             [
              1,
              "#f0f921"
             ]
            ],
            "type": "surface"
           }
          ],
          "table": [
           {
            "cells": {
             "fill": {
              "color": "#EBF0F8"
             },
             "line": {
              "color": "white"
             }
            },
            "header": {
             "fill": {
              "color": "#C8D4E3"
             },
             "line": {
              "color": "white"
             }
            },
            "type": "table"
           }
          ]
         },
         "layout": {
          "annotationdefaults": {
           "arrowcolor": "#2a3f5f",
           "arrowhead": 0,
           "arrowwidth": 1
          },
          "autotypenumbers": "strict",
          "coloraxis": {
           "colorbar": {
            "outlinewidth": 0,
            "ticks": ""
           }
          },
          "colorscale": {
           "diverging": [
            [
             0,
             "#8e0152"
            ],
            [
             0.1,
             "#c51b7d"
            ],
            [
             0.2,
             "#de77ae"
            ],
            [
             0.3,
             "#f1b6da"
            ],
            [
             0.4,
             "#fde0ef"
            ],
            [
             0.5,
             "#f7f7f7"
            ],
            [
             0.6,
             "#e6f5d0"
            ],
            [
             0.7,
             "#b8e186"
            ],
            [
             0.8,
             "#7fbc41"
            ],
            [
             0.9,
             "#4d9221"
            ],
            [
             1,
             "#276419"
            ]
           ],
           "sequential": [
            [
             0,
             "#0d0887"
            ],
            [
             0.1111111111111111,
             "#46039f"
            ],
            [
             0.2222222222222222,
             "#7201a8"
            ],
            [
             0.3333333333333333,
             "#9c179e"
            ],
            [
             0.4444444444444444,
             "#bd3786"
            ],
            [
             0.5555555555555556,
             "#d8576b"
            ],
            [
             0.6666666666666666,
             "#ed7953"
            ],
            [
             0.7777777777777778,
             "#fb9f3a"
            ],
            [
             0.8888888888888888,
             "#fdca26"
            ],
            [
             1,
             "#f0f921"
            ]
           ],
           "sequentialminus": [
            [
             0,
             "#0d0887"
            ],
            [
             0.1111111111111111,
             "#46039f"
            ],
            [
             0.2222222222222222,
             "#7201a8"
            ],
            [
             0.3333333333333333,
             "#9c179e"
            ],
            [
             0.4444444444444444,
             "#bd3786"
            ],
            [
             0.5555555555555556,
             "#d8576b"
            ],
            [
             0.6666666666666666,
             "#ed7953"
            ],
            [
             0.7777777777777778,
             "#fb9f3a"
            ],
            [
             0.8888888888888888,
             "#fdca26"
            ],
            [
             1,
             "#f0f921"
            ]
           ]
          },
          "colorway": [
           "#636efa",
           "#EF553B",
           "#00cc96",
           "#ab63fa",
           "#FFA15A",
           "#19d3f3",
           "#FF6692",
           "#B6E880",
           "#FF97FF",
           "#FECB52"
          ],
          "font": {
           "color": "#2a3f5f"
          },
          "geo": {
           "bgcolor": "white",
           "lakecolor": "white",
           "landcolor": "#E5ECF6",
           "showlakes": true,
           "showland": true,
           "subunitcolor": "white"
          },
          "hoverlabel": {
           "align": "left"
          },
          "hovermode": "closest",
          "mapbox": {
           "style": "light"
          },
          "paper_bgcolor": "white",
          "plot_bgcolor": "#E5ECF6",
          "polar": {
           "angularaxis": {
            "gridcolor": "white",
            "linecolor": "white",
            "ticks": ""
           },
           "bgcolor": "#E5ECF6",
           "radialaxis": {
            "gridcolor": "white",
            "linecolor": "white",
            "ticks": ""
           }
          },
          "scene": {
           "xaxis": {
            "backgroundcolor": "#E5ECF6",
            "gridcolor": "white",
            "gridwidth": 2,
            "linecolor": "white",
            "showbackground": true,
            "ticks": "",
            "zerolinecolor": "white"
           },
           "yaxis": {
            "backgroundcolor": "#E5ECF6",
            "gridcolor": "white",
            "gridwidth": 2,
            "linecolor": "white",
            "showbackground": true,
            "ticks": "",
            "zerolinecolor": "white"
           },
           "zaxis": {
            "backgroundcolor": "#E5ECF6",
            "gridcolor": "white",
            "gridwidth": 2,
            "linecolor": "white",
            "showbackground": true,
            "ticks": "",
            "zerolinecolor": "white"
           }
          },
          "shapedefaults": {
           "line": {
            "color": "#2a3f5f"
           }
          },
          "ternary": {
           "aaxis": {
            "gridcolor": "white",
            "linecolor": "white",
            "ticks": ""
           },
           "baxis": {
            "gridcolor": "white",
            "linecolor": "white",
            "ticks": ""
           },
           "bgcolor": "#E5ECF6",
           "caxis": {
            "gridcolor": "white",
            "linecolor": "white",
            "ticks": ""
           }
          },
          "title": {
           "x": 0.05
          },
          "xaxis": {
           "automargin": true,
           "gridcolor": "white",
           "linecolor": "white",
           "ticks": "",
           "title": {
            "standoff": 15
           },
           "zerolinecolor": "white",
           "zerolinewidth": 2
          },
          "yaxis": {
           "automargin": true,
           "gridcolor": "white",
           "linecolor": "white",
           "ticks": "",
           "title": {
            "standoff": 15
           },
           "zerolinecolor": "white",
           "zerolinewidth": 2
          }
         }
        },
        "title": {
         "text": "Biden v/s Trump Difference"
        },
        "xaxis": {
         "anchor": "y",
         "domain": [
          0,
          1
         ],
         "title": {
          "text": "start_date"
         }
        },
        "yaxis": {
         "anchor": "x",
         "domain": [
          0,
          1
         ],
         "title": {
          "text": "difference"
         }
        }
       }
      }
     },
     "metadata": {},
     "output_type": "display_data"
    }
   ],
   "source": [
    "import plotly.express as px\n",
    "fig = px.line(diff_by_date, x='start_date', y='difference', title='Biden v/s Trump Difference')\n",
    "fig.show()"
   ]
  },
  {
   "cell_type": "code",
   "execution_count": 221,
   "metadata": {},
   "outputs": [
    {
     "data": {
      "text/html": [
       "<div>\n",
       "<style scoped>\n",
       "    .dataframe tbody tr th:only-of-type {\n",
       "        vertical-align: middle;\n",
       "    }\n",
       "\n",
       "    .dataframe tbody tr th {\n",
       "        vertical-align: top;\n",
       "    }\n",
       "\n",
       "    .dataframe thead th {\n",
       "        text-align: right;\n",
       "    }\n",
       "</style>\n",
       "<table border=\"1\" class=\"dataframe\">\n",
       "  <thead>\n",
       "    <tr style=\"text-align: right;\">\n",
       "      <th></th>\n",
       "      <th>state</th>\n",
       "      <th>pollster</th>\n",
       "      <th>start_date</th>\n",
       "      <th>end_date</th>\n",
       "      <th>Biden</th>\n",
       "      <th>Trump</th>\n",
       "      <th>Seats</th>\n",
       "    </tr>\n",
       "  </thead>\n",
       "  <tbody>\n",
       "    <tr>\n",
       "      <th>1</th>\n",
       "      <td>Ohio</td>\n",
       "      <td>Rasmussen Reports/Pulse Opinion Research</td>\n",
       "      <td>2020-10-18</td>\n",
       "      <td>2020-10-19</td>\n",
       "      <td>48.0</td>\n",
       "      <td>47.0</td>\n",
       "      <td>18</td>\n",
       "    </tr>\n",
       "    <tr>\n",
       "      <th>3</th>\n",
       "      <td>Pennsylvania</td>\n",
       "      <td>Rasmussen Reports/Pulse Opinion Research</td>\n",
       "      <td>2020-10-18</td>\n",
       "      <td>2020-10-19</td>\n",
       "      <td>50.0</td>\n",
       "      <td>47.0</td>\n",
       "      <td>20</td>\n",
       "    </tr>\n",
       "    <tr>\n",
       "      <th>5</th>\n",
       "      <td>Georgia</td>\n",
       "      <td>Emerson College</td>\n",
       "      <td>2020-10-17</td>\n",
       "      <td>2020-10-19</td>\n",
       "      <td>47.0</td>\n",
       "      <td>48.4</td>\n",
       "      <td>16</td>\n",
       "    </tr>\n",
       "    <tr>\n",
       "      <th>7</th>\n",
       "      <td>Pennsylvania</td>\n",
       "      <td>Ipsos</td>\n",
       "      <td>2020-10-13</td>\n",
       "      <td>2020-10-19</td>\n",
       "      <td>49.0</td>\n",
       "      <td>45.0</td>\n",
       "      <td>20</td>\n",
       "    </tr>\n",
       "    <tr>\n",
       "      <th>9</th>\n",
       "      <td>Pennsylvania</td>\n",
       "      <td>Ipsos</td>\n",
       "      <td>2020-10-13</td>\n",
       "      <td>2020-10-19</td>\n",
       "      <td>49.0</td>\n",
       "      <td>45.0</td>\n",
       "      <td>20</td>\n",
       "    </tr>\n",
       "  </tbody>\n",
       "</table>\n",
       "</div>"
      ],
      "text/plain": [
       "          state                                  pollster start_date  \\\n",
       "1          Ohio  Rasmussen Reports/Pulse Opinion Research 2020-10-18   \n",
       "3  Pennsylvania  Rasmussen Reports/Pulse Opinion Research 2020-10-18   \n",
       "5       Georgia                           Emerson College 2020-10-17   \n",
       "7  Pennsylvania                                     Ipsos 2020-10-13   \n",
       "9  Pennsylvania                                     Ipsos 2020-10-13   \n",
       "\n",
       "    end_date  Biden  Trump  Seats  \n",
       "1 2020-10-19   48.0   47.0     18  \n",
       "3 2020-10-19   50.0   47.0     20  \n",
       "5 2020-10-19   47.0   48.4     16  \n",
       "7 2020-10-19   49.0   45.0     20  \n",
       "9 2020-10-19   49.0   45.0     20  "
      ]
     },
     "execution_count": 221,
     "metadata": {},
     "output_type": "execute_result"
    }
   ],
   "source": [
    "# Tidying up the data\n",
    "polls = grouped[['state','pollster','start_date','end_date','Biden', 'Trump', 'Seats']]\n",
    "polls.head()"
   ]
  },
  {
   "cell_type": "markdown",
   "metadata": {},
   "source": [
    "### 5. Statistical Analysis of Polling Data\n",
    "Using a normal distribution for simplicity. Creating a normal distribution for every states from 0 to 100.<br>\n",
    "The distribution will be centered between the Biden vote and the Trump vote. The standard Deviation will be half of the undecided vote plus 3. <br>\n",
    "(The plus 3 is to ensure that the distribution reflects a resonable spread of potential voting outcomes)"
   ]
  },
  {
   "cell_type": "code",
   "execution_count": 222,
   "metadata": {},
   "outputs": [
    {
     "name": "stderr",
     "output_type": "stream",
     "text": [
      "C:\\Users\\Keith Fernandes\\AppData\\Local\\Temp\\ipykernel_12208\\3619032667.py:5: SettingWithCopyWarning:\n",
      "\n",
      "\n",
      "A value is trying to be set on a copy of a slice from a DataFrame.\n",
      "Try using .loc[row_indexer,col_indexer] = value instead\n",
      "\n",
      "See the caveats in the documentation: https://pandas.pydata.org/pandas-docs/stable/user_guide/indexing.html#returning-a-view-versus-a-copy\n",
      "\n"
     ]
    }
   ],
   "source": [
    "# Adding the center\n",
    "def get_center(row):\n",
    "    return row['Biden'] + (100 - row['Biden'] - row['Trump'])/2\n",
    "\n",
    "polls['center'] = polls.apply(get_center, axis=1)"
   ]
  },
  {
   "cell_type": "code",
   "execution_count": 223,
   "metadata": {},
   "outputs": [
    {
     "data": {
      "text/html": [
       "<div>\n",
       "<style scoped>\n",
       "    .dataframe tbody tr th:only-of-type {\n",
       "        vertical-align: middle;\n",
       "    }\n",
       "\n",
       "    .dataframe tbody tr th {\n",
       "        vertical-align: top;\n",
       "    }\n",
       "\n",
       "    .dataframe thead th {\n",
       "        text-align: right;\n",
       "    }\n",
       "</style>\n",
       "<table border=\"1\" class=\"dataframe\">\n",
       "  <thead>\n",
       "    <tr style=\"text-align: right;\">\n",
       "      <th></th>\n",
       "      <th>state</th>\n",
       "      <th>pollster</th>\n",
       "      <th>start_date</th>\n",
       "      <th>end_date</th>\n",
       "      <th>Biden</th>\n",
       "      <th>Trump</th>\n",
       "      <th>Seats</th>\n",
       "      <th>center</th>\n",
       "      <th>std_dev</th>\n",
       "    </tr>\n",
       "  </thead>\n",
       "  <tbody>\n",
       "    <tr>\n",
       "      <th>1</th>\n",
       "      <td>Ohio</td>\n",
       "      <td>Rasmussen Reports/Pulse Opinion Research</td>\n",
       "      <td>2020-10-18</td>\n",
       "      <td>2020-10-19</td>\n",
       "      <td>48.0</td>\n",
       "      <td>47.0</td>\n",
       "      <td>18</td>\n",
       "      <td>50.5</td>\n",
       "      <td>4.75</td>\n",
       "    </tr>\n",
       "    <tr>\n",
       "      <th>3</th>\n",
       "      <td>Pennsylvania</td>\n",
       "      <td>Rasmussen Reports/Pulse Opinion Research</td>\n",
       "      <td>2020-10-18</td>\n",
       "      <td>2020-10-19</td>\n",
       "      <td>50.0</td>\n",
       "      <td>47.0</td>\n",
       "      <td>20</td>\n",
       "      <td>51.5</td>\n",
       "      <td>5.25</td>\n",
       "    </tr>\n",
       "    <tr>\n",
       "      <th>5</th>\n",
       "      <td>Georgia</td>\n",
       "      <td>Emerson College</td>\n",
       "      <td>2020-10-17</td>\n",
       "      <td>2020-10-19</td>\n",
       "      <td>47.0</td>\n",
       "      <td>48.4</td>\n",
       "      <td>16</td>\n",
       "      <td>49.3</td>\n",
       "      <td>3.45</td>\n",
       "    </tr>\n",
       "    <tr>\n",
       "      <th>7</th>\n",
       "      <td>Pennsylvania</td>\n",
       "      <td>Ipsos</td>\n",
       "      <td>2020-10-13</td>\n",
       "      <td>2020-10-19</td>\n",
       "      <td>49.0</td>\n",
       "      <td>45.0</td>\n",
       "      <td>20</td>\n",
       "      <td>52.0</td>\n",
       "      <td>6.50</td>\n",
       "    </tr>\n",
       "    <tr>\n",
       "      <th>9</th>\n",
       "      <td>Pennsylvania</td>\n",
       "      <td>Ipsos</td>\n",
       "      <td>2020-10-13</td>\n",
       "      <td>2020-10-19</td>\n",
       "      <td>49.0</td>\n",
       "      <td>45.0</td>\n",
       "      <td>20</td>\n",
       "      <td>52.0</td>\n",
       "      <td>6.50</td>\n",
       "    </tr>\n",
       "    <tr>\n",
       "      <th>...</th>\n",
       "      <td>...</td>\n",
       "      <td>...</td>\n",
       "      <td>...</td>\n",
       "      <td>...</td>\n",
       "      <td>...</td>\n",
       "      <td>...</td>\n",
       "      <td>...</td>\n",
       "      <td>...</td>\n",
       "      <td>...</td>\n",
       "    </tr>\n",
       "    <tr>\n",
       "      <th>3193</th>\n",
       "      <td>Arizona</td>\n",
       "      <td>OH Predictive Insights</td>\n",
       "      <td>2020-08-03</td>\n",
       "      <td>2020-08-04</td>\n",
       "      <td>49.0</td>\n",
       "      <td>45.0</td>\n",
       "      <td>11</td>\n",
       "      <td>52.0</td>\n",
       "      <td>6.50</td>\n",
       "    </tr>\n",
       "    <tr>\n",
       "      <th>3195</th>\n",
       "      <td>Arizona</td>\n",
       "      <td>OnMessage Inc.</td>\n",
       "      <td>2020-08-02</td>\n",
       "      <td>2020-08-04</td>\n",
       "      <td>48.0</td>\n",
       "      <td>51.0</td>\n",
       "      <td>11</td>\n",
       "      <td>48.5</td>\n",
       "      <td>4.25</td>\n",
       "    </tr>\n",
       "    <tr>\n",
       "      <th>3197</th>\n",
       "      <td>Florida</td>\n",
       "      <td>OnMessage Inc.</td>\n",
       "      <td>2020-08-02</td>\n",
       "      <td>2020-08-04</td>\n",
       "      <td>49.0</td>\n",
       "      <td>49.0</td>\n",
       "      <td>29</td>\n",
       "      <td>50.0</td>\n",
       "      <td>3.50</td>\n",
       "    </tr>\n",
       "    <tr>\n",
       "      <th>3199</th>\n",
       "      <td>Pennsylvania</td>\n",
       "      <td>OnMessage Inc.</td>\n",
       "      <td>2020-08-02</td>\n",
       "      <td>2020-08-04</td>\n",
       "      <td>50.0</td>\n",
       "      <td>46.0</td>\n",
       "      <td>20</td>\n",
       "      <td>52.0</td>\n",
       "      <td>6.00</td>\n",
       "    </tr>\n",
       "    <tr>\n",
       "      <th>3201</th>\n",
       "      <td>Wisconsin</td>\n",
       "      <td>OnMessage Inc.</td>\n",
       "      <td>2020-08-02</td>\n",
       "      <td>2020-08-04</td>\n",
       "      <td>47.0</td>\n",
       "      <td>47.0</td>\n",
       "      <td>10</td>\n",
       "      <td>50.0</td>\n",
       "      <td>4.50</td>\n",
       "    </tr>\n",
       "  </tbody>\n",
       "</table>\n",
       "<p>1601 rows × 9 columns</p>\n",
       "</div>"
      ],
      "text/plain": [
       "             state                                  pollster start_date  \\\n",
       "1             Ohio  Rasmussen Reports/Pulse Opinion Research 2020-10-18   \n",
       "3     Pennsylvania  Rasmussen Reports/Pulse Opinion Research 2020-10-18   \n",
       "5          Georgia                           Emerson College 2020-10-17   \n",
       "7     Pennsylvania                                     Ipsos 2020-10-13   \n",
       "9     Pennsylvania                                     Ipsos 2020-10-13   \n",
       "...            ...                                       ...        ...   \n",
       "3193       Arizona                    OH Predictive Insights 2020-08-03   \n",
       "3195       Arizona                            OnMessage Inc. 2020-08-02   \n",
       "3197       Florida                            OnMessage Inc. 2020-08-02   \n",
       "3199  Pennsylvania                            OnMessage Inc. 2020-08-02   \n",
       "3201     Wisconsin                            OnMessage Inc. 2020-08-02   \n",
       "\n",
       "       end_date  Biden  Trump  Seats  center  std_dev  \n",
       "1    2020-10-19   48.0   47.0     18    50.5     4.75  \n",
       "3    2020-10-19   50.0   47.0     20    51.5     5.25  \n",
       "5    2020-10-19   47.0   48.4     16    49.3     3.45  \n",
       "7    2020-10-19   49.0   45.0     20    52.0     6.50  \n",
       "9    2020-10-19   49.0   45.0     20    52.0     6.50  \n",
       "...         ...    ...    ...    ...     ...      ...  \n",
       "3193 2020-08-04   49.0   45.0     11    52.0     6.50  \n",
       "3195 2020-08-04   48.0   51.0     11    48.5     4.25  \n",
       "3197 2020-08-04   49.0   49.0     29    50.0     3.50  \n",
       "3199 2020-08-04   50.0   46.0     20    52.0     6.00  \n",
       "3201 2020-08-04   47.0   47.0     10    50.0     4.50  \n",
       "\n",
       "[1601 rows x 9 columns]"
      ]
     },
     "execution_count": 223,
     "metadata": {},
     "output_type": "execute_result"
    }
   ],
   "source": [
    "# Adding the Standard Deviations (std_dev)\n",
    "def get_std_dev(row):\n",
    "    #Sort of a gussitmate for STD\n",
    "    return (abs(row['Trump'] - row['center']) / 2 + 3)\n",
    "# The 3 added is to ensure that the distribution is sufficiently wide to account for variability and uncertainty in the actual voting outcomes.\n",
    "\n",
    "polls['std_dev'] = polls.apply(get_std_dev, axis=1)\n",
    " \n",
    "polls"
   ]
  },
  {
   "cell_type": "markdown",
   "metadata": {},
   "source": [
    "#### Averaging all polls\n",
    "This isn't the best method as it disregards any weighting to better polls and assume all are equal."
   ]
  },
  {
   "cell_type": "code",
   "execution_count": 224,
   "metadata": {},
   "outputs": [
    {
     "data": {
      "text/html": [
       "<div>\n",
       "<style scoped>\n",
       "    .dataframe tbody tr th:only-of-type {\n",
       "        vertical-align: middle;\n",
       "    }\n",
       "\n",
       "    .dataframe tbody tr th {\n",
       "        vertical-align: top;\n",
       "    }\n",
       "\n",
       "    .dataframe thead th {\n",
       "        text-align: right;\n",
       "    }\n",
       "</style>\n",
       "<table border=\"1\" class=\"dataframe\">\n",
       "  <thead>\n",
       "    <tr style=\"text-align: right;\">\n",
       "      <th></th>\n",
       "      <th>state</th>\n",
       "      <th>Biden</th>\n",
       "      <th>Trump</th>\n",
       "      <th>Seats</th>\n",
       "      <th>center</th>\n",
       "      <th>std_dev</th>\n",
       "    </tr>\n",
       "  </thead>\n",
       "  <tbody>\n",
       "    <tr>\n",
       "      <th>0</th>\n",
       "      <td>Alabama</td>\n",
       "      <td>39.769048</td>\n",
       "      <td>57.161429</td>\n",
       "      <td>9.0</td>\n",
       "      <td>41.303810</td>\n",
       "      <td>10.928810</td>\n",
       "    </tr>\n",
       "    <tr>\n",
       "      <th>1</th>\n",
       "      <td>Alaska</td>\n",
       "      <td>44.020000</td>\n",
       "      <td>52.478636</td>\n",
       "      <td>3.0</td>\n",
       "      <td>45.770682</td>\n",
       "      <td>6.558523</td>\n",
       "    </tr>\n",
       "    <tr>\n",
       "      <th>2</th>\n",
       "      <td>Arizona</td>\n",
       "      <td>49.248514</td>\n",
       "      <td>45.155946</td>\n",
       "      <td>11.0</td>\n",
       "      <td>52.046284</td>\n",
       "      <td>6.552061</td>\n",
       "    </tr>\n",
       "    <tr>\n",
       "      <th>3</th>\n",
       "      <td>Arkansas</td>\n",
       "      <td>38.753684</td>\n",
       "      <td>58.801579</td>\n",
       "      <td>6.0</td>\n",
       "      <td>39.976053</td>\n",
       "      <td>12.412763</td>\n",
       "    </tr>\n",
       "    <tr>\n",
       "      <th>4</th>\n",
       "      <td>California</td>\n",
       "      <td>62.081923</td>\n",
       "      <td>33.621154</td>\n",
       "      <td>55.0</td>\n",
       "      <td>64.230385</td>\n",
       "      <td>18.304615</td>\n",
       "    </tr>\n",
       "    <tr>\n",
       "      <th>5</th>\n",
       "      <td>Colorado</td>\n",
       "      <td>55.022903</td>\n",
       "      <td>40.454194</td>\n",
       "      <td>9.0</td>\n",
       "      <td>57.284355</td>\n",
       "      <td>11.415081</td>\n",
       "    </tr>\n",
       "    <tr>\n",
       "      <th>6</th>\n",
       "      <td>Connecticut</td>\n",
       "      <td>62.420000</td>\n",
       "      <td>34.561111</td>\n",
       "      <td>7.0</td>\n",
       "      <td>63.929444</td>\n",
       "      <td>17.684167</td>\n",
       "    </tr>\n",
       "    <tr>\n",
       "      <th>7</th>\n",
       "      <td>Delaware</td>\n",
       "      <td>63.388500</td>\n",
       "      <td>33.953500</td>\n",
       "      <td>3.0</td>\n",
       "      <td>64.717500</td>\n",
       "      <td>18.382000</td>\n",
       "    </tr>\n",
       "    <tr>\n",
       "      <th>8</th>\n",
       "      <td>District of Columbia</td>\n",
       "      <td>86.283889</td>\n",
       "      <td>11.117222</td>\n",
       "      <td>3.0</td>\n",
       "      <td>87.583333</td>\n",
       "      <td>41.233056</td>\n",
       "    </tr>\n",
       "    <tr>\n",
       "      <th>9</th>\n",
       "      <td>Florida</td>\n",
       "      <td>48.740263</td>\n",
       "      <td>46.046842</td>\n",
       "      <td>29.0</td>\n",
       "      <td>51.346711</td>\n",
       "      <td>5.706118</td>\n",
       "    </tr>\n",
       "    <tr>\n",
       "      <th>10</th>\n",
       "      <td>Georgia</td>\n",
       "      <td>48.111176</td>\n",
       "      <td>46.826275</td>\n",
       "      <td>16.0</td>\n",
       "      <td>50.642451</td>\n",
       "      <td>4.988480</td>\n",
       "    </tr>\n",
       "    <tr>\n",
       "      <th>11</th>\n",
       "      <td>Hawaii</td>\n",
       "      <td>64.186842</td>\n",
       "      <td>33.264211</td>\n",
       "      <td>4.0</td>\n",
       "      <td>65.461316</td>\n",
       "      <td>19.098553</td>\n",
       "    </tr>\n",
       "    <tr>\n",
       "      <th>12</th>\n",
       "      <td>Idaho</td>\n",
       "      <td>38.411579</td>\n",
       "      <td>59.172632</td>\n",
       "      <td>4.0</td>\n",
       "      <td>39.619474</td>\n",
       "      <td>12.776579</td>\n",
       "    </tr>\n",
       "    <tr>\n",
       "      <th>13</th>\n",
       "      <td>Illinois</td>\n",
       "      <td>59.528947</td>\n",
       "      <td>37.455789</td>\n",
       "      <td>20.0</td>\n",
       "      <td>61.036579</td>\n",
       "      <td>14.790395</td>\n",
       "    </tr>\n",
       "    <tr>\n",
       "      <th>14</th>\n",
       "      <td>Indiana</td>\n",
       "      <td>44.035500</td>\n",
       "      <td>53.116500</td>\n",
       "      <td>11.0</td>\n",
       "      <td>45.459500</td>\n",
       "      <td>6.828500</td>\n",
       "    </tr>\n",
       "    <tr>\n",
       "      <th>15</th>\n",
       "      <td>Iowa</td>\n",
       "      <td>47.396364</td>\n",
       "      <td>48.876364</td>\n",
       "      <td>6.0</td>\n",
       "      <td>49.260000</td>\n",
       "      <td>4.247576</td>\n",
       "    </tr>\n",
       "    <tr>\n",
       "      <th>16</th>\n",
       "      <td>Kansas</td>\n",
       "      <td>45.087917</td>\n",
       "      <td>52.167083</td>\n",
       "      <td>6.0</td>\n",
       "      <td>46.460417</td>\n",
       "      <td>5.853333</td>\n",
       "    </tr>\n",
       "    <tr>\n",
       "      <th>17</th>\n",
       "      <td>Kentucky</td>\n",
       "      <td>39.603636</td>\n",
       "      <td>57.826818</td>\n",
       "      <td>8.0</td>\n",
       "      <td>40.888409</td>\n",
       "      <td>11.469205</td>\n",
       "    </tr>\n",
       "    <tr>\n",
       "      <th>18</th>\n",
       "      <td>Louisiana</td>\n",
       "      <td>41.200455</td>\n",
       "      <td>55.090909</td>\n",
       "      <td>8.0</td>\n",
       "      <td>43.054773</td>\n",
       "      <td>9.018068</td>\n",
       "    </tr>\n",
       "    <tr>\n",
       "      <th>19</th>\n",
       "      <td>Maine</td>\n",
       "      <td>53.867021</td>\n",
       "      <td>40.428936</td>\n",
       "      <td>4.0</td>\n",
       "      <td>56.719043</td>\n",
       "      <td>11.286011</td>\n",
       "    </tr>\n",
       "    <tr>\n",
       "      <th>20</th>\n",
       "      <td>Maryland</td>\n",
       "      <td>65.480909</td>\n",
       "      <td>31.185000</td>\n",
       "      <td>10.0</td>\n",
       "      <td>67.147955</td>\n",
       "      <td>20.981477</td>\n",
       "    </tr>\n",
       "    <tr>\n",
       "      <th>21</th>\n",
       "      <td>Massachusetts</td>\n",
       "      <td>68.329500</td>\n",
       "      <td>29.299500</td>\n",
       "      <td>11.0</td>\n",
       "      <td>69.515000</td>\n",
       "      <td>23.107750</td>\n",
       "    </tr>\n",
       "    <tr>\n",
       "      <th>22</th>\n",
       "      <td>Michigan</td>\n",
       "      <td>50.528696</td>\n",
       "      <td>43.437681</td>\n",
       "      <td>16.0</td>\n",
       "      <td>53.545507</td>\n",
       "      <td>8.053913</td>\n",
       "    </tr>\n",
       "    <tr>\n",
       "      <th>23</th>\n",
       "      <td>Minnesota</td>\n",
       "      <td>52.397368</td>\n",
       "      <td>42.712368</td>\n",
       "      <td>10.0</td>\n",
       "      <td>54.842500</td>\n",
       "      <td>9.065066</td>\n",
       "    </tr>\n",
       "    <tr>\n",
       "      <th>24</th>\n",
       "      <td>Mississippi</td>\n",
       "      <td>42.039474</td>\n",
       "      <td>55.665263</td>\n",
       "      <td>6.0</td>\n",
       "      <td>43.187105</td>\n",
       "      <td>9.292500</td>\n",
       "    </tr>\n",
       "    <tr>\n",
       "      <th>25</th>\n",
       "      <td>Missouri</td>\n",
       "      <td>45.092800</td>\n",
       "      <td>51.850000</td>\n",
       "      <td>10.0</td>\n",
       "      <td>46.621400</td>\n",
       "      <td>5.614300</td>\n",
       "    </tr>\n",
       "    <tr>\n",
       "      <th>26</th>\n",
       "      <td>Montana</td>\n",
       "      <td>43.290400</td>\n",
       "      <td>53.572800</td>\n",
       "      <td>3.0</td>\n",
       "      <td>44.858800</td>\n",
       "      <td>7.357000</td>\n",
       "    </tr>\n",
       "    <tr>\n",
       "      <th>27</th>\n",
       "      <td>Nebraska</td>\n",
       "      <td>46.275238</td>\n",
       "      <td>50.985714</td>\n",
       "      <td>5.0</td>\n",
       "      <td>47.644762</td>\n",
       "      <td>6.289524</td>\n",
       "    </tr>\n",
       "    <tr>\n",
       "      <th>28</th>\n",
       "      <td>Nevada</td>\n",
       "      <td>50.636071</td>\n",
       "      <td>44.951429</td>\n",
       "      <td>6.0</td>\n",
       "      <td>52.842321</td>\n",
       "      <td>6.945446</td>\n",
       "    </tr>\n",
       "    <tr>\n",
       "      <th>29</th>\n",
       "      <td>New Hampshire</td>\n",
       "      <td>54.743448</td>\n",
       "      <td>42.510345</td>\n",
       "      <td>4.0</td>\n",
       "      <td>56.116552</td>\n",
       "      <td>9.803103</td>\n",
       "    </tr>\n",
       "    <tr>\n",
       "      <th>30</th>\n",
       "      <td>New Jersey</td>\n",
       "      <td>58.539583</td>\n",
       "      <td>36.221250</td>\n",
       "      <td>14.0</td>\n",
       "      <td>61.159167</td>\n",
       "      <td>15.468958</td>\n",
       "    </tr>\n",
       "    <tr>\n",
       "      <th>31</th>\n",
       "      <td>New Mexico</td>\n",
       "      <td>53.194000</td>\n",
       "      <td>44.415500</td>\n",
       "      <td>5.0</td>\n",
       "      <td>54.389250</td>\n",
       "      <td>7.986875</td>\n",
       "    </tr>\n",
       "    <tr>\n",
       "      <th>32</th>\n",
       "      <td>New York</td>\n",
       "      <td>64.171500</td>\n",
       "      <td>32.491000</td>\n",
       "      <td>29.0</td>\n",
       "      <td>65.840250</td>\n",
       "      <td>19.674625</td>\n",
       "    </tr>\n",
       "    <tr>\n",
       "      <th>33</th>\n",
       "      <td>North Carolina</td>\n",
       "      <td>48.928415</td>\n",
       "      <td>46.222439</td>\n",
       "      <td>15.0</td>\n",
       "      <td>51.352988</td>\n",
       "      <td>5.610152</td>\n",
       "    </tr>\n",
       "    <tr>\n",
       "      <th>34</th>\n",
       "      <td>North Dakota</td>\n",
       "      <td>37.316500</td>\n",
       "      <td>59.934500</td>\n",
       "      <td>3.0</td>\n",
       "      <td>38.691000</td>\n",
       "      <td>13.621750</td>\n",
       "    </tr>\n",
       "    <tr>\n",
       "      <th>35</th>\n",
       "      <td>Ohio</td>\n",
       "      <td>47.143750</td>\n",
       "      <td>48.814500</td>\n",
       "      <td>18.0</td>\n",
       "      <td>49.164625</td>\n",
       "      <td>4.278062</td>\n",
       "    </tr>\n",
       "    <tr>\n",
       "      <th>36</th>\n",
       "      <td>Oklahoma</td>\n",
       "      <td>38.884000</td>\n",
       "      <td>58.607500</td>\n",
       "      <td>7.0</td>\n",
       "      <td>40.138250</td>\n",
       "      <td>12.234625</td>\n",
       "    </tr>\n",
       "    <tr>\n",
       "      <th>37</th>\n",
       "      <td>Oregon</td>\n",
       "      <td>59.258500</td>\n",
       "      <td>38.460000</td>\n",
       "      <td>7.0</td>\n",
       "      <td>60.399250</td>\n",
       "      <td>13.969625</td>\n",
       "    </tr>\n",
       "    <tr>\n",
       "      <th>38</th>\n",
       "      <td>Pennsylvania</td>\n",
       "      <td>50.482581</td>\n",
       "      <td>44.507419</td>\n",
       "      <td>20.0</td>\n",
       "      <td>52.987581</td>\n",
       "      <td>7.240081</td>\n",
       "    </tr>\n",
       "    <tr>\n",
       "      <th>39</th>\n",
       "      <td>Rhode Island</td>\n",
       "      <td>65.115000</td>\n",
       "      <td>33.680556</td>\n",
       "      <td>4.0</td>\n",
       "      <td>65.717222</td>\n",
       "      <td>19.018333</td>\n",
       "    </tr>\n",
       "    <tr>\n",
       "      <th>40</th>\n",
       "      <td>South Carolina</td>\n",
       "      <td>45.125357</td>\n",
       "      <td>50.874643</td>\n",
       "      <td>9.0</td>\n",
       "      <td>47.125357</td>\n",
       "      <td>4.963929</td>\n",
       "    </tr>\n",
       "    <tr>\n",
       "      <th>41</th>\n",
       "      <td>South Dakota</td>\n",
       "      <td>42.370000</td>\n",
       "      <td>55.585000</td>\n",
       "      <td>3.0</td>\n",
       "      <td>43.392500</td>\n",
       "      <td>9.096250</td>\n",
       "    </tr>\n",
       "    <tr>\n",
       "      <th>42</th>\n",
       "      <td>Tennessee</td>\n",
       "      <td>41.204444</td>\n",
       "      <td>56.682222</td>\n",
       "      <td>11.0</td>\n",
       "      <td>42.261111</td>\n",
       "      <td>10.210556</td>\n",
       "    </tr>\n",
       "    <tr>\n",
       "      <th>43</th>\n",
       "      <td>Texas</td>\n",
       "      <td>46.858478</td>\n",
       "      <td>48.358043</td>\n",
       "      <td>38.0</td>\n",
       "      <td>49.250217</td>\n",
       "      <td>4.402826</td>\n",
       "    </tr>\n",
       "    <tr>\n",
       "      <th>44</th>\n",
       "      <td>Utah</td>\n",
       "      <td>43.070500</td>\n",
       "      <td>53.703000</td>\n",
       "      <td>6.0</td>\n",
       "      <td>44.683750</td>\n",
       "      <td>7.509625</td>\n",
       "    </tr>\n",
       "    <tr>\n",
       "      <th>45</th>\n",
       "      <td>Vermont</td>\n",
       "      <td>65.140000</td>\n",
       "      <td>32.646316</td>\n",
       "      <td>3.0</td>\n",
       "      <td>66.246842</td>\n",
       "      <td>19.800263</td>\n",
       "    </tr>\n",
       "    <tr>\n",
       "      <th>46</th>\n",
       "      <td>Virginia</td>\n",
       "      <td>54.814400</td>\n",
       "      <td>41.486800</td>\n",
       "      <td>13.0</td>\n",
       "      <td>56.663800</td>\n",
       "      <td>10.588500</td>\n",
       "    </tr>\n",
       "    <tr>\n",
       "      <th>47</th>\n",
       "      <td>Washington</td>\n",
       "      <td>60.328571</td>\n",
       "      <td>36.708095</td>\n",
       "      <td>12.0</td>\n",
       "      <td>61.810238</td>\n",
       "      <td>15.551071</td>\n",
       "    </tr>\n",
       "    <tr>\n",
       "      <th>48</th>\n",
       "      <td>West Virginia</td>\n",
       "      <td>34.491500</td>\n",
       "      <td>63.005500</td>\n",
       "      <td>5.0</td>\n",
       "      <td>35.743000</td>\n",
       "      <td>16.631250</td>\n",
       "    </tr>\n",
       "    <tr>\n",
       "      <th>49</th>\n",
       "      <td>Wisconsin</td>\n",
       "      <td>50.752456</td>\n",
       "      <td>43.331579</td>\n",
       "      <td>10.0</td>\n",
       "      <td>53.710439</td>\n",
       "      <td>8.189430</td>\n",
       "    </tr>\n",
       "    <tr>\n",
       "      <th>50</th>\n",
       "      <td>Wyoming</td>\n",
       "      <td>33.180000</td>\n",
       "      <td>65.439444</td>\n",
       "      <td>3.0</td>\n",
       "      <td>33.870278</td>\n",
       "      <td>18.784583</td>\n",
       "    </tr>\n",
       "  </tbody>\n",
       "</table>\n",
       "</div>"
      ],
      "text/plain": [
       "                   state      Biden      Trump  Seats     center    std_dev\n",
       "0                Alabama  39.769048  57.161429    9.0  41.303810  10.928810\n",
       "1                 Alaska  44.020000  52.478636    3.0  45.770682   6.558523\n",
       "2                Arizona  49.248514  45.155946   11.0  52.046284   6.552061\n",
       "3               Arkansas  38.753684  58.801579    6.0  39.976053  12.412763\n",
       "4             California  62.081923  33.621154   55.0  64.230385  18.304615\n",
       "5               Colorado  55.022903  40.454194    9.0  57.284355  11.415081\n",
       "6            Connecticut  62.420000  34.561111    7.0  63.929444  17.684167\n",
       "7               Delaware  63.388500  33.953500    3.0  64.717500  18.382000\n",
       "8   District of Columbia  86.283889  11.117222    3.0  87.583333  41.233056\n",
       "9                Florida  48.740263  46.046842   29.0  51.346711   5.706118\n",
       "10               Georgia  48.111176  46.826275   16.0  50.642451   4.988480\n",
       "11                Hawaii  64.186842  33.264211    4.0  65.461316  19.098553\n",
       "12                 Idaho  38.411579  59.172632    4.0  39.619474  12.776579\n",
       "13              Illinois  59.528947  37.455789   20.0  61.036579  14.790395\n",
       "14               Indiana  44.035500  53.116500   11.0  45.459500   6.828500\n",
       "15                  Iowa  47.396364  48.876364    6.0  49.260000   4.247576\n",
       "16                Kansas  45.087917  52.167083    6.0  46.460417   5.853333\n",
       "17              Kentucky  39.603636  57.826818    8.0  40.888409  11.469205\n",
       "18             Louisiana  41.200455  55.090909    8.0  43.054773   9.018068\n",
       "19                 Maine  53.867021  40.428936    4.0  56.719043  11.286011\n",
       "20              Maryland  65.480909  31.185000   10.0  67.147955  20.981477\n",
       "21         Massachusetts  68.329500  29.299500   11.0  69.515000  23.107750\n",
       "22              Michigan  50.528696  43.437681   16.0  53.545507   8.053913\n",
       "23             Minnesota  52.397368  42.712368   10.0  54.842500   9.065066\n",
       "24           Mississippi  42.039474  55.665263    6.0  43.187105   9.292500\n",
       "25              Missouri  45.092800  51.850000   10.0  46.621400   5.614300\n",
       "26               Montana  43.290400  53.572800    3.0  44.858800   7.357000\n",
       "27              Nebraska  46.275238  50.985714    5.0  47.644762   6.289524\n",
       "28                Nevada  50.636071  44.951429    6.0  52.842321   6.945446\n",
       "29         New Hampshire  54.743448  42.510345    4.0  56.116552   9.803103\n",
       "30            New Jersey  58.539583  36.221250   14.0  61.159167  15.468958\n",
       "31            New Mexico  53.194000  44.415500    5.0  54.389250   7.986875\n",
       "32              New York  64.171500  32.491000   29.0  65.840250  19.674625\n",
       "33        North Carolina  48.928415  46.222439   15.0  51.352988   5.610152\n",
       "34          North Dakota  37.316500  59.934500    3.0  38.691000  13.621750\n",
       "35                  Ohio  47.143750  48.814500   18.0  49.164625   4.278062\n",
       "36              Oklahoma  38.884000  58.607500    7.0  40.138250  12.234625\n",
       "37                Oregon  59.258500  38.460000    7.0  60.399250  13.969625\n",
       "38          Pennsylvania  50.482581  44.507419   20.0  52.987581   7.240081\n",
       "39          Rhode Island  65.115000  33.680556    4.0  65.717222  19.018333\n",
       "40        South Carolina  45.125357  50.874643    9.0  47.125357   4.963929\n",
       "41          South Dakota  42.370000  55.585000    3.0  43.392500   9.096250\n",
       "42             Tennessee  41.204444  56.682222   11.0  42.261111  10.210556\n",
       "43                 Texas  46.858478  48.358043   38.0  49.250217   4.402826\n",
       "44                  Utah  43.070500  53.703000    6.0  44.683750   7.509625\n",
       "45               Vermont  65.140000  32.646316    3.0  66.246842  19.800263\n",
       "46              Virginia  54.814400  41.486800   13.0  56.663800  10.588500\n",
       "47            Washington  60.328571  36.708095   12.0  61.810238  15.551071\n",
       "48         West Virginia  34.491500  63.005500    5.0  35.743000  16.631250\n",
       "49             Wisconsin  50.752456  43.331579   10.0  53.710439   8.189430\n",
       "50               Wyoming  33.180000  65.439444    3.0  33.870278  18.784583"
      ]
     },
     "execution_count": 224,
     "metadata": {},
     "output_type": "execute_result"
    }
   ],
   "source": [
    "poll_state_summary = polls.drop(['pollster', 'start_date','end_date'], axis=1).groupby('state').mean().reset_index()\n",
    "poll_state_summary"
   ]
  },
  {
   "cell_type": "markdown",
   "metadata": {},
   "source": [
    "### 6. Simulation of the Data\n",
    "1. We are going to generate a random number from the distribution.\n",
    "2. If it is above 50, Biden will be the winner for that state.\n",
    "3. If it is below 50, Trump will be the winner for that state.\n",
    "4. Who ever wins that state will be given the electoral seats represented by that state."
   ]
  },
  {
   "cell_type": "code",
   "execution_count": 225,
   "metadata": {},
   "outputs": [
    {
     "data": {
      "text/html": [
       "<div>\n",
       "<style scoped>\n",
       "    .dataframe tbody tr th:only-of-type {\n",
       "        vertical-align: middle;\n",
       "    }\n",
       "\n",
       "    .dataframe tbody tr th {\n",
       "        vertical-align: top;\n",
       "    }\n",
       "\n",
       "    .dataframe thead th {\n",
       "        text-align: right;\n",
       "    }\n",
       "</style>\n",
       "<table border=\"1\" class=\"dataframe\">\n",
       "  <thead>\n",
       "    <tr style=\"text-align: right;\">\n",
       "      <th></th>\n",
       "      <th>state</th>\n",
       "      <th>0</th>\n",
       "      <th>1</th>\n",
       "      <th>2</th>\n",
       "      <th>3</th>\n",
       "      <th>4</th>\n",
       "      <th>5</th>\n",
       "      <th>6</th>\n",
       "      <th>7</th>\n",
       "      <th>8</th>\n",
       "      <th>9</th>\n",
       "    </tr>\n",
       "  </thead>\n",
       "  <tbody>\n",
       "    <tr>\n",
       "      <th>0</th>\n",
       "      <td>Alabama</td>\n",
       "      <td>0.0</td>\n",
       "      <td>0.0</td>\n",
       "      <td>0.0</td>\n",
       "      <td>0.0</td>\n",
       "      <td>0.0</td>\n",
       "      <td>0.0</td>\n",
       "      <td>0.0</td>\n",
       "      <td>0.0</td>\n",
       "      <td>0.0</td>\n",
       "      <td>0.0</td>\n",
       "    </tr>\n",
       "    <tr>\n",
       "      <th>1</th>\n",
       "      <td>Alaska</td>\n",
       "      <td>3.0</td>\n",
       "      <td>0.0</td>\n",
       "      <td>0.0</td>\n",
       "      <td>0.0</td>\n",
       "      <td>0.0</td>\n",
       "      <td>0.0</td>\n",
       "      <td>0.0</td>\n",
       "      <td>0.0</td>\n",
       "      <td>0.0</td>\n",
       "      <td>0.0</td>\n",
       "    </tr>\n",
       "    <tr>\n",
       "      <th>2</th>\n",
       "      <td>Arizona</td>\n",
       "      <td>0.0</td>\n",
       "      <td>11.0</td>\n",
       "      <td>11.0</td>\n",
       "      <td>0.0</td>\n",
       "      <td>11.0</td>\n",
       "      <td>11.0</td>\n",
       "      <td>0.0</td>\n",
       "      <td>11.0</td>\n",
       "      <td>11.0</td>\n",
       "      <td>11.0</td>\n",
       "    </tr>\n",
       "    <tr>\n",
       "      <th>3</th>\n",
       "      <td>Arkansas</td>\n",
       "      <td>0.0</td>\n",
       "      <td>0.0</td>\n",
       "      <td>0.0</td>\n",
       "      <td>0.0</td>\n",
       "      <td>0.0</td>\n",
       "      <td>0.0</td>\n",
       "      <td>0.0</td>\n",
       "      <td>0.0</td>\n",
       "      <td>0.0</td>\n",
       "      <td>6.0</td>\n",
       "    </tr>\n",
       "    <tr>\n",
       "      <th>4</th>\n",
       "      <td>California</td>\n",
       "      <td>55.0</td>\n",
       "      <td>55.0</td>\n",
       "      <td>55.0</td>\n",
       "      <td>55.0</td>\n",
       "      <td>55.0</td>\n",
       "      <td>55.0</td>\n",
       "      <td>55.0</td>\n",
       "      <td>55.0</td>\n",
       "      <td>55.0</td>\n",
       "      <td>55.0</td>\n",
       "    </tr>\n",
       "    <tr>\n",
       "      <th>5</th>\n",
       "      <td>Colorado</td>\n",
       "      <td>9.0</td>\n",
       "      <td>9.0</td>\n",
       "      <td>9.0</td>\n",
       "      <td>9.0</td>\n",
       "      <td>0.0</td>\n",
       "      <td>0.0</td>\n",
       "      <td>0.0</td>\n",
       "      <td>0.0</td>\n",
       "      <td>9.0</td>\n",
       "      <td>9.0</td>\n",
       "    </tr>\n",
       "    <tr>\n",
       "      <th>6</th>\n",
       "      <td>Connecticut</td>\n",
       "      <td>7.0</td>\n",
       "      <td>7.0</td>\n",
       "      <td>7.0</td>\n",
       "      <td>0.0</td>\n",
       "      <td>7.0</td>\n",
       "      <td>7.0</td>\n",
       "      <td>0.0</td>\n",
       "      <td>7.0</td>\n",
       "      <td>7.0</td>\n",
       "      <td>7.0</td>\n",
       "    </tr>\n",
       "    <tr>\n",
       "      <th>7</th>\n",
       "      <td>Delaware</td>\n",
       "      <td>3.0</td>\n",
       "      <td>3.0</td>\n",
       "      <td>3.0</td>\n",
       "      <td>0.0</td>\n",
       "      <td>3.0</td>\n",
       "      <td>3.0</td>\n",
       "      <td>3.0</td>\n",
       "      <td>3.0</td>\n",
       "      <td>3.0</td>\n",
       "      <td>3.0</td>\n",
       "    </tr>\n",
       "    <tr>\n",
       "      <th>8</th>\n",
       "      <td>District of Columbia</td>\n",
       "      <td>0.0</td>\n",
       "      <td>3.0</td>\n",
       "      <td>3.0</td>\n",
       "      <td>3.0</td>\n",
       "      <td>3.0</td>\n",
       "      <td>3.0</td>\n",
       "      <td>3.0</td>\n",
       "      <td>3.0</td>\n",
       "      <td>3.0</td>\n",
       "      <td>3.0</td>\n",
       "    </tr>\n",
       "    <tr>\n",
       "      <th>9</th>\n",
       "      <td>Florida</td>\n",
       "      <td>0.0</td>\n",
       "      <td>29.0</td>\n",
       "      <td>29.0</td>\n",
       "      <td>29.0</td>\n",
       "      <td>0.0</td>\n",
       "      <td>29.0</td>\n",
       "      <td>29.0</td>\n",
       "      <td>0.0</td>\n",
       "      <td>0.0</td>\n",
       "      <td>29.0</td>\n",
       "    </tr>\n",
       "    <tr>\n",
       "      <th>10</th>\n",
       "      <td>Georgia</td>\n",
       "      <td>0.0</td>\n",
       "      <td>16.0</td>\n",
       "      <td>0.0</td>\n",
       "      <td>0.0</td>\n",
       "      <td>0.0</td>\n",
       "      <td>0.0</td>\n",
       "      <td>16.0</td>\n",
       "      <td>0.0</td>\n",
       "      <td>0.0</td>\n",
       "      <td>16.0</td>\n",
       "    </tr>\n",
       "    <tr>\n",
       "      <th>11</th>\n",
       "      <td>Hawaii</td>\n",
       "      <td>4.0</td>\n",
       "      <td>0.0</td>\n",
       "      <td>4.0</td>\n",
       "      <td>0.0</td>\n",
       "      <td>4.0</td>\n",
       "      <td>4.0</td>\n",
       "      <td>4.0</td>\n",
       "      <td>4.0</td>\n",
       "      <td>4.0</td>\n",
       "      <td>0.0</td>\n",
       "    </tr>\n",
       "    <tr>\n",
       "      <th>12</th>\n",
       "      <td>Idaho</td>\n",
       "      <td>0.0</td>\n",
       "      <td>0.0</td>\n",
       "      <td>0.0</td>\n",
       "      <td>0.0</td>\n",
       "      <td>0.0</td>\n",
       "      <td>0.0</td>\n",
       "      <td>0.0</td>\n",
       "      <td>0.0</td>\n",
       "      <td>0.0</td>\n",
       "      <td>4.0</td>\n",
       "    </tr>\n",
       "    <tr>\n",
       "      <th>13</th>\n",
       "      <td>Illinois</td>\n",
       "      <td>20.0</td>\n",
       "      <td>20.0</td>\n",
       "      <td>20.0</td>\n",
       "      <td>0.0</td>\n",
       "      <td>0.0</td>\n",
       "      <td>20.0</td>\n",
       "      <td>0.0</td>\n",
       "      <td>20.0</td>\n",
       "      <td>20.0</td>\n",
       "      <td>20.0</td>\n",
       "    </tr>\n",
       "    <tr>\n",
       "      <th>14</th>\n",
       "      <td>Indiana</td>\n",
       "      <td>0.0</td>\n",
       "      <td>11.0</td>\n",
       "      <td>11.0</td>\n",
       "      <td>0.0</td>\n",
       "      <td>0.0</td>\n",
       "      <td>11.0</td>\n",
       "      <td>0.0</td>\n",
       "      <td>0.0</td>\n",
       "      <td>11.0</td>\n",
       "      <td>11.0</td>\n",
       "    </tr>\n",
       "    <tr>\n",
       "      <th>15</th>\n",
       "      <td>Iowa</td>\n",
       "      <td>0.0</td>\n",
       "      <td>6.0</td>\n",
       "      <td>0.0</td>\n",
       "      <td>6.0</td>\n",
       "      <td>0.0</td>\n",
       "      <td>6.0</td>\n",
       "      <td>0.0</td>\n",
       "      <td>6.0</td>\n",
       "      <td>6.0</td>\n",
       "      <td>0.0</td>\n",
       "    </tr>\n",
       "    <tr>\n",
       "      <th>16</th>\n",
       "      <td>Kansas</td>\n",
       "      <td>0.0</td>\n",
       "      <td>0.0</td>\n",
       "      <td>0.0</td>\n",
       "      <td>6.0</td>\n",
       "      <td>0.0</td>\n",
       "      <td>0.0</td>\n",
       "      <td>0.0</td>\n",
       "      <td>0.0</td>\n",
       "      <td>0.0</td>\n",
       "      <td>6.0</td>\n",
       "    </tr>\n",
       "    <tr>\n",
       "      <th>17</th>\n",
       "      <td>Kentucky</td>\n",
       "      <td>8.0</td>\n",
       "      <td>0.0</td>\n",
       "      <td>8.0</td>\n",
       "      <td>8.0</td>\n",
       "      <td>8.0</td>\n",
       "      <td>0.0</td>\n",
       "      <td>0.0</td>\n",
       "      <td>0.0</td>\n",
       "      <td>0.0</td>\n",
       "      <td>8.0</td>\n",
       "    </tr>\n",
       "    <tr>\n",
       "      <th>18</th>\n",
       "      <td>Louisiana</td>\n",
       "      <td>8.0</td>\n",
       "      <td>0.0</td>\n",
       "      <td>0.0</td>\n",
       "      <td>0.0</td>\n",
       "      <td>0.0</td>\n",
       "      <td>8.0</td>\n",
       "      <td>0.0</td>\n",
       "      <td>8.0</td>\n",
       "      <td>8.0</td>\n",
       "      <td>8.0</td>\n",
       "    </tr>\n",
       "    <tr>\n",
       "      <th>19</th>\n",
       "      <td>Maine</td>\n",
       "      <td>4.0</td>\n",
       "      <td>4.0</td>\n",
       "      <td>4.0</td>\n",
       "      <td>4.0</td>\n",
       "      <td>4.0</td>\n",
       "      <td>0.0</td>\n",
       "      <td>4.0</td>\n",
       "      <td>0.0</td>\n",
       "      <td>0.0</td>\n",
       "      <td>4.0</td>\n",
       "    </tr>\n",
       "    <tr>\n",
       "      <th>20</th>\n",
       "      <td>Maryland</td>\n",
       "      <td>10.0</td>\n",
       "      <td>10.0</td>\n",
       "      <td>10.0</td>\n",
       "      <td>10.0</td>\n",
       "      <td>10.0</td>\n",
       "      <td>10.0</td>\n",
       "      <td>10.0</td>\n",
       "      <td>0.0</td>\n",
       "      <td>10.0</td>\n",
       "      <td>10.0</td>\n",
       "    </tr>\n",
       "    <tr>\n",
       "      <th>21</th>\n",
       "      <td>Massachusetts</td>\n",
       "      <td>11.0</td>\n",
       "      <td>11.0</td>\n",
       "      <td>11.0</td>\n",
       "      <td>11.0</td>\n",
       "      <td>11.0</td>\n",
       "      <td>11.0</td>\n",
       "      <td>0.0</td>\n",
       "      <td>11.0</td>\n",
       "      <td>11.0</td>\n",
       "      <td>11.0</td>\n",
       "    </tr>\n",
       "    <tr>\n",
       "      <th>22</th>\n",
       "      <td>Michigan</td>\n",
       "      <td>16.0</td>\n",
       "      <td>0.0</td>\n",
       "      <td>16.0</td>\n",
       "      <td>0.0</td>\n",
       "      <td>16.0</td>\n",
       "      <td>16.0</td>\n",
       "      <td>16.0</td>\n",
       "      <td>0.0</td>\n",
       "      <td>16.0</td>\n",
       "      <td>16.0</td>\n",
       "    </tr>\n",
       "    <tr>\n",
       "      <th>23</th>\n",
       "      <td>Minnesota</td>\n",
       "      <td>10.0</td>\n",
       "      <td>0.0</td>\n",
       "      <td>10.0</td>\n",
       "      <td>0.0</td>\n",
       "      <td>10.0</td>\n",
       "      <td>10.0</td>\n",
       "      <td>10.0</td>\n",
       "      <td>0.0</td>\n",
       "      <td>10.0</td>\n",
       "      <td>10.0</td>\n",
       "    </tr>\n",
       "    <tr>\n",
       "      <th>24</th>\n",
       "      <td>Mississippi</td>\n",
       "      <td>0.0</td>\n",
       "      <td>0.0</td>\n",
       "      <td>0.0</td>\n",
       "      <td>0.0</td>\n",
       "      <td>6.0</td>\n",
       "      <td>0.0</td>\n",
       "      <td>6.0</td>\n",
       "      <td>0.0</td>\n",
       "      <td>0.0</td>\n",
       "      <td>0.0</td>\n",
       "    </tr>\n",
       "    <tr>\n",
       "      <th>25</th>\n",
       "      <td>Missouri</td>\n",
       "      <td>10.0</td>\n",
       "      <td>0.0</td>\n",
       "      <td>0.0</td>\n",
       "      <td>0.0</td>\n",
       "      <td>0.0</td>\n",
       "      <td>0.0</td>\n",
       "      <td>10.0</td>\n",
       "      <td>0.0</td>\n",
       "      <td>0.0</td>\n",
       "      <td>10.0</td>\n",
       "    </tr>\n",
       "    <tr>\n",
       "      <th>26</th>\n",
       "      <td>Montana</td>\n",
       "      <td>3.0</td>\n",
       "      <td>3.0</td>\n",
       "      <td>0.0</td>\n",
       "      <td>0.0</td>\n",
       "      <td>3.0</td>\n",
       "      <td>0.0</td>\n",
       "      <td>0.0</td>\n",
       "      <td>0.0</td>\n",
       "      <td>0.0</td>\n",
       "      <td>0.0</td>\n",
       "    </tr>\n",
       "    <tr>\n",
       "      <th>27</th>\n",
       "      <td>Nebraska</td>\n",
       "      <td>5.0</td>\n",
       "      <td>0.0</td>\n",
       "      <td>0.0</td>\n",
       "      <td>5.0</td>\n",
       "      <td>5.0</td>\n",
       "      <td>5.0</td>\n",
       "      <td>0.0</td>\n",
       "      <td>5.0</td>\n",
       "      <td>5.0</td>\n",
       "      <td>5.0</td>\n",
       "    </tr>\n",
       "    <tr>\n",
       "      <th>28</th>\n",
       "      <td>Nevada</td>\n",
       "      <td>6.0</td>\n",
       "      <td>0.0</td>\n",
       "      <td>6.0</td>\n",
       "      <td>0.0</td>\n",
       "      <td>6.0</td>\n",
       "      <td>6.0</td>\n",
       "      <td>0.0</td>\n",
       "      <td>6.0</td>\n",
       "      <td>6.0</td>\n",
       "      <td>6.0</td>\n",
       "    </tr>\n",
       "    <tr>\n",
       "      <th>29</th>\n",
       "      <td>New Hampshire</td>\n",
       "      <td>4.0</td>\n",
       "      <td>4.0</td>\n",
       "      <td>0.0</td>\n",
       "      <td>0.0</td>\n",
       "      <td>4.0</td>\n",
       "      <td>4.0</td>\n",
       "      <td>4.0</td>\n",
       "      <td>4.0</td>\n",
       "      <td>0.0</td>\n",
       "      <td>4.0</td>\n",
       "    </tr>\n",
       "    <tr>\n",
       "      <th>30</th>\n",
       "      <td>New Jersey</td>\n",
       "      <td>0.0</td>\n",
       "      <td>14.0</td>\n",
       "      <td>14.0</td>\n",
       "      <td>14.0</td>\n",
       "      <td>0.0</td>\n",
       "      <td>14.0</td>\n",
       "      <td>14.0</td>\n",
       "      <td>0.0</td>\n",
       "      <td>14.0</td>\n",
       "      <td>14.0</td>\n",
       "    </tr>\n",
       "    <tr>\n",
       "      <th>31</th>\n",
       "      <td>New Mexico</td>\n",
       "      <td>5.0</td>\n",
       "      <td>5.0</td>\n",
       "      <td>5.0</td>\n",
       "      <td>5.0</td>\n",
       "      <td>5.0</td>\n",
       "      <td>0.0</td>\n",
       "      <td>5.0</td>\n",
       "      <td>5.0</td>\n",
       "      <td>0.0</td>\n",
       "      <td>5.0</td>\n",
       "    </tr>\n",
       "    <tr>\n",
       "      <th>32</th>\n",
       "      <td>New York</td>\n",
       "      <td>29.0</td>\n",
       "      <td>0.0</td>\n",
       "      <td>29.0</td>\n",
       "      <td>29.0</td>\n",
       "      <td>0.0</td>\n",
       "      <td>29.0</td>\n",
       "      <td>29.0</td>\n",
       "      <td>29.0</td>\n",
       "      <td>29.0</td>\n",
       "      <td>29.0</td>\n",
       "    </tr>\n",
       "    <tr>\n",
       "      <th>33</th>\n",
       "      <td>North Carolina</td>\n",
       "      <td>15.0</td>\n",
       "      <td>15.0</td>\n",
       "      <td>0.0</td>\n",
       "      <td>0.0</td>\n",
       "      <td>0.0</td>\n",
       "      <td>15.0</td>\n",
       "      <td>15.0</td>\n",
       "      <td>15.0</td>\n",
       "      <td>0.0</td>\n",
       "      <td>0.0</td>\n",
       "    </tr>\n",
       "    <tr>\n",
       "      <th>34</th>\n",
       "      <td>North Dakota</td>\n",
       "      <td>0.0</td>\n",
       "      <td>0.0</td>\n",
       "      <td>3.0</td>\n",
       "      <td>0.0</td>\n",
       "      <td>0.0</td>\n",
       "      <td>3.0</td>\n",
       "      <td>0.0</td>\n",
       "      <td>3.0</td>\n",
       "      <td>0.0</td>\n",
       "      <td>0.0</td>\n",
       "    </tr>\n",
       "    <tr>\n",
       "      <th>35</th>\n",
       "      <td>Ohio</td>\n",
       "      <td>0.0</td>\n",
       "      <td>0.0</td>\n",
       "      <td>18.0</td>\n",
       "      <td>0.0</td>\n",
       "      <td>0.0</td>\n",
       "      <td>18.0</td>\n",
       "      <td>18.0</td>\n",
       "      <td>18.0</td>\n",
       "      <td>0.0</td>\n",
       "      <td>0.0</td>\n",
       "    </tr>\n",
       "    <tr>\n",
       "      <th>36</th>\n",
       "      <td>Oklahoma</td>\n",
       "      <td>0.0</td>\n",
       "      <td>0.0</td>\n",
       "      <td>0.0</td>\n",
       "      <td>0.0</td>\n",
       "      <td>0.0</td>\n",
       "      <td>0.0</td>\n",
       "      <td>0.0</td>\n",
       "      <td>0.0</td>\n",
       "      <td>0.0</td>\n",
       "      <td>0.0</td>\n",
       "    </tr>\n",
       "    <tr>\n",
       "      <th>37</th>\n",
       "      <td>Oregon</td>\n",
       "      <td>7.0</td>\n",
       "      <td>7.0</td>\n",
       "      <td>7.0</td>\n",
       "      <td>7.0</td>\n",
       "      <td>7.0</td>\n",
       "      <td>7.0</td>\n",
       "      <td>7.0</td>\n",
       "      <td>7.0</td>\n",
       "      <td>0.0</td>\n",
       "      <td>7.0</td>\n",
       "    </tr>\n",
       "    <tr>\n",
       "      <th>38</th>\n",
       "      <td>Pennsylvania</td>\n",
       "      <td>0.0</td>\n",
       "      <td>0.0</td>\n",
       "      <td>0.0</td>\n",
       "      <td>0.0</td>\n",
       "      <td>20.0</td>\n",
       "      <td>0.0</td>\n",
       "      <td>20.0</td>\n",
       "      <td>20.0</td>\n",
       "      <td>20.0</td>\n",
       "      <td>20.0</td>\n",
       "    </tr>\n",
       "    <tr>\n",
       "      <th>39</th>\n",
       "      <td>Rhode Island</td>\n",
       "      <td>4.0</td>\n",
       "      <td>4.0</td>\n",
       "      <td>4.0</td>\n",
       "      <td>4.0</td>\n",
       "      <td>4.0</td>\n",
       "      <td>4.0</td>\n",
       "      <td>0.0</td>\n",
       "      <td>4.0</td>\n",
       "      <td>4.0</td>\n",
       "      <td>0.0</td>\n",
       "    </tr>\n",
       "    <tr>\n",
       "      <th>40</th>\n",
       "      <td>South Carolina</td>\n",
       "      <td>0.0</td>\n",
       "      <td>9.0</td>\n",
       "      <td>0.0</td>\n",
       "      <td>0.0</td>\n",
       "      <td>0.0</td>\n",
       "      <td>0.0</td>\n",
       "      <td>0.0</td>\n",
       "      <td>0.0</td>\n",
       "      <td>0.0</td>\n",
       "      <td>0.0</td>\n",
       "    </tr>\n",
       "    <tr>\n",
       "      <th>41</th>\n",
       "      <td>South Dakota</td>\n",
       "      <td>0.0</td>\n",
       "      <td>0.0</td>\n",
       "      <td>0.0</td>\n",
       "      <td>0.0</td>\n",
       "      <td>3.0</td>\n",
       "      <td>3.0</td>\n",
       "      <td>0.0</td>\n",
       "      <td>3.0</td>\n",
       "      <td>3.0</td>\n",
       "      <td>0.0</td>\n",
       "    </tr>\n",
       "    <tr>\n",
       "      <th>42</th>\n",
       "      <td>Tennessee</td>\n",
       "      <td>11.0</td>\n",
       "      <td>0.0</td>\n",
       "      <td>0.0</td>\n",
       "      <td>0.0</td>\n",
       "      <td>0.0</td>\n",
       "      <td>0.0</td>\n",
       "      <td>0.0</td>\n",
       "      <td>0.0</td>\n",
       "      <td>0.0</td>\n",
       "      <td>0.0</td>\n",
       "    </tr>\n",
       "    <tr>\n",
       "      <th>43</th>\n",
       "      <td>Texas</td>\n",
       "      <td>38.0</td>\n",
       "      <td>0.0</td>\n",
       "      <td>0.0</td>\n",
       "      <td>0.0</td>\n",
       "      <td>0.0</td>\n",
       "      <td>0.0</td>\n",
       "      <td>38.0</td>\n",
       "      <td>0.0</td>\n",
       "      <td>0.0</td>\n",
       "      <td>0.0</td>\n",
       "    </tr>\n",
       "    <tr>\n",
       "      <th>44</th>\n",
       "      <td>Utah</td>\n",
       "      <td>0.0</td>\n",
       "      <td>6.0</td>\n",
       "      <td>0.0</td>\n",
       "      <td>0.0</td>\n",
       "      <td>0.0</td>\n",
       "      <td>0.0</td>\n",
       "      <td>0.0</td>\n",
       "      <td>6.0</td>\n",
       "      <td>6.0</td>\n",
       "      <td>0.0</td>\n",
       "    </tr>\n",
       "    <tr>\n",
       "      <th>45</th>\n",
       "      <td>Vermont</td>\n",
       "      <td>0.0</td>\n",
       "      <td>3.0</td>\n",
       "      <td>3.0</td>\n",
       "      <td>3.0</td>\n",
       "      <td>3.0</td>\n",
       "      <td>3.0</td>\n",
       "      <td>3.0</td>\n",
       "      <td>3.0</td>\n",
       "      <td>3.0</td>\n",
       "      <td>3.0</td>\n",
       "    </tr>\n",
       "    <tr>\n",
       "      <th>46</th>\n",
       "      <td>Virginia</td>\n",
       "      <td>13.0</td>\n",
       "      <td>13.0</td>\n",
       "      <td>13.0</td>\n",
       "      <td>13.0</td>\n",
       "      <td>13.0</td>\n",
       "      <td>13.0</td>\n",
       "      <td>0.0</td>\n",
       "      <td>13.0</td>\n",
       "      <td>0.0</td>\n",
       "      <td>13.0</td>\n",
       "    </tr>\n",
       "    <tr>\n",
       "      <th>47</th>\n",
       "      <td>Washington</td>\n",
       "      <td>0.0</td>\n",
       "      <td>12.0</td>\n",
       "      <td>12.0</td>\n",
       "      <td>0.0</td>\n",
       "      <td>12.0</td>\n",
       "      <td>0.0</td>\n",
       "      <td>12.0</td>\n",
       "      <td>0.0</td>\n",
       "      <td>12.0</td>\n",
       "      <td>12.0</td>\n",
       "    </tr>\n",
       "    <tr>\n",
       "      <th>48</th>\n",
       "      <td>West Virginia</td>\n",
       "      <td>0.0</td>\n",
       "      <td>5.0</td>\n",
       "      <td>0.0</td>\n",
       "      <td>0.0</td>\n",
       "      <td>0.0</td>\n",
       "      <td>5.0</td>\n",
       "      <td>0.0</td>\n",
       "      <td>5.0</td>\n",
       "      <td>0.0</td>\n",
       "      <td>0.0</td>\n",
       "    </tr>\n",
       "    <tr>\n",
       "      <th>49</th>\n",
       "      <td>Wisconsin</td>\n",
       "      <td>0.0</td>\n",
       "      <td>0.0</td>\n",
       "      <td>10.0</td>\n",
       "      <td>10.0</td>\n",
       "      <td>10.0</td>\n",
       "      <td>0.0</td>\n",
       "      <td>10.0</td>\n",
       "      <td>10.0</td>\n",
       "      <td>10.0</td>\n",
       "      <td>10.0</td>\n",
       "    </tr>\n",
       "    <tr>\n",
       "      <th>50</th>\n",
       "      <td>Wyoming</td>\n",
       "      <td>0.0</td>\n",
       "      <td>0.0</td>\n",
       "      <td>3.0</td>\n",
       "      <td>3.0</td>\n",
       "      <td>0.0</td>\n",
       "      <td>0.0</td>\n",
       "      <td>3.0</td>\n",
       "      <td>0.0</td>\n",
       "      <td>0.0</td>\n",
       "      <td>0.0</td>\n",
       "    </tr>\n",
       "    <tr>\n",
       "      <th>Total Biden Seats</th>\n",
       "      <td>NaN</td>\n",
       "      <td>318.0</td>\n",
       "      <td>295.0</td>\n",
       "      <td>338.0</td>\n",
       "      <td>234.0</td>\n",
       "      <td>243.0</td>\n",
       "      <td>333.0</td>\n",
       "      <td>344.0</td>\n",
       "      <td>284.0</td>\n",
       "      <td>296.0</td>\n",
       "      <td>385.0</td>\n",
       "    </tr>\n",
       "  </tbody>\n",
       "</table>\n",
       "</div>"
      ],
      "text/plain": [
       "                                  state      0      1      2      3      4  \\\n",
       "0                               Alabama    0.0    0.0    0.0    0.0    0.0   \n",
       "1                                Alaska    3.0    0.0    0.0    0.0    0.0   \n",
       "2                               Arizona    0.0   11.0   11.0    0.0   11.0   \n",
       "3                              Arkansas    0.0    0.0    0.0    0.0    0.0   \n",
       "4                            California   55.0   55.0   55.0   55.0   55.0   \n",
       "5                              Colorado    9.0    9.0    9.0    9.0    0.0   \n",
       "6                           Connecticut    7.0    7.0    7.0    0.0    7.0   \n",
       "7                              Delaware    3.0    3.0    3.0    0.0    3.0   \n",
       "8                  District of Columbia    0.0    3.0    3.0    3.0    3.0   \n",
       "9                               Florida    0.0   29.0   29.0   29.0    0.0   \n",
       "10                              Georgia    0.0   16.0    0.0    0.0    0.0   \n",
       "11                               Hawaii    4.0    0.0    4.0    0.0    4.0   \n",
       "12                                Idaho    0.0    0.0    0.0    0.0    0.0   \n",
       "13                             Illinois   20.0   20.0   20.0    0.0    0.0   \n",
       "14                              Indiana    0.0   11.0   11.0    0.0    0.0   \n",
       "15                                 Iowa    0.0    6.0    0.0    6.0    0.0   \n",
       "16                               Kansas    0.0    0.0    0.0    6.0    0.0   \n",
       "17                             Kentucky    8.0    0.0    8.0    8.0    8.0   \n",
       "18                            Louisiana    8.0    0.0    0.0    0.0    0.0   \n",
       "19                                Maine    4.0    4.0    4.0    4.0    4.0   \n",
       "20                             Maryland   10.0   10.0   10.0   10.0   10.0   \n",
       "21                        Massachusetts   11.0   11.0   11.0   11.0   11.0   \n",
       "22                             Michigan   16.0    0.0   16.0    0.0   16.0   \n",
       "23                            Minnesota   10.0    0.0   10.0    0.0   10.0   \n",
       "24                          Mississippi    0.0    0.0    0.0    0.0    6.0   \n",
       "25                             Missouri   10.0    0.0    0.0    0.0    0.0   \n",
       "26                              Montana    3.0    3.0    0.0    0.0    3.0   \n",
       "27                             Nebraska    5.0    0.0    0.0    5.0    5.0   \n",
       "28                               Nevada    6.0    0.0    6.0    0.0    6.0   \n",
       "29                        New Hampshire    4.0    4.0    0.0    0.0    4.0   \n",
       "30                           New Jersey    0.0   14.0   14.0   14.0    0.0   \n",
       "31                           New Mexico    5.0    5.0    5.0    5.0    5.0   \n",
       "32                             New York   29.0    0.0   29.0   29.0    0.0   \n",
       "33                       North Carolina   15.0   15.0    0.0    0.0    0.0   \n",
       "34                         North Dakota    0.0    0.0    3.0    0.0    0.0   \n",
       "35                                 Ohio    0.0    0.0   18.0    0.0    0.0   \n",
       "36                             Oklahoma    0.0    0.0    0.0    0.0    0.0   \n",
       "37                               Oregon    7.0    7.0    7.0    7.0    7.0   \n",
       "38                         Pennsylvania    0.0    0.0    0.0    0.0   20.0   \n",
       "39                         Rhode Island    4.0    4.0    4.0    4.0    4.0   \n",
       "40                       South Carolina    0.0    9.0    0.0    0.0    0.0   \n",
       "41                         South Dakota    0.0    0.0    0.0    0.0    3.0   \n",
       "42                            Tennessee   11.0    0.0    0.0    0.0    0.0   \n",
       "43                                Texas   38.0    0.0    0.0    0.0    0.0   \n",
       "44                                 Utah    0.0    6.0    0.0    0.0    0.0   \n",
       "45                              Vermont    0.0    3.0    3.0    3.0    3.0   \n",
       "46                             Virginia   13.0   13.0   13.0   13.0   13.0   \n",
       "47                           Washington    0.0   12.0   12.0    0.0   12.0   \n",
       "48                        West Virginia    0.0    5.0    0.0    0.0    0.0   \n",
       "49                            Wisconsin    0.0    0.0   10.0   10.0   10.0   \n",
       "50                              Wyoming    0.0    0.0    3.0    3.0    0.0   \n",
       "Total Biden Seats                   NaN  318.0  295.0  338.0  234.0  243.0   \n",
       "\n",
       "                       5      6      7      8      9  \n",
       "0                    0.0    0.0    0.0    0.0    0.0  \n",
       "1                    0.0    0.0    0.0    0.0    0.0  \n",
       "2                   11.0    0.0   11.0   11.0   11.0  \n",
       "3                    0.0    0.0    0.0    0.0    6.0  \n",
       "4                   55.0   55.0   55.0   55.0   55.0  \n",
       "5                    0.0    0.0    0.0    9.0    9.0  \n",
       "6                    7.0    0.0    7.0    7.0    7.0  \n",
       "7                    3.0    3.0    3.0    3.0    3.0  \n",
       "8                    3.0    3.0    3.0    3.0    3.0  \n",
       "9                   29.0   29.0    0.0    0.0   29.0  \n",
       "10                   0.0   16.0    0.0    0.0   16.0  \n",
       "11                   4.0    4.0    4.0    4.0    0.0  \n",
       "12                   0.0    0.0    0.0    0.0    4.0  \n",
       "13                  20.0    0.0   20.0   20.0   20.0  \n",
       "14                  11.0    0.0    0.0   11.0   11.0  \n",
       "15                   6.0    0.0    6.0    6.0    0.0  \n",
       "16                   0.0    0.0    0.0    0.0    6.0  \n",
       "17                   0.0    0.0    0.0    0.0    8.0  \n",
       "18                   8.0    0.0    8.0    8.0    8.0  \n",
       "19                   0.0    4.0    0.0    0.0    4.0  \n",
       "20                  10.0   10.0    0.0   10.0   10.0  \n",
       "21                  11.0    0.0   11.0   11.0   11.0  \n",
       "22                  16.0   16.0    0.0   16.0   16.0  \n",
       "23                  10.0   10.0    0.0   10.0   10.0  \n",
       "24                   0.0    6.0    0.0    0.0    0.0  \n",
       "25                   0.0   10.0    0.0    0.0   10.0  \n",
       "26                   0.0    0.0    0.0    0.0    0.0  \n",
       "27                   5.0    0.0    5.0    5.0    5.0  \n",
       "28                   6.0    0.0    6.0    6.0    6.0  \n",
       "29                   4.0    4.0    4.0    0.0    4.0  \n",
       "30                  14.0   14.0    0.0   14.0   14.0  \n",
       "31                   0.0    5.0    5.0    0.0    5.0  \n",
       "32                  29.0   29.0   29.0   29.0   29.0  \n",
       "33                  15.0   15.0   15.0    0.0    0.0  \n",
       "34                   3.0    0.0    3.0    0.0    0.0  \n",
       "35                  18.0   18.0   18.0    0.0    0.0  \n",
       "36                   0.0    0.0    0.0    0.0    0.0  \n",
       "37                   7.0    7.0    7.0    0.0    7.0  \n",
       "38                   0.0   20.0   20.0   20.0   20.0  \n",
       "39                   4.0    0.0    4.0    4.0    0.0  \n",
       "40                   0.0    0.0    0.0    0.0    0.0  \n",
       "41                   3.0    0.0    3.0    3.0    0.0  \n",
       "42                   0.0    0.0    0.0    0.0    0.0  \n",
       "43                   0.0   38.0    0.0    0.0    0.0  \n",
       "44                   0.0    0.0    6.0    6.0    0.0  \n",
       "45                   3.0    3.0    3.0    3.0    3.0  \n",
       "46                  13.0    0.0   13.0    0.0   13.0  \n",
       "47                   0.0   12.0    0.0   12.0   12.0  \n",
       "48                   5.0    0.0    5.0    0.0    0.0  \n",
       "49                   0.0   10.0   10.0   10.0   10.0  \n",
       "50                   0.0    3.0    0.0    0.0    0.0  \n",
       "Total Biden Seats  333.0  344.0  284.0  296.0  385.0  "
      ]
     },
     "execution_count": 225,
     "metadata": {},
     "output_type": "execute_result"
    }
   ],
   "source": [
    "from numpy.random import normal\n",
    "\n",
    "def run_election_simulation(times, polls):\n",
    "    # Creating a blank data frame to hold our results.\n",
    "    result_frame = pd.DataFrame()\n",
    "\n",
    "    def get_seats(row):\n",
    "        # Using the Normal Distribution function, we input the mean (center) and STD\n",
    "        # If the result is greater than 50, that indicates a win for Biden\n",
    "        result = normal(row['center'], row['std_dev'])\n",
    "        return row['Seats'] if result > 50 else 0\n",
    "    \n",
    "    for i in range(times):\n",
    "        result_frame[i] = polls.apply(get_seats, axis = 1)\n",
    "        \n",
    "    return result_frame\n",
    "\n",
    "# Example of the output\n",
    "res = run_election_simulation(10, poll_state_summary)\n",
    "res.loc['Total Biden Seats',:] = res.sum(axis=0)\n",
    "\n",
    "# Adding the state names to the result DataFrame\n",
    "res = pd.concat([poll_state_summary['state'],res], axis=1, sort= False)\n",
    "\n",
    "# A 0.0 indicates Biden didn't win in that state (Trump won in that state)\n",
    "res"
   ]
  },
  {
   "cell_type": "markdown",
   "metadata": {},
   "source": [
    "### 7. Analyzing the Simulated Data"
   ]
  },
  {
   "cell_type": "code",
   "execution_count": 226,
   "metadata": {},
   "outputs": [
    {
     "data": {
      "text/html": [
       "<div>\n",
       "<style scoped>\n",
       "    .dataframe tbody tr th:only-of-type {\n",
       "        vertical-align: middle;\n",
       "    }\n",
       "\n",
       "    .dataframe tbody tr th {\n",
       "        vertical-align: top;\n",
       "    }\n",
       "\n",
       "    .dataframe thead th {\n",
       "        text-align: right;\n",
       "    }\n",
       "</style>\n",
       "<table border=\"1\" class=\"dataframe\">\n",
       "  <thead>\n",
       "    <tr style=\"text-align: right;\">\n",
       "      <th></th>\n",
       "      <th>state</th>\n",
       "      <th>trump_wins</th>\n",
       "      <th>pct_trump_wins</th>\n",
       "    </tr>\n",
       "  </thead>\n",
       "  <tbody>\n",
       "    <tr>\n",
       "      <th>0</th>\n",
       "      <td>Alabama</td>\n",
       "      <td>10</td>\n",
       "      <td>100.0</td>\n",
       "    </tr>\n",
       "    <tr>\n",
       "      <th>1</th>\n",
       "      <td>Alaska</td>\n",
       "      <td>9</td>\n",
       "      <td>90.0</td>\n",
       "    </tr>\n",
       "    <tr>\n",
       "      <th>2</th>\n",
       "      <td>Arizona</td>\n",
       "      <td>3</td>\n",
       "      <td>30.0</td>\n",
       "    </tr>\n",
       "    <tr>\n",
       "      <th>3</th>\n",
       "      <td>Arkansas</td>\n",
       "      <td>9</td>\n",
       "      <td>90.0</td>\n",
       "    </tr>\n",
       "    <tr>\n",
       "      <th>4</th>\n",
       "      <td>California</td>\n",
       "      <td>0</td>\n",
       "      <td>0.0</td>\n",
       "    </tr>\n",
       "    <tr>\n",
       "      <th>5</th>\n",
       "      <td>Colorado</td>\n",
       "      <td>4</td>\n",
       "      <td>40.0</td>\n",
       "    </tr>\n",
       "    <tr>\n",
       "      <th>6</th>\n",
       "      <td>Connecticut</td>\n",
       "      <td>2</td>\n",
       "      <td>20.0</td>\n",
       "    </tr>\n",
       "    <tr>\n",
       "      <th>7</th>\n",
       "      <td>Delaware</td>\n",
       "      <td>1</td>\n",
       "      <td>10.0</td>\n",
       "    </tr>\n",
       "    <tr>\n",
       "      <th>8</th>\n",
       "      <td>District of Columbia</td>\n",
       "      <td>1</td>\n",
       "      <td>10.0</td>\n",
       "    </tr>\n",
       "    <tr>\n",
       "      <th>9</th>\n",
       "      <td>Florida</td>\n",
       "      <td>4</td>\n",
       "      <td>40.0</td>\n",
       "    </tr>\n",
       "    <tr>\n",
       "      <th>10</th>\n",
       "      <td>Georgia</td>\n",
       "      <td>7</td>\n",
       "      <td>70.0</td>\n",
       "    </tr>\n",
       "    <tr>\n",
       "      <th>11</th>\n",
       "      <td>Hawaii</td>\n",
       "      <td>3</td>\n",
       "      <td>30.0</td>\n",
       "    </tr>\n",
       "    <tr>\n",
       "      <th>12</th>\n",
       "      <td>Idaho</td>\n",
       "      <td>9</td>\n",
       "      <td>90.0</td>\n",
       "    </tr>\n",
       "    <tr>\n",
       "      <th>13</th>\n",
       "      <td>Illinois</td>\n",
       "      <td>3</td>\n",
       "      <td>30.0</td>\n",
       "    </tr>\n",
       "    <tr>\n",
       "      <th>14</th>\n",
       "      <td>Indiana</td>\n",
       "      <td>5</td>\n",
       "      <td>50.0</td>\n",
       "    </tr>\n",
       "    <tr>\n",
       "      <th>15</th>\n",
       "      <td>Iowa</td>\n",
       "      <td>5</td>\n",
       "      <td>50.0</td>\n",
       "    </tr>\n",
       "    <tr>\n",
       "      <th>16</th>\n",
       "      <td>Kansas</td>\n",
       "      <td>8</td>\n",
       "      <td>80.0</td>\n",
       "    </tr>\n",
       "    <tr>\n",
       "      <th>17</th>\n",
       "      <td>Kentucky</td>\n",
       "      <td>5</td>\n",
       "      <td>50.0</td>\n",
       "    </tr>\n",
       "    <tr>\n",
       "      <th>18</th>\n",
       "      <td>Louisiana</td>\n",
       "      <td>5</td>\n",
       "      <td>50.0</td>\n",
       "    </tr>\n",
       "    <tr>\n",
       "      <th>19</th>\n",
       "      <td>Maine</td>\n",
       "      <td>3</td>\n",
       "      <td>30.0</td>\n",
       "    </tr>\n",
       "    <tr>\n",
       "      <th>20</th>\n",
       "      <td>Maryland</td>\n",
       "      <td>1</td>\n",
       "      <td>10.0</td>\n",
       "    </tr>\n",
       "    <tr>\n",
       "      <th>21</th>\n",
       "      <td>Massachusetts</td>\n",
       "      <td>1</td>\n",
       "      <td>10.0</td>\n",
       "    </tr>\n",
       "    <tr>\n",
       "      <th>22</th>\n",
       "      <td>Michigan</td>\n",
       "      <td>3</td>\n",
       "      <td>30.0</td>\n",
       "    </tr>\n",
       "    <tr>\n",
       "      <th>23</th>\n",
       "      <td>Minnesota</td>\n",
       "      <td>3</td>\n",
       "      <td>30.0</td>\n",
       "    </tr>\n",
       "    <tr>\n",
       "      <th>24</th>\n",
       "      <td>Mississippi</td>\n",
       "      <td>8</td>\n",
       "      <td>80.0</td>\n",
       "    </tr>\n",
       "    <tr>\n",
       "      <th>25</th>\n",
       "      <td>Missouri</td>\n",
       "      <td>7</td>\n",
       "      <td>70.0</td>\n",
       "    </tr>\n",
       "    <tr>\n",
       "      <th>26</th>\n",
       "      <td>Montana</td>\n",
       "      <td>7</td>\n",
       "      <td>70.0</td>\n",
       "    </tr>\n",
       "    <tr>\n",
       "      <th>27</th>\n",
       "      <td>Nebraska</td>\n",
       "      <td>3</td>\n",
       "      <td>30.0</td>\n",
       "    </tr>\n",
       "    <tr>\n",
       "      <th>28</th>\n",
       "      <td>Nevada</td>\n",
       "      <td>3</td>\n",
       "      <td>30.0</td>\n",
       "    </tr>\n",
       "    <tr>\n",
       "      <th>29</th>\n",
       "      <td>New Hampshire</td>\n",
       "      <td>3</td>\n",
       "      <td>30.0</td>\n",
       "    </tr>\n",
       "    <tr>\n",
       "      <th>30</th>\n",
       "      <td>New Jersey</td>\n",
       "      <td>3</td>\n",
       "      <td>30.0</td>\n",
       "    </tr>\n",
       "    <tr>\n",
       "      <th>31</th>\n",
       "      <td>New Mexico</td>\n",
       "      <td>2</td>\n",
       "      <td>20.0</td>\n",
       "    </tr>\n",
       "    <tr>\n",
       "      <th>32</th>\n",
       "      <td>New York</td>\n",
       "      <td>2</td>\n",
       "      <td>20.0</td>\n",
       "    </tr>\n",
       "    <tr>\n",
       "      <th>33</th>\n",
       "      <td>North Carolina</td>\n",
       "      <td>5</td>\n",
       "      <td>50.0</td>\n",
       "    </tr>\n",
       "    <tr>\n",
       "      <th>34</th>\n",
       "      <td>North Dakota</td>\n",
       "      <td>7</td>\n",
       "      <td>70.0</td>\n",
       "    </tr>\n",
       "    <tr>\n",
       "      <th>35</th>\n",
       "      <td>Ohio</td>\n",
       "      <td>6</td>\n",
       "      <td>60.0</td>\n",
       "    </tr>\n",
       "    <tr>\n",
       "      <th>36</th>\n",
       "      <td>Oklahoma</td>\n",
       "      <td>10</td>\n",
       "      <td>100.0</td>\n",
       "    </tr>\n",
       "    <tr>\n",
       "      <th>37</th>\n",
       "      <td>Oregon</td>\n",
       "      <td>1</td>\n",
       "      <td>10.0</td>\n",
       "    </tr>\n",
       "    <tr>\n",
       "      <th>38</th>\n",
       "      <td>Pennsylvania</td>\n",
       "      <td>5</td>\n",
       "      <td>50.0</td>\n",
       "    </tr>\n",
       "    <tr>\n",
       "      <th>39</th>\n",
       "      <td>Rhode Island</td>\n",
       "      <td>2</td>\n",
       "      <td>20.0</td>\n",
       "    </tr>\n",
       "    <tr>\n",
       "      <th>40</th>\n",
       "      <td>South Carolina</td>\n",
       "      <td>9</td>\n",
       "      <td>90.0</td>\n",
       "    </tr>\n",
       "    <tr>\n",
       "      <th>41</th>\n",
       "      <td>South Dakota</td>\n",
       "      <td>6</td>\n",
       "      <td>60.0</td>\n",
       "    </tr>\n",
       "    <tr>\n",
       "      <th>42</th>\n",
       "      <td>Tennessee</td>\n",
       "      <td>9</td>\n",
       "      <td>90.0</td>\n",
       "    </tr>\n",
       "    <tr>\n",
       "      <th>43</th>\n",
       "      <td>Texas</td>\n",
       "      <td>8</td>\n",
       "      <td>80.0</td>\n",
       "    </tr>\n",
       "    <tr>\n",
       "      <th>44</th>\n",
       "      <td>Utah</td>\n",
       "      <td>7</td>\n",
       "      <td>70.0</td>\n",
       "    </tr>\n",
       "    <tr>\n",
       "      <th>45</th>\n",
       "      <td>Vermont</td>\n",
       "      <td>1</td>\n",
       "      <td>10.0</td>\n",
       "    </tr>\n",
       "    <tr>\n",
       "      <th>46</th>\n",
       "      <td>Virginia</td>\n",
       "      <td>2</td>\n",
       "      <td>20.0</td>\n",
       "    </tr>\n",
       "    <tr>\n",
       "      <th>47</th>\n",
       "      <td>Washington</td>\n",
       "      <td>4</td>\n",
       "      <td>40.0</td>\n",
       "    </tr>\n",
       "    <tr>\n",
       "      <th>48</th>\n",
       "      <td>West Virginia</td>\n",
       "      <td>7</td>\n",
       "      <td>70.0</td>\n",
       "    </tr>\n",
       "    <tr>\n",
       "      <th>49</th>\n",
       "      <td>Wisconsin</td>\n",
       "      <td>3</td>\n",
       "      <td>30.0</td>\n",
       "    </tr>\n",
       "    <tr>\n",
       "      <th>50</th>\n",
       "      <td>Wyoming</td>\n",
       "      <td>7</td>\n",
       "      <td>70.0</td>\n",
       "    </tr>\n",
       "    <tr>\n",
       "      <th>Total Biden Seats</th>\n",
       "      <td>NaN</td>\n",
       "      <td>0</td>\n",
       "      <td>0.0</td>\n",
       "    </tr>\n",
       "  </tbody>\n",
       "</table>\n",
       "</div>"
      ],
      "text/plain": [
       "                                  state  trump_wins  pct_trump_wins\n",
       "0                               Alabama          10           100.0\n",
       "1                                Alaska           9            90.0\n",
       "2                               Arizona           3            30.0\n",
       "3                              Arkansas           9            90.0\n",
       "4                            California           0             0.0\n",
       "5                              Colorado           4            40.0\n",
       "6                           Connecticut           2            20.0\n",
       "7                              Delaware           1            10.0\n",
       "8                  District of Columbia           1            10.0\n",
       "9                               Florida           4            40.0\n",
       "10                              Georgia           7            70.0\n",
       "11                               Hawaii           3            30.0\n",
       "12                                Idaho           9            90.0\n",
       "13                             Illinois           3            30.0\n",
       "14                              Indiana           5            50.0\n",
       "15                                 Iowa           5            50.0\n",
       "16                               Kansas           8            80.0\n",
       "17                             Kentucky           5            50.0\n",
       "18                            Louisiana           5            50.0\n",
       "19                                Maine           3            30.0\n",
       "20                             Maryland           1            10.0\n",
       "21                        Massachusetts           1            10.0\n",
       "22                             Michigan           3            30.0\n",
       "23                            Minnesota           3            30.0\n",
       "24                          Mississippi           8            80.0\n",
       "25                             Missouri           7            70.0\n",
       "26                              Montana           7            70.0\n",
       "27                             Nebraska           3            30.0\n",
       "28                               Nevada           3            30.0\n",
       "29                        New Hampshire           3            30.0\n",
       "30                           New Jersey           3            30.0\n",
       "31                           New Mexico           2            20.0\n",
       "32                             New York           2            20.0\n",
       "33                       North Carolina           5            50.0\n",
       "34                         North Dakota           7            70.0\n",
       "35                                 Ohio           6            60.0\n",
       "36                             Oklahoma          10           100.0\n",
       "37                               Oregon           1            10.0\n",
       "38                         Pennsylvania           5            50.0\n",
       "39                         Rhode Island           2            20.0\n",
       "40                       South Carolina           9            90.0\n",
       "41                         South Dakota           6            60.0\n",
       "42                            Tennessee           9            90.0\n",
       "43                                Texas           8            80.0\n",
       "44                                 Utah           7            70.0\n",
       "45                              Vermont           1            10.0\n",
       "46                             Virginia           2            20.0\n",
       "47                           Washington           4            40.0\n",
       "48                        West Virginia           7            70.0\n",
       "49                            Wisconsin           3            30.0\n",
       "50                              Wyoming           7            70.0\n",
       "Total Biden Seats                   NaN           0             0.0"
      ]
     },
     "execution_count": 226,
     "metadata": {},
     "output_type": "execute_result"
    }
   ],
   "source": [
    "# Converting the values to integers, counting the 0.0 that indicate Trump wins in that state\n",
    "summary = pd.DataFrame((res == 0).astype(int).sum(axis=1))\n",
    "\n",
    "# Adding the corresponding states to it\n",
    "res_summary = pd.concat([poll_state_summary['state'], summary], axis=1, sort= False)\n",
    "res_summary.columns = ['state', 'trump_wins']\n",
    "\n",
    "# Adding a column to represent the percentage of times Trump won in that given state\n",
    "res_summary['pct_trump_wins'] = (res_summary['trump_wins'] / 10) * 100\n",
    "\n",
    "res_summary"
   ]
  },
  {
   "cell_type": "code",
   "execution_count": 227,
   "metadata": {},
   "outputs": [
    {
     "data": {
      "text/plain": [
       "8"
      ]
     },
     "execution_count": 227,
     "metadata": {},
     "output_type": "execute_result"
    }
   ],
   "source": [
    "# Sum of Biden wins across the simulation\n",
    "res.loc['Total Biden Seats'][res.loc['Total Biden Seats']> 270.0].count()"
   ]
  },
  {
   "cell_type": "markdown",
   "metadata": {},
   "source": [
    "### 8. Simulating the Data 10,000 times"
   ]
  },
  {
   "cell_type": "code",
   "execution_count": null,
   "metadata": {},
   "outputs": [],
   "source": [
    "number_of_simulations = 10000\n",
    "\n",
    "election_results = run_election_simulation(number_of_simulations, poll_state_summary)\n",
    "election_results.loc['Total',:] = election_results.sum(axis=0)\n",
    "\n",
    "biden_wins = election_results.loc['Total'][election_results.loc['Total'] > 270.0].count()"
   ]
  },
  {
   "cell_type": "code",
   "execution_count": 231,
   "metadata": {},
   "outputs": [
    {
     "data": {
      "text/plain": [
       "'Joe Biden wins 7920 times out of 10000 simulations'"
      ]
     },
     "execution_count": 231,
     "metadata": {},
     "output_type": "execute_result"
    }
   ],
   "source": [
    "f\"Joe Biden wins {biden_wins} times out of {number_of_simulations} simulations\""
   ]
  },
  {
   "cell_type": "markdown",
   "metadata": {},
   "source": [
    "#### Summarizing the results per state"
   ]
  },
  {
   "cell_type": "code",
   "execution_count": 245,
   "metadata": {},
   "outputs": [
    {
     "data": {
      "text/html": [
       "<div>\n",
       "<style scoped>\n",
       "    .dataframe tbody tr th:only-of-type {\n",
       "        vertical-align: middle;\n",
       "    }\n",
       "\n",
       "    .dataframe tbody tr th {\n",
       "        vertical-align: top;\n",
       "    }\n",
       "\n",
       "    .dataframe thead th {\n",
       "        text-align: right;\n",
       "    }\n",
       "</style>\n",
       "<table border=\"1\" class=\"dataframe\">\n",
       "  <thead>\n",
       "    <tr style=\"text-align: right;\">\n",
       "      <th></th>\n",
       "      <th>state</th>\n",
       "      <th>trump_wins</th>\n",
       "      <th>biden_wins</th>\n",
       "      <th>pct_trump_wins</th>\n",
       "      <th>pct_biden_wins</th>\n",
       "    </tr>\n",
       "  </thead>\n",
       "  <tbody>\n",
       "    <tr>\n",
       "      <th>0</th>\n",
       "      <td>Alabama</td>\n",
       "      <td>7853</td>\n",
       "      <td>2147</td>\n",
       "      <td>78.53</td>\n",
       "      <td>21.47</td>\n",
       "    </tr>\n",
       "    <tr>\n",
       "      <th>1</th>\n",
       "      <td>Alaska</td>\n",
       "      <td>7403</td>\n",
       "      <td>2597</td>\n",
       "      <td>74.03</td>\n",
       "      <td>25.97</td>\n",
       "    </tr>\n",
       "    <tr>\n",
       "      <th>2</th>\n",
       "      <td>Arizona</td>\n",
       "      <td>3773</td>\n",
       "      <td>6227</td>\n",
       "      <td>37.73</td>\n",
       "      <td>62.27</td>\n",
       "    </tr>\n",
       "    <tr>\n",
       "      <th>3</th>\n",
       "      <td>Arkansas</td>\n",
       "      <td>7929</td>\n",
       "      <td>2071</td>\n",
       "      <td>79.29</td>\n",
       "      <td>20.71</td>\n",
       "    </tr>\n",
       "    <tr>\n",
       "      <th>4</th>\n",
       "      <td>California</td>\n",
       "      <td>2211</td>\n",
       "      <td>7789</td>\n",
       "      <td>22.11</td>\n",
       "      <td>77.89</td>\n",
       "    </tr>\n",
       "    <tr>\n",
       "      <th>5</th>\n",
       "      <td>Colorado</td>\n",
       "      <td>2650</td>\n",
       "      <td>7350</td>\n",
       "      <td>26.50</td>\n",
       "      <td>73.50</td>\n",
       "    </tr>\n",
       "    <tr>\n",
       "      <th>6</th>\n",
       "      <td>Connecticut</td>\n",
       "      <td>2165</td>\n",
       "      <td>7835</td>\n",
       "      <td>21.65</td>\n",
       "      <td>78.35</td>\n",
       "    </tr>\n",
       "    <tr>\n",
       "      <th>7</th>\n",
       "      <td>Delaware</td>\n",
       "      <td>2105</td>\n",
       "      <td>7895</td>\n",
       "      <td>21.05</td>\n",
       "      <td>78.95</td>\n",
       "    </tr>\n",
       "    <tr>\n",
       "      <th>8</th>\n",
       "      <td>District of Columbia</td>\n",
       "      <td>1850</td>\n",
       "      <td>8150</td>\n",
       "      <td>18.50</td>\n",
       "      <td>81.50</td>\n",
       "    </tr>\n",
       "    <tr>\n",
       "      <th>9</th>\n",
       "      <td>Florida</td>\n",
       "      <td>3974</td>\n",
       "      <td>6026</td>\n",
       "      <td>39.74</td>\n",
       "      <td>60.26</td>\n",
       "    </tr>\n",
       "    <tr>\n",
       "      <th>10</th>\n",
       "      <td>Georgia</td>\n",
       "      <td>4485</td>\n",
       "      <td>5515</td>\n",
       "      <td>44.85</td>\n",
       "      <td>55.15</td>\n",
       "    </tr>\n",
       "    <tr>\n",
       "      <th>11</th>\n",
       "      <td>Hawaii</td>\n",
       "      <td>2160</td>\n",
       "      <td>7840</td>\n",
       "      <td>21.60</td>\n",
       "      <td>78.40</td>\n",
       "    </tr>\n",
       "    <tr>\n",
       "      <th>12</th>\n",
       "      <td>Idaho</td>\n",
       "      <td>7915</td>\n",
       "      <td>2085</td>\n",
       "      <td>79.15</td>\n",
       "      <td>20.85</td>\n",
       "    </tr>\n",
       "    <tr>\n",
       "      <th>13</th>\n",
       "      <td>Illinois</td>\n",
       "      <td>2295</td>\n",
       "      <td>7705</td>\n",
       "      <td>22.95</td>\n",
       "      <td>77.05</td>\n",
       "    </tr>\n",
       "    <tr>\n",
       "      <th>14</th>\n",
       "      <td>Indiana</td>\n",
       "      <td>7425</td>\n",
       "      <td>2575</td>\n",
       "      <td>74.25</td>\n",
       "      <td>25.75</td>\n",
       "    </tr>\n",
       "    <tr>\n",
       "      <th>15</th>\n",
       "      <td>Iowa</td>\n",
       "      <td>5660</td>\n",
       "      <td>4340</td>\n",
       "      <td>56.60</td>\n",
       "      <td>43.40</td>\n",
       "    </tr>\n",
       "    <tr>\n",
       "      <th>16</th>\n",
       "      <td>Kansas</td>\n",
       "      <td>7297</td>\n",
       "      <td>2703</td>\n",
       "      <td>72.97</td>\n",
       "      <td>27.03</td>\n",
       "    </tr>\n",
       "    <tr>\n",
       "      <th>17</th>\n",
       "      <td>Kentucky</td>\n",
       "      <td>7871</td>\n",
       "      <td>2129</td>\n",
       "      <td>78.71</td>\n",
       "      <td>21.29</td>\n",
       "    </tr>\n",
       "    <tr>\n",
       "      <th>18</th>\n",
       "      <td>Louisiana</td>\n",
       "      <td>7698</td>\n",
       "      <td>2302</td>\n",
       "      <td>76.98</td>\n",
       "      <td>23.02</td>\n",
       "    </tr>\n",
       "    <tr>\n",
       "      <th>19</th>\n",
       "      <td>Maine</td>\n",
       "      <td>2767</td>\n",
       "      <td>7233</td>\n",
       "      <td>27.67</td>\n",
       "      <td>72.33</td>\n",
       "    </tr>\n",
       "    <tr>\n",
       "      <th>20</th>\n",
       "      <td>Maryland</td>\n",
       "      <td>2109</td>\n",
       "      <td>7891</td>\n",
       "      <td>21.09</td>\n",
       "      <td>78.91</td>\n",
       "    </tr>\n",
       "    <tr>\n",
       "      <th>21</th>\n",
       "      <td>Massachusetts</td>\n",
       "      <td>1972</td>\n",
       "      <td>8028</td>\n",
       "      <td>19.72</td>\n",
       "      <td>80.28</td>\n",
       "    </tr>\n",
       "    <tr>\n",
       "      <th>22</th>\n",
       "      <td>Michigan</td>\n",
       "      <td>3349</td>\n",
       "      <td>6651</td>\n",
       "      <td>33.49</td>\n",
       "      <td>66.51</td>\n",
       "    </tr>\n",
       "    <tr>\n",
       "      <th>23</th>\n",
       "      <td>Minnesota</td>\n",
       "      <td>2960</td>\n",
       "      <td>7040</td>\n",
       "      <td>29.60</td>\n",
       "      <td>70.40</td>\n",
       "    </tr>\n",
       "    <tr>\n",
       "      <th>24</th>\n",
       "      <td>Mississippi</td>\n",
       "      <td>7636</td>\n",
       "      <td>2364</td>\n",
       "      <td>76.36</td>\n",
       "      <td>23.64</td>\n",
       "    </tr>\n",
       "    <tr>\n",
       "      <th>25</th>\n",
       "      <td>Missouri</td>\n",
       "      <td>7326</td>\n",
       "      <td>2674</td>\n",
       "      <td>73.26</td>\n",
       "      <td>26.74</td>\n",
       "    </tr>\n",
       "    <tr>\n",
       "      <th>26</th>\n",
       "      <td>Montana</td>\n",
       "      <td>7650</td>\n",
       "      <td>2350</td>\n",
       "      <td>76.50</td>\n",
       "      <td>23.50</td>\n",
       "    </tr>\n",
       "    <tr>\n",
       "      <th>27</th>\n",
       "      <td>Nebraska</td>\n",
       "      <td>6342</td>\n",
       "      <td>3658</td>\n",
       "      <td>63.42</td>\n",
       "      <td>36.58</td>\n",
       "    </tr>\n",
       "    <tr>\n",
       "      <th>28</th>\n",
       "      <td>Nevada</td>\n",
       "      <td>3390</td>\n",
       "      <td>6610</td>\n",
       "      <td>33.90</td>\n",
       "      <td>66.10</td>\n",
       "    </tr>\n",
       "    <tr>\n",
       "      <th>29</th>\n",
       "      <td>New Hampshire</td>\n",
       "      <td>2644</td>\n",
       "      <td>7356</td>\n",
       "      <td>26.44</td>\n",
       "      <td>73.56</td>\n",
       "    </tr>\n",
       "    <tr>\n",
       "      <th>30</th>\n",
       "      <td>New Jersey</td>\n",
       "      <td>2390</td>\n",
       "      <td>7610</td>\n",
       "      <td>23.90</td>\n",
       "      <td>76.10</td>\n",
       "    </tr>\n",
       "    <tr>\n",
       "      <th>31</th>\n",
       "      <td>New Mexico</td>\n",
       "      <td>2999</td>\n",
       "      <td>7001</td>\n",
       "      <td>29.99</td>\n",
       "      <td>70.01</td>\n",
       "    </tr>\n",
       "    <tr>\n",
       "      <th>32</th>\n",
       "      <td>New York</td>\n",
       "      <td>2108</td>\n",
       "      <td>7892</td>\n",
       "      <td>21.08</td>\n",
       "      <td>78.92</td>\n",
       "    </tr>\n",
       "    <tr>\n",
       "      <th>33</th>\n",
       "      <td>North Carolina</td>\n",
       "      <td>3997</td>\n",
       "      <td>6003</td>\n",
       "      <td>39.97</td>\n",
       "      <td>60.03</td>\n",
       "    </tr>\n",
       "    <tr>\n",
       "      <th>34</th>\n",
       "      <td>North Dakota</td>\n",
       "      <td>8036</td>\n",
       "      <td>1964</td>\n",
       "      <td>80.36</td>\n",
       "      <td>19.64</td>\n",
       "    </tr>\n",
       "    <tr>\n",
       "      <th>35</th>\n",
       "      <td>Ohio</td>\n",
       "      <td>5702</td>\n",
       "      <td>4298</td>\n",
       "      <td>57.02</td>\n",
       "      <td>42.98</td>\n",
       "    </tr>\n",
       "    <tr>\n",
       "      <th>36</th>\n",
       "      <td>Oklahoma</td>\n",
       "      <td>7913</td>\n",
       "      <td>2087</td>\n",
       "      <td>79.13</td>\n",
       "      <td>20.87</td>\n",
       "    </tr>\n",
       "    <tr>\n",
       "      <th>37</th>\n",
       "      <td>Oregon</td>\n",
       "      <td>2346</td>\n",
       "      <td>7654</td>\n",
       "      <td>23.46</td>\n",
       "      <td>76.54</td>\n",
       "    </tr>\n",
       "    <tr>\n",
       "      <th>38</th>\n",
       "      <td>Pennsylvania</td>\n",
       "      <td>3494</td>\n",
       "      <td>6506</td>\n",
       "      <td>34.94</td>\n",
       "      <td>65.06</td>\n",
       "    </tr>\n",
       "    <tr>\n",
       "      <th>39</th>\n",
       "      <td>Rhode Island</td>\n",
       "      <td>2099</td>\n",
       "      <td>7901</td>\n",
       "      <td>20.99</td>\n",
       "      <td>79.01</td>\n",
       "    </tr>\n",
       "    <tr>\n",
       "      <th>40</th>\n",
       "      <td>South Carolina</td>\n",
       "      <td>7217</td>\n",
       "      <td>2783</td>\n",
       "      <td>72.17</td>\n",
       "      <td>27.83</td>\n",
       "    </tr>\n",
       "    <tr>\n",
       "      <th>41</th>\n",
       "      <td>South Dakota</td>\n",
       "      <td>7678</td>\n",
       "      <td>2322</td>\n",
       "      <td>76.78</td>\n",
       "      <td>23.22</td>\n",
       "    </tr>\n",
       "    <tr>\n",
       "      <th>42</th>\n",
       "      <td>Tennessee</td>\n",
       "      <td>7759</td>\n",
       "      <td>2241</td>\n",
       "      <td>77.59</td>\n",
       "      <td>22.41</td>\n",
       "    </tr>\n",
       "    <tr>\n",
       "      <th>43</th>\n",
       "      <td>Texas</td>\n",
       "      <td>5629</td>\n",
       "      <td>4371</td>\n",
       "      <td>56.29</td>\n",
       "      <td>43.71</td>\n",
       "    </tr>\n",
       "    <tr>\n",
       "      <th>44</th>\n",
       "      <td>Utah</td>\n",
       "      <td>7558</td>\n",
       "      <td>2442</td>\n",
       "      <td>75.58</td>\n",
       "      <td>24.42</td>\n",
       "    </tr>\n",
       "    <tr>\n",
       "      <th>45</th>\n",
       "      <td>Vermont</td>\n",
       "      <td>2070</td>\n",
       "      <td>7930</td>\n",
       "      <td>20.70</td>\n",
       "      <td>79.30</td>\n",
       "    </tr>\n",
       "    <tr>\n",
       "      <th>46</th>\n",
       "      <td>Virginia</td>\n",
       "      <td>2640</td>\n",
       "      <td>7360</td>\n",
       "      <td>26.40</td>\n",
       "      <td>73.60</td>\n",
       "    </tr>\n",
       "    <tr>\n",
       "      <th>47</th>\n",
       "      <td>Washington</td>\n",
       "      <td>2167</td>\n",
       "      <td>7833</td>\n",
       "      <td>21.67</td>\n",
       "      <td>78.33</td>\n",
       "    </tr>\n",
       "    <tr>\n",
       "      <th>48</th>\n",
       "      <td>West Virginia</td>\n",
       "      <td>8055</td>\n",
       "      <td>1945</td>\n",
       "      <td>80.55</td>\n",
       "      <td>19.45</td>\n",
       "    </tr>\n",
       "    <tr>\n",
       "      <th>49</th>\n",
       "      <td>Wisconsin</td>\n",
       "      <td>3269</td>\n",
       "      <td>6731</td>\n",
       "      <td>32.69</td>\n",
       "      <td>67.31</td>\n",
       "    </tr>\n",
       "    <tr>\n",
       "      <th>50</th>\n",
       "      <td>Wyoming</td>\n",
       "      <td>8067</td>\n",
       "      <td>1933</td>\n",
       "      <td>80.67</td>\n",
       "      <td>19.33</td>\n",
       "    </tr>\n",
       "  </tbody>\n",
       "</table>\n",
       "</div>"
      ],
      "text/plain": [
       "                   state  trump_wins  biden_wins  pct_trump_wins  \\\n",
       "0                Alabama        7853        2147           78.53   \n",
       "1                 Alaska        7403        2597           74.03   \n",
       "2                Arizona        3773        6227           37.73   \n",
       "3               Arkansas        7929        2071           79.29   \n",
       "4             California        2211        7789           22.11   \n",
       "5               Colorado        2650        7350           26.50   \n",
       "6            Connecticut        2165        7835           21.65   \n",
       "7               Delaware        2105        7895           21.05   \n",
       "8   District of Columbia        1850        8150           18.50   \n",
       "9                Florida        3974        6026           39.74   \n",
       "10               Georgia        4485        5515           44.85   \n",
       "11                Hawaii        2160        7840           21.60   \n",
       "12                 Idaho        7915        2085           79.15   \n",
       "13              Illinois        2295        7705           22.95   \n",
       "14               Indiana        7425        2575           74.25   \n",
       "15                  Iowa        5660        4340           56.60   \n",
       "16                Kansas        7297        2703           72.97   \n",
       "17              Kentucky        7871        2129           78.71   \n",
       "18             Louisiana        7698        2302           76.98   \n",
       "19                 Maine        2767        7233           27.67   \n",
       "20              Maryland        2109        7891           21.09   \n",
       "21         Massachusetts        1972        8028           19.72   \n",
       "22              Michigan        3349        6651           33.49   \n",
       "23             Minnesota        2960        7040           29.60   \n",
       "24           Mississippi        7636        2364           76.36   \n",
       "25              Missouri        7326        2674           73.26   \n",
       "26               Montana        7650        2350           76.50   \n",
       "27              Nebraska        6342        3658           63.42   \n",
       "28                Nevada        3390        6610           33.90   \n",
       "29         New Hampshire        2644        7356           26.44   \n",
       "30            New Jersey        2390        7610           23.90   \n",
       "31            New Mexico        2999        7001           29.99   \n",
       "32              New York        2108        7892           21.08   \n",
       "33        North Carolina        3997        6003           39.97   \n",
       "34          North Dakota        8036        1964           80.36   \n",
       "35                  Ohio        5702        4298           57.02   \n",
       "36              Oklahoma        7913        2087           79.13   \n",
       "37                Oregon        2346        7654           23.46   \n",
       "38          Pennsylvania        3494        6506           34.94   \n",
       "39          Rhode Island        2099        7901           20.99   \n",
       "40        South Carolina        7217        2783           72.17   \n",
       "41          South Dakota        7678        2322           76.78   \n",
       "42             Tennessee        7759        2241           77.59   \n",
       "43                 Texas        5629        4371           56.29   \n",
       "44                  Utah        7558        2442           75.58   \n",
       "45               Vermont        2070        7930           20.70   \n",
       "46              Virginia        2640        7360           26.40   \n",
       "47            Washington        2167        7833           21.67   \n",
       "48         West Virginia        8055        1945           80.55   \n",
       "49             Wisconsin        3269        6731           32.69   \n",
       "50               Wyoming        8067        1933           80.67   \n",
       "\n",
       "    pct_biden_wins  \n",
       "0            21.47  \n",
       "1            25.97  \n",
       "2            62.27  \n",
       "3            20.71  \n",
       "4            77.89  \n",
       "5            73.50  \n",
       "6            78.35  \n",
       "7            78.95  \n",
       "8            81.50  \n",
       "9            60.26  \n",
       "10           55.15  \n",
       "11           78.40  \n",
       "12           20.85  \n",
       "13           77.05  \n",
       "14           25.75  \n",
       "15           43.40  \n",
       "16           27.03  \n",
       "17           21.29  \n",
       "18           23.02  \n",
       "19           72.33  \n",
       "20           78.91  \n",
       "21           80.28  \n",
       "22           66.51  \n",
       "23           70.40  \n",
       "24           23.64  \n",
       "25           26.74  \n",
       "26           23.50  \n",
       "27           36.58  \n",
       "28           66.10  \n",
       "29           73.56  \n",
       "30           76.10  \n",
       "31           70.01  \n",
       "32           78.92  \n",
       "33           60.03  \n",
       "34           19.64  \n",
       "35           42.98  \n",
       "36           20.87  \n",
       "37           76.54  \n",
       "38           65.06  \n",
       "39           79.01  \n",
       "40           27.83  \n",
       "41           23.22  \n",
       "42           22.41  \n",
       "43           43.71  \n",
       "44           24.42  \n",
       "45           79.30  \n",
       "46           73.60  \n",
       "47           78.33  \n",
       "48           19.45  \n",
       "49           67.31  \n",
       "50           19.33  "
      ]
     },
     "execution_count": 245,
     "metadata": {},
     "output_type": "execute_result"
    }
   ],
   "source": [
    "summary = pd.DataFrame((election_results == 0).astype(int).sum(axis=1))\n",
    "res_summary = pd.concat([poll_state_summary['state'], summary], axis=1, sort= False)\n",
    "res_summary.columns = ['state', 'trump_wins']\n",
    "res_summary['biden_wins'] = number_of_simulations - res_summary['trump_wins']\n",
    "res_summary['pct_trump_wins'] = (res_summary['trump_wins'] / number_of_simulations) * 100\n",
    "res_summary['pct_biden_wins'] = 100 - res_summary['pct_trump_wins']\n",
    "res_summary = res_summary.dropna()\n",
    "res_summary"
   ]
  },
  {
   "cell_type": "code",
   "execution_count": 258,
   "metadata": {},
   "outputs": [
    {
     "name": "stdout",
     "output_type": "stream",
     "text": [
      "Seats won by Trump :  188\n",
      "Seats won by Biden :  350\n"
     ]
    },
    {
     "data": {
      "text/html": [
       "<div>\n",
       "<style scoped>\n",
       "    .dataframe tbody tr th:only-of-type {\n",
       "        vertical-align: middle;\n",
       "    }\n",
       "\n",
       "    .dataframe tbody tr th {\n",
       "        vertical-align: top;\n",
       "    }\n",
       "\n",
       "    .dataframe thead th {\n",
       "        text-align: right;\n",
       "    }\n",
       "</style>\n",
       "<table border=\"1\" class=\"dataframe\">\n",
       "  <thead>\n",
       "    <tr style=\"text-align: right;\">\n",
       "      <th></th>\n",
       "      <th>state</th>\n",
       "      <th>trump_wins</th>\n",
       "      <th>biden_wins</th>\n",
       "      <th>pct_trump_wins</th>\n",
       "      <th>pct_biden_wins</th>\n",
       "      <th>seats</th>\n",
       "      <th>seats_trump_wins</th>\n",
       "      <th>seats_biden_wins</th>\n",
       "    </tr>\n",
       "  </thead>\n",
       "  <tbody>\n",
       "    <tr>\n",
       "      <th>0</th>\n",
       "      <td>Alabama</td>\n",
       "      <td>7853</td>\n",
       "      <td>2147</td>\n",
       "      <td>78.53</td>\n",
       "      <td>21.47</td>\n",
       "      <td>9</td>\n",
       "      <td>9</td>\n",
       "      <td>0</td>\n",
       "    </tr>\n",
       "    <tr>\n",
       "      <th>1</th>\n",
       "      <td>Alaska</td>\n",
       "      <td>7403</td>\n",
       "      <td>2597</td>\n",
       "      <td>74.03</td>\n",
       "      <td>25.97</td>\n",
       "      <td>3</td>\n",
       "      <td>3</td>\n",
       "      <td>0</td>\n",
       "    </tr>\n",
       "    <tr>\n",
       "      <th>2</th>\n",
       "      <td>Arizona</td>\n",
       "      <td>3773</td>\n",
       "      <td>6227</td>\n",
       "      <td>37.73</td>\n",
       "      <td>62.27</td>\n",
       "      <td>11</td>\n",
       "      <td>0</td>\n",
       "      <td>11</td>\n",
       "    </tr>\n",
       "    <tr>\n",
       "      <th>3</th>\n",
       "      <td>Arkansas</td>\n",
       "      <td>7929</td>\n",
       "      <td>2071</td>\n",
       "      <td>79.29</td>\n",
       "      <td>20.71</td>\n",
       "      <td>6</td>\n",
       "      <td>6</td>\n",
       "      <td>0</td>\n",
       "    </tr>\n",
       "    <tr>\n",
       "      <th>4</th>\n",
       "      <td>California</td>\n",
       "      <td>2211</td>\n",
       "      <td>7789</td>\n",
       "      <td>22.11</td>\n",
       "      <td>77.89</td>\n",
       "      <td>55</td>\n",
       "      <td>0</td>\n",
       "      <td>55</td>\n",
       "    </tr>\n",
       "    <tr>\n",
       "      <th>5</th>\n",
       "      <td>Colorado</td>\n",
       "      <td>2650</td>\n",
       "      <td>7350</td>\n",
       "      <td>26.50</td>\n",
       "      <td>73.50</td>\n",
       "      <td>9</td>\n",
       "      <td>0</td>\n",
       "      <td>9</td>\n",
       "    </tr>\n",
       "    <tr>\n",
       "      <th>6</th>\n",
       "      <td>Connecticut</td>\n",
       "      <td>2165</td>\n",
       "      <td>7835</td>\n",
       "      <td>21.65</td>\n",
       "      <td>78.35</td>\n",
       "      <td>7</td>\n",
       "      <td>0</td>\n",
       "      <td>7</td>\n",
       "    </tr>\n",
       "    <tr>\n",
       "      <th>7</th>\n",
       "      <td>Delaware</td>\n",
       "      <td>2105</td>\n",
       "      <td>7895</td>\n",
       "      <td>21.05</td>\n",
       "      <td>78.95</td>\n",
       "      <td>3</td>\n",
       "      <td>0</td>\n",
       "      <td>3</td>\n",
       "    </tr>\n",
       "    <tr>\n",
       "      <th>8</th>\n",
       "      <td>District of Columbia</td>\n",
       "      <td>1850</td>\n",
       "      <td>8150</td>\n",
       "      <td>18.50</td>\n",
       "      <td>81.50</td>\n",
       "      <td>3</td>\n",
       "      <td>0</td>\n",
       "      <td>3</td>\n",
       "    </tr>\n",
       "    <tr>\n",
       "      <th>9</th>\n",
       "      <td>Florida</td>\n",
       "      <td>3974</td>\n",
       "      <td>6026</td>\n",
       "      <td>39.74</td>\n",
       "      <td>60.26</td>\n",
       "      <td>29</td>\n",
       "      <td>0</td>\n",
       "      <td>29</td>\n",
       "    </tr>\n",
       "    <tr>\n",
       "      <th>10</th>\n",
       "      <td>Georgia</td>\n",
       "      <td>4485</td>\n",
       "      <td>5515</td>\n",
       "      <td>44.85</td>\n",
       "      <td>55.15</td>\n",
       "      <td>16</td>\n",
       "      <td>0</td>\n",
       "      <td>16</td>\n",
       "    </tr>\n",
       "    <tr>\n",
       "      <th>11</th>\n",
       "      <td>Hawaii</td>\n",
       "      <td>2160</td>\n",
       "      <td>7840</td>\n",
       "      <td>21.60</td>\n",
       "      <td>78.40</td>\n",
       "      <td>4</td>\n",
       "      <td>0</td>\n",
       "      <td>4</td>\n",
       "    </tr>\n",
       "    <tr>\n",
       "      <th>12</th>\n",
       "      <td>Idaho</td>\n",
       "      <td>7915</td>\n",
       "      <td>2085</td>\n",
       "      <td>79.15</td>\n",
       "      <td>20.85</td>\n",
       "      <td>4</td>\n",
       "      <td>4</td>\n",
       "      <td>0</td>\n",
       "    </tr>\n",
       "    <tr>\n",
       "      <th>13</th>\n",
       "      <td>Illinois</td>\n",
       "      <td>2295</td>\n",
       "      <td>7705</td>\n",
       "      <td>22.95</td>\n",
       "      <td>77.05</td>\n",
       "      <td>20</td>\n",
       "      <td>0</td>\n",
       "      <td>20</td>\n",
       "    </tr>\n",
       "    <tr>\n",
       "      <th>14</th>\n",
       "      <td>Indiana</td>\n",
       "      <td>7425</td>\n",
       "      <td>2575</td>\n",
       "      <td>74.25</td>\n",
       "      <td>25.75</td>\n",
       "      <td>11</td>\n",
       "      <td>11</td>\n",
       "      <td>0</td>\n",
       "    </tr>\n",
       "    <tr>\n",
       "      <th>15</th>\n",
       "      <td>Iowa</td>\n",
       "      <td>5660</td>\n",
       "      <td>4340</td>\n",
       "      <td>56.60</td>\n",
       "      <td>43.40</td>\n",
       "      <td>6</td>\n",
       "      <td>6</td>\n",
       "      <td>0</td>\n",
       "    </tr>\n",
       "    <tr>\n",
       "      <th>16</th>\n",
       "      <td>Kansas</td>\n",
       "      <td>7297</td>\n",
       "      <td>2703</td>\n",
       "      <td>72.97</td>\n",
       "      <td>27.03</td>\n",
       "      <td>6</td>\n",
       "      <td>6</td>\n",
       "      <td>0</td>\n",
       "    </tr>\n",
       "    <tr>\n",
       "      <th>17</th>\n",
       "      <td>Kentucky</td>\n",
       "      <td>7871</td>\n",
       "      <td>2129</td>\n",
       "      <td>78.71</td>\n",
       "      <td>21.29</td>\n",
       "      <td>8</td>\n",
       "      <td>8</td>\n",
       "      <td>0</td>\n",
       "    </tr>\n",
       "    <tr>\n",
       "      <th>18</th>\n",
       "      <td>Louisiana</td>\n",
       "      <td>7698</td>\n",
       "      <td>2302</td>\n",
       "      <td>76.98</td>\n",
       "      <td>23.02</td>\n",
       "      <td>8</td>\n",
       "      <td>8</td>\n",
       "      <td>0</td>\n",
       "    </tr>\n",
       "    <tr>\n",
       "      <th>19</th>\n",
       "      <td>Maine</td>\n",
       "      <td>2767</td>\n",
       "      <td>7233</td>\n",
       "      <td>27.67</td>\n",
       "      <td>72.33</td>\n",
       "      <td>4</td>\n",
       "      <td>0</td>\n",
       "      <td>4</td>\n",
       "    </tr>\n",
       "    <tr>\n",
       "      <th>20</th>\n",
       "      <td>Maryland</td>\n",
       "      <td>2109</td>\n",
       "      <td>7891</td>\n",
       "      <td>21.09</td>\n",
       "      <td>78.91</td>\n",
       "      <td>10</td>\n",
       "      <td>0</td>\n",
       "      <td>10</td>\n",
       "    </tr>\n",
       "    <tr>\n",
       "      <th>21</th>\n",
       "      <td>Massachusetts</td>\n",
       "      <td>1972</td>\n",
       "      <td>8028</td>\n",
       "      <td>19.72</td>\n",
       "      <td>80.28</td>\n",
       "      <td>11</td>\n",
       "      <td>0</td>\n",
       "      <td>11</td>\n",
       "    </tr>\n",
       "    <tr>\n",
       "      <th>22</th>\n",
       "      <td>Michigan</td>\n",
       "      <td>3349</td>\n",
       "      <td>6651</td>\n",
       "      <td>33.49</td>\n",
       "      <td>66.51</td>\n",
       "      <td>16</td>\n",
       "      <td>0</td>\n",
       "      <td>16</td>\n",
       "    </tr>\n",
       "    <tr>\n",
       "      <th>23</th>\n",
       "      <td>Minnesota</td>\n",
       "      <td>2960</td>\n",
       "      <td>7040</td>\n",
       "      <td>29.60</td>\n",
       "      <td>70.40</td>\n",
       "      <td>10</td>\n",
       "      <td>0</td>\n",
       "      <td>10</td>\n",
       "    </tr>\n",
       "    <tr>\n",
       "      <th>24</th>\n",
       "      <td>Mississippi</td>\n",
       "      <td>7636</td>\n",
       "      <td>2364</td>\n",
       "      <td>76.36</td>\n",
       "      <td>23.64</td>\n",
       "      <td>6</td>\n",
       "      <td>6</td>\n",
       "      <td>0</td>\n",
       "    </tr>\n",
       "    <tr>\n",
       "      <th>25</th>\n",
       "      <td>Missouri</td>\n",
       "      <td>7326</td>\n",
       "      <td>2674</td>\n",
       "      <td>73.26</td>\n",
       "      <td>26.74</td>\n",
       "      <td>10</td>\n",
       "      <td>10</td>\n",
       "      <td>0</td>\n",
       "    </tr>\n",
       "    <tr>\n",
       "      <th>26</th>\n",
       "      <td>Montana</td>\n",
       "      <td>7650</td>\n",
       "      <td>2350</td>\n",
       "      <td>76.50</td>\n",
       "      <td>23.50</td>\n",
       "      <td>3</td>\n",
       "      <td>3</td>\n",
       "      <td>0</td>\n",
       "    </tr>\n",
       "    <tr>\n",
       "      <th>27</th>\n",
       "      <td>Nebraska</td>\n",
       "      <td>6342</td>\n",
       "      <td>3658</td>\n",
       "      <td>63.42</td>\n",
       "      <td>36.58</td>\n",
       "      <td>5</td>\n",
       "      <td>5</td>\n",
       "      <td>0</td>\n",
       "    </tr>\n",
       "    <tr>\n",
       "      <th>28</th>\n",
       "      <td>Nevada</td>\n",
       "      <td>3390</td>\n",
       "      <td>6610</td>\n",
       "      <td>33.90</td>\n",
       "      <td>66.10</td>\n",
       "      <td>6</td>\n",
       "      <td>0</td>\n",
       "      <td>6</td>\n",
       "    </tr>\n",
       "    <tr>\n",
       "      <th>29</th>\n",
       "      <td>New Hampshire</td>\n",
       "      <td>2644</td>\n",
       "      <td>7356</td>\n",
       "      <td>26.44</td>\n",
       "      <td>73.56</td>\n",
       "      <td>4</td>\n",
       "      <td>0</td>\n",
       "      <td>4</td>\n",
       "    </tr>\n",
       "    <tr>\n",
       "      <th>30</th>\n",
       "      <td>New Jersey</td>\n",
       "      <td>2390</td>\n",
       "      <td>7610</td>\n",
       "      <td>23.90</td>\n",
       "      <td>76.10</td>\n",
       "      <td>14</td>\n",
       "      <td>0</td>\n",
       "      <td>14</td>\n",
       "    </tr>\n",
       "    <tr>\n",
       "      <th>31</th>\n",
       "      <td>New Mexico</td>\n",
       "      <td>2999</td>\n",
       "      <td>7001</td>\n",
       "      <td>29.99</td>\n",
       "      <td>70.01</td>\n",
       "      <td>5</td>\n",
       "      <td>0</td>\n",
       "      <td>5</td>\n",
       "    </tr>\n",
       "    <tr>\n",
       "      <th>32</th>\n",
       "      <td>New York</td>\n",
       "      <td>2108</td>\n",
       "      <td>7892</td>\n",
       "      <td>21.08</td>\n",
       "      <td>78.92</td>\n",
       "      <td>29</td>\n",
       "      <td>0</td>\n",
       "      <td>29</td>\n",
       "    </tr>\n",
       "    <tr>\n",
       "      <th>33</th>\n",
       "      <td>North Carolina</td>\n",
       "      <td>3997</td>\n",
       "      <td>6003</td>\n",
       "      <td>39.97</td>\n",
       "      <td>60.03</td>\n",
       "      <td>15</td>\n",
       "      <td>0</td>\n",
       "      <td>15</td>\n",
       "    </tr>\n",
       "    <tr>\n",
       "      <th>34</th>\n",
       "      <td>North Dakota</td>\n",
       "      <td>8036</td>\n",
       "      <td>1964</td>\n",
       "      <td>80.36</td>\n",
       "      <td>19.64</td>\n",
       "      <td>3</td>\n",
       "      <td>3</td>\n",
       "      <td>0</td>\n",
       "    </tr>\n",
       "    <tr>\n",
       "      <th>35</th>\n",
       "      <td>Ohio</td>\n",
       "      <td>5702</td>\n",
       "      <td>4298</td>\n",
       "      <td>57.02</td>\n",
       "      <td>42.98</td>\n",
       "      <td>18</td>\n",
       "      <td>18</td>\n",
       "      <td>0</td>\n",
       "    </tr>\n",
       "    <tr>\n",
       "      <th>36</th>\n",
       "      <td>Oklahoma</td>\n",
       "      <td>7913</td>\n",
       "      <td>2087</td>\n",
       "      <td>79.13</td>\n",
       "      <td>20.87</td>\n",
       "      <td>7</td>\n",
       "      <td>7</td>\n",
       "      <td>0</td>\n",
       "    </tr>\n",
       "    <tr>\n",
       "      <th>37</th>\n",
       "      <td>Oregon</td>\n",
       "      <td>2346</td>\n",
       "      <td>7654</td>\n",
       "      <td>23.46</td>\n",
       "      <td>76.54</td>\n",
       "      <td>7</td>\n",
       "      <td>0</td>\n",
       "      <td>7</td>\n",
       "    </tr>\n",
       "    <tr>\n",
       "      <th>38</th>\n",
       "      <td>Pennsylvania</td>\n",
       "      <td>3494</td>\n",
       "      <td>6506</td>\n",
       "      <td>34.94</td>\n",
       "      <td>65.06</td>\n",
       "      <td>20</td>\n",
       "      <td>0</td>\n",
       "      <td>20</td>\n",
       "    </tr>\n",
       "    <tr>\n",
       "      <th>39</th>\n",
       "      <td>Rhode Island</td>\n",
       "      <td>2099</td>\n",
       "      <td>7901</td>\n",
       "      <td>20.99</td>\n",
       "      <td>79.01</td>\n",
       "      <td>4</td>\n",
       "      <td>0</td>\n",
       "      <td>4</td>\n",
       "    </tr>\n",
       "    <tr>\n",
       "      <th>40</th>\n",
       "      <td>South Carolina</td>\n",
       "      <td>7217</td>\n",
       "      <td>2783</td>\n",
       "      <td>72.17</td>\n",
       "      <td>27.83</td>\n",
       "      <td>9</td>\n",
       "      <td>9</td>\n",
       "      <td>0</td>\n",
       "    </tr>\n",
       "    <tr>\n",
       "      <th>41</th>\n",
       "      <td>South Dakota</td>\n",
       "      <td>7678</td>\n",
       "      <td>2322</td>\n",
       "      <td>76.78</td>\n",
       "      <td>23.22</td>\n",
       "      <td>3</td>\n",
       "      <td>3</td>\n",
       "      <td>0</td>\n",
       "    </tr>\n",
       "    <tr>\n",
       "      <th>42</th>\n",
       "      <td>Tennessee</td>\n",
       "      <td>7759</td>\n",
       "      <td>2241</td>\n",
       "      <td>77.59</td>\n",
       "      <td>22.41</td>\n",
       "      <td>11</td>\n",
       "      <td>11</td>\n",
       "      <td>0</td>\n",
       "    </tr>\n",
       "    <tr>\n",
       "      <th>43</th>\n",
       "      <td>Texas</td>\n",
       "      <td>5629</td>\n",
       "      <td>4371</td>\n",
       "      <td>56.29</td>\n",
       "      <td>43.71</td>\n",
       "      <td>38</td>\n",
       "      <td>38</td>\n",
       "      <td>0</td>\n",
       "    </tr>\n",
       "    <tr>\n",
       "      <th>44</th>\n",
       "      <td>Utah</td>\n",
       "      <td>7558</td>\n",
       "      <td>2442</td>\n",
       "      <td>75.58</td>\n",
       "      <td>24.42</td>\n",
       "      <td>6</td>\n",
       "      <td>6</td>\n",
       "      <td>0</td>\n",
       "    </tr>\n",
       "    <tr>\n",
       "      <th>45</th>\n",
       "      <td>Vermont</td>\n",
       "      <td>2070</td>\n",
       "      <td>7930</td>\n",
       "      <td>20.70</td>\n",
       "      <td>79.30</td>\n",
       "      <td>3</td>\n",
       "      <td>0</td>\n",
       "      <td>3</td>\n",
       "    </tr>\n",
       "    <tr>\n",
       "      <th>46</th>\n",
       "      <td>Virginia</td>\n",
       "      <td>2640</td>\n",
       "      <td>7360</td>\n",
       "      <td>26.40</td>\n",
       "      <td>73.60</td>\n",
       "      <td>13</td>\n",
       "      <td>0</td>\n",
       "      <td>13</td>\n",
       "    </tr>\n",
       "    <tr>\n",
       "      <th>47</th>\n",
       "      <td>Washington</td>\n",
       "      <td>2167</td>\n",
       "      <td>7833</td>\n",
       "      <td>21.67</td>\n",
       "      <td>78.33</td>\n",
       "      <td>12</td>\n",
       "      <td>0</td>\n",
       "      <td>12</td>\n",
       "    </tr>\n",
       "    <tr>\n",
       "      <th>48</th>\n",
       "      <td>West Virginia</td>\n",
       "      <td>8055</td>\n",
       "      <td>1945</td>\n",
       "      <td>80.55</td>\n",
       "      <td>19.45</td>\n",
       "      <td>5</td>\n",
       "      <td>5</td>\n",
       "      <td>0</td>\n",
       "    </tr>\n",
       "    <tr>\n",
       "      <th>49</th>\n",
       "      <td>Wisconsin</td>\n",
       "      <td>3269</td>\n",
       "      <td>6731</td>\n",
       "      <td>32.69</td>\n",
       "      <td>67.31</td>\n",
       "      <td>10</td>\n",
       "      <td>0</td>\n",
       "      <td>10</td>\n",
       "    </tr>\n",
       "    <tr>\n",
       "      <th>50</th>\n",
       "      <td>Wyoming</td>\n",
       "      <td>8067</td>\n",
       "      <td>1933</td>\n",
       "      <td>80.67</td>\n",
       "      <td>19.33</td>\n",
       "      <td>3</td>\n",
       "      <td>3</td>\n",
       "      <td>0</td>\n",
       "    </tr>\n",
       "  </tbody>\n",
       "</table>\n",
       "</div>"
      ],
      "text/plain": [
       "                   state  trump_wins  biden_wins  pct_trump_wins  \\\n",
       "0                Alabama        7853        2147           78.53   \n",
       "1                 Alaska        7403        2597           74.03   \n",
       "2                Arizona        3773        6227           37.73   \n",
       "3               Arkansas        7929        2071           79.29   \n",
       "4             California        2211        7789           22.11   \n",
       "5               Colorado        2650        7350           26.50   \n",
       "6            Connecticut        2165        7835           21.65   \n",
       "7               Delaware        2105        7895           21.05   \n",
       "8   District of Columbia        1850        8150           18.50   \n",
       "9                Florida        3974        6026           39.74   \n",
       "10               Georgia        4485        5515           44.85   \n",
       "11                Hawaii        2160        7840           21.60   \n",
       "12                 Idaho        7915        2085           79.15   \n",
       "13              Illinois        2295        7705           22.95   \n",
       "14               Indiana        7425        2575           74.25   \n",
       "15                  Iowa        5660        4340           56.60   \n",
       "16                Kansas        7297        2703           72.97   \n",
       "17              Kentucky        7871        2129           78.71   \n",
       "18             Louisiana        7698        2302           76.98   \n",
       "19                 Maine        2767        7233           27.67   \n",
       "20              Maryland        2109        7891           21.09   \n",
       "21         Massachusetts        1972        8028           19.72   \n",
       "22              Michigan        3349        6651           33.49   \n",
       "23             Minnesota        2960        7040           29.60   \n",
       "24           Mississippi        7636        2364           76.36   \n",
       "25              Missouri        7326        2674           73.26   \n",
       "26               Montana        7650        2350           76.50   \n",
       "27              Nebraska        6342        3658           63.42   \n",
       "28                Nevada        3390        6610           33.90   \n",
       "29         New Hampshire        2644        7356           26.44   \n",
       "30            New Jersey        2390        7610           23.90   \n",
       "31            New Mexico        2999        7001           29.99   \n",
       "32              New York        2108        7892           21.08   \n",
       "33        North Carolina        3997        6003           39.97   \n",
       "34          North Dakota        8036        1964           80.36   \n",
       "35                  Ohio        5702        4298           57.02   \n",
       "36              Oklahoma        7913        2087           79.13   \n",
       "37                Oregon        2346        7654           23.46   \n",
       "38          Pennsylvania        3494        6506           34.94   \n",
       "39          Rhode Island        2099        7901           20.99   \n",
       "40        South Carolina        7217        2783           72.17   \n",
       "41          South Dakota        7678        2322           76.78   \n",
       "42             Tennessee        7759        2241           77.59   \n",
       "43                 Texas        5629        4371           56.29   \n",
       "44                  Utah        7558        2442           75.58   \n",
       "45               Vermont        2070        7930           20.70   \n",
       "46              Virginia        2640        7360           26.40   \n",
       "47            Washington        2167        7833           21.67   \n",
       "48         West Virginia        8055        1945           80.55   \n",
       "49             Wisconsin        3269        6731           32.69   \n",
       "50               Wyoming        8067        1933           80.67   \n",
       "\n",
       "    pct_biden_wins  seats  seats_trump_wins  seats_biden_wins  \n",
       "0            21.47      9                 9                 0  \n",
       "1            25.97      3                 3                 0  \n",
       "2            62.27     11                 0                11  \n",
       "3            20.71      6                 6                 0  \n",
       "4            77.89     55                 0                55  \n",
       "5            73.50      9                 0                 9  \n",
       "6            78.35      7                 0                 7  \n",
       "7            78.95      3                 0                 3  \n",
       "8            81.50      3                 0                 3  \n",
       "9            60.26     29                 0                29  \n",
       "10           55.15     16                 0                16  \n",
       "11           78.40      4                 0                 4  \n",
       "12           20.85      4                 4                 0  \n",
       "13           77.05     20                 0                20  \n",
       "14           25.75     11                11                 0  \n",
       "15           43.40      6                 6                 0  \n",
       "16           27.03      6                 6                 0  \n",
       "17           21.29      8                 8                 0  \n",
       "18           23.02      8                 8                 0  \n",
       "19           72.33      4                 0                 4  \n",
       "20           78.91     10                 0                10  \n",
       "21           80.28     11                 0                11  \n",
       "22           66.51     16                 0                16  \n",
       "23           70.40     10                 0                10  \n",
       "24           23.64      6                 6                 0  \n",
       "25           26.74     10                10                 0  \n",
       "26           23.50      3                 3                 0  \n",
       "27           36.58      5                 5                 0  \n",
       "28           66.10      6                 0                 6  \n",
       "29           73.56      4                 0                 4  \n",
       "30           76.10     14                 0                14  \n",
       "31           70.01      5                 0                 5  \n",
       "32           78.92     29                 0                29  \n",
       "33           60.03     15                 0                15  \n",
       "34           19.64      3                 3                 0  \n",
       "35           42.98     18                18                 0  \n",
       "36           20.87      7                 7                 0  \n",
       "37           76.54      7                 0                 7  \n",
       "38           65.06     20                 0                20  \n",
       "39           79.01      4                 0                 4  \n",
       "40           27.83      9                 9                 0  \n",
       "41           23.22      3                 3                 0  \n",
       "42           22.41     11                11                 0  \n",
       "43           43.71     38                38                 0  \n",
       "44           24.42      6                 6                 0  \n",
       "45           79.30      3                 0                 3  \n",
       "46           73.60     13                 0                13  \n",
       "47           78.33     12                 0                12  \n",
       "48           19.45      5                 5                 0  \n",
       "49           67.31     10                 0                10  \n",
       "50           19.33      3                 3                 0  "
      ]
     },
     "execution_count": 258,
     "metadata": {},
     "output_type": "execute_result"
    }
   ],
   "source": [
    "def GetSeats(row):\n",
    "    return states[row['state']]\n",
    "\n",
    "res_summary['seats'] = res_summary.apply(GetSeats, axis = 1)\n",
    "\n",
    "res_summary['seats_trump_wins'] = res_summary['pct_trump_wins'].apply(lambda x:1 if x>50 else 0)\n",
    "res_summary['seats_trump_wins'] = res_summary['seats_trump_wins'] * res_summary['seats']\n",
    "\n",
    "res_summary['seats_biden_wins'] = res_summary['pct_biden_wins'].apply(lambda x:1 if x>50 else 0)\n",
    "res_summary['seats_biden_wins'] = res_summary['seats_biden_wins'] * res_summary['seats']\n",
    "\n",
    "seats_trump_wins = res_summary['seats_trump_wins'].sum()\n",
    "seats_biden_wins = res_summary['seats_biden_wins'].sum()\n",
    "\n",
    "print(\"Seats won by Trump : \",seats_trump_wins)\n",
    "print(\"Seats won by Biden : \",seats_biden_wins)\n",
    "\n",
    "res_summary\n",
    "\n"
   ]
  },
  {
   "cell_type": "markdown",
   "metadata": {},
   "source": [
    "#### Visualising the above data on the US Election Map"
   ]
  },
  {
   "cell_type": "code",
   "execution_count": 273,
   "metadata": {},
   "outputs": [
    {
     "data": {
      "text/html": [
       "<div>\n",
       "<style scoped>\n",
       "    .dataframe tbody tr th:only-of-type {\n",
       "        vertical-align: middle;\n",
       "    }\n",
       "\n",
       "    .dataframe tbody tr th {\n",
       "        vertical-align: top;\n",
       "    }\n",
       "\n",
       "    .dataframe thead th {\n",
       "        text-align: right;\n",
       "    }\n",
       "</style>\n",
       "<table border=\"1\" class=\"dataframe\">\n",
       "  <thead>\n",
       "    <tr style=\"text-align: right;\">\n",
       "      <th></th>\n",
       "      <th>state</th>\n",
       "      <th>trump_wins</th>\n",
       "      <th>biden_wins</th>\n",
       "      <th>pct_trump_wins</th>\n",
       "      <th>pct_biden_wins</th>\n",
       "      <th>seats</th>\n",
       "      <th>seats_trump_wins</th>\n",
       "      <th>seats_biden_wins</th>\n",
       "    </tr>\n",
       "  </thead>\n",
       "  <tbody>\n",
       "    <tr>\n",
       "      <th>0</th>\n",
       "      <td>AL</td>\n",
       "      <td>7853</td>\n",
       "      <td>2147</td>\n",
       "      <td>78.53</td>\n",
       "      <td>21.47</td>\n",
       "      <td>9</td>\n",
       "      <td>9</td>\n",
       "      <td>0</td>\n",
       "    </tr>\n",
       "    <tr>\n",
       "      <th>1</th>\n",
       "      <td>AK</td>\n",
       "      <td>7403</td>\n",
       "      <td>2597</td>\n",
       "      <td>74.03</td>\n",
       "      <td>25.97</td>\n",
       "      <td>3</td>\n",
       "      <td>3</td>\n",
       "      <td>0</td>\n",
       "    </tr>\n",
       "    <tr>\n",
       "      <th>2</th>\n",
       "      <td>AZ</td>\n",
       "      <td>3773</td>\n",
       "      <td>6227</td>\n",
       "      <td>37.73</td>\n",
       "      <td>62.27</td>\n",
       "      <td>11</td>\n",
       "      <td>0</td>\n",
       "      <td>11</td>\n",
       "    </tr>\n",
       "    <tr>\n",
       "      <th>3</th>\n",
       "      <td>AR</td>\n",
       "      <td>7929</td>\n",
       "      <td>2071</td>\n",
       "      <td>79.29</td>\n",
       "      <td>20.71</td>\n",
       "      <td>6</td>\n",
       "      <td>6</td>\n",
       "      <td>0</td>\n",
       "    </tr>\n",
       "    <tr>\n",
       "      <th>4</th>\n",
       "      <td>CA</td>\n",
       "      <td>2211</td>\n",
       "      <td>7789</td>\n",
       "      <td>22.11</td>\n",
       "      <td>77.89</td>\n",
       "      <td>55</td>\n",
       "      <td>0</td>\n",
       "      <td>55</td>\n",
       "    </tr>\n",
       "  </tbody>\n",
       "</table>\n",
       "</div>"
      ],
      "text/plain": [
       "  state  trump_wins  biden_wins  pct_trump_wins  pct_biden_wins  seats  \\\n",
       "0    AL        7853        2147           78.53           21.47      9   \n",
       "1    AK        7403        2597           74.03           25.97      3   \n",
       "2    AZ        3773        6227           37.73           62.27     11   \n",
       "3    AR        7929        2071           79.29           20.71      6   \n",
       "4    CA        2211        7789           22.11           77.89     55   \n",
       "\n",
       "   seats_trump_wins  seats_biden_wins  \n",
       "0                 9                 0  \n",
       "1                 3                 0  \n",
       "2                 0                11  \n",
       "3                 6                 0  \n",
       "4                 0                55  "
      ]
     },
     "execution_count": 273,
     "metadata": {},
     "output_type": "execute_result"
    }
   ],
   "source": [
    "us_state_abbrev = {\n",
    "    'Alabama': 'AL',\n",
    "    'Alaska': 'AK',\n",
    "    'American Samoa': 'AS',\n",
    "    'Arizona': 'AZ',\n",
    "    'Arkansas': 'AR',\n",
    "    'California': 'CA',\n",
    "    'Colorado': 'CO',\n",
    "    'Connecticut': 'CT',\n",
    "    'Delaware': 'DE',\n",
    "    'District of Columbia': 'DC',\n",
    "    'Florida': 'FL',\n",
    "    'Georgia': 'GA',\n",
    "    'Guam': 'GU',\n",
    "    'Hawaii': 'HI',\n",
    "    'Idaho': 'ID',\n",
    "    'Illinois': 'IL',\n",
    "    'Indiana': 'IN',\n",
    "    'Iowa': 'IA',\n",
    "    'Kansas': 'KS',\n",
    "    'Kentucky': 'KY',\n",
    "    'Louisiana': 'LA',\n",
    "    'Maine': 'ME',\n",
    "    'Maryland': 'MD',\n",
    "    'Massachusetts': 'MA',\n",
    "    'Michigan': 'MI',\n",
    "    'Minnesota': 'MN',\n",
    "    'Mississippi': 'MS',\n",
    "    'Missouri': 'MO',\n",
    "    'Montana': 'MT',\n",
    "    'Nebraska': 'NE',\n",
    "    'Nevada': 'NV',\n",
    "    'New Hampshire': 'NH',\n",
    "    'New Jersey': 'NJ',\n",
    "    'New Mexico': 'NM',\n",
    "    'New York': 'NY',\n",
    "    'North Carolina': 'NC',\n",
    "    'North Dakota': 'ND',\n",
    "    'Northern Mariana Islands':'MP',\n",
    "    'Ohio': 'OH',\n",
    "    'Oklahoma': 'OK',\n",
    "    'Oregon': 'OR',\n",
    "    'Pennsylvania': 'PA',\n",
    "    'Puerto Rico': 'PR',\n",
    "    'Rhode Island': 'RI',\n",
    "    'South Carolina': 'SC',\n",
    "    'South Dakota': 'SD',\n",
    "    'Tennessee': 'TN',\n",
    "    'Texas': 'TX',\n",
    "    'Utah': 'UT',\n",
    "    'Vermont': 'VT',\n",
    "    'Virgin Islands': 'VI',\n",
    "    'Virginia': 'VA',\n",
    "    'Washington': 'WA',\n",
    "    'West Virginia': 'WV',\n",
    "    'Wisconsin': 'WI',\n",
    "    'Wyoming': 'WY'\n",
    "}\n",
    "\n",
    "res_summary = res_summary.replace({'state': us_state_abbrev})\n",
    "res_summary.head(5)"
   ]
  },
  {
   "cell_type": "code",
   "execution_count": 276,
   "metadata": {},
   "outputs": [
    {
     "data": {
      "application/vnd.plotly.v1+json": {
       "config": {
        "plotlyServerURL": "https://plot.ly"
       },
       "data": [
        {
         "colorbar": {
          "title": {
           "text": "Trump"
          }
         },
         "colorscale": [
          [
           0,
           "rgb(0,0,255)"
          ],
          [
           1,
           "rgb(255,0,0)"
          ]
         ],
         "locationmode": "USA-states",
         "locations": [
          "AL",
          "AK",
          "AZ",
          "AR",
          "CA",
          "CO",
          "CT",
          "DE",
          "DC",
          "FL",
          "GA",
          "HI",
          "ID",
          "IL",
          "IN",
          "IA",
          "KS",
          "KY",
          "LA",
          "ME",
          "MD",
          "MA",
          "MI",
          "MN",
          "MS",
          "MO",
          "MT",
          "NE",
          "NV",
          "NH",
          "NJ",
          "NM",
          "NY",
          "NC",
          "ND",
          "OH",
          "OK",
          "OR",
          "PA",
          "RI",
          "SC",
          "SD",
          "TN",
          "TX",
          "UT",
          "VT",
          "VA",
          "WA",
          "WV",
          "WI",
          "WY"
         ],
         "type": "choropleth",
         "z": [
          78.53,
          74.03,
          37.730000000000004,
          79.29,
          22.11,
          26.5,
          21.65,
          21.05,
          18.5,
          39.739999999999995,
          44.85,
          21.6,
          79.14999999999999,
          22.95,
          74.25,
          56.599999999999994,
          72.97,
          78.71000000000001,
          76.98,
          27.67,
          21.09,
          19.72,
          33.489999999999995,
          29.599999999999998,
          76.36,
          73.26,
          76.5,
          63.42,
          33.900000000000006,
          26.44,
          23.9,
          29.99,
          21.08,
          39.97,
          80.36,
          57.02,
          79.13,
          23.46,
          34.94,
          20.990000000000002,
          72.17,
          76.78,
          77.59,
          56.28999999999999,
          75.58,
          20.7,
          26.400000000000002,
          21.67,
          80.55,
          32.690000000000005,
          80.67
         ]
        }
       ],
       "layout": {
        "geo": {
         "scope": "usa"
        },
        "template": {
         "data": {
          "bar": [
           {
            "error_x": {
             "color": "#2a3f5f"
            },
            "error_y": {
             "color": "#2a3f5f"
            },
            "marker": {
             "line": {
              "color": "#E5ECF6",
              "width": 0.5
             },
             "pattern": {
              "fillmode": "overlay",
              "size": 10,
              "solidity": 0.2
             }
            },
            "type": "bar"
           }
          ],
          "barpolar": [
           {
            "marker": {
             "line": {
              "color": "#E5ECF6",
              "width": 0.5
             },
             "pattern": {
              "fillmode": "overlay",
              "size": 10,
              "solidity": 0.2
             }
            },
            "type": "barpolar"
           }
          ],
          "carpet": [
           {
            "aaxis": {
             "endlinecolor": "#2a3f5f",
             "gridcolor": "white",
             "linecolor": "white",
             "minorgridcolor": "white",
             "startlinecolor": "#2a3f5f"
            },
            "baxis": {
             "endlinecolor": "#2a3f5f",
             "gridcolor": "white",
             "linecolor": "white",
             "minorgridcolor": "white",
             "startlinecolor": "#2a3f5f"
            },
            "type": "carpet"
           }
          ],
          "choropleth": [
           {
            "colorbar": {
             "outlinewidth": 0,
             "ticks": ""
            },
            "type": "choropleth"
           }
          ],
          "contour": [
           {
            "colorbar": {
             "outlinewidth": 0,
             "ticks": ""
            },
            "colorscale": [
             [
              0,
              "#0d0887"
             ],
             [
              0.1111111111111111,
              "#46039f"
             ],
             [
              0.2222222222222222,
              "#7201a8"
             ],
             [
              0.3333333333333333,
              "#9c179e"
             ],
             [
              0.4444444444444444,
              "#bd3786"
             ],
             [
              0.5555555555555556,
              "#d8576b"
             ],
             [
              0.6666666666666666,
              "#ed7953"
             ],
             [
              0.7777777777777778,
              "#fb9f3a"
             ],
             [
              0.8888888888888888,
              "#fdca26"
             ],
             [
              1,
              "#f0f921"
             ]
            ],
            "type": "contour"
           }
          ],
          "contourcarpet": [
           {
            "colorbar": {
             "outlinewidth": 0,
             "ticks": ""
            },
            "type": "contourcarpet"
           }
          ],
          "heatmap": [
           {
            "colorbar": {
             "outlinewidth": 0,
             "ticks": ""
            },
            "colorscale": [
             [
              0,
              "#0d0887"
             ],
             [
              0.1111111111111111,
              "#46039f"
             ],
             [
              0.2222222222222222,
              "#7201a8"
             ],
             [
              0.3333333333333333,
              "#9c179e"
             ],
             [
              0.4444444444444444,
              "#bd3786"
             ],
             [
              0.5555555555555556,
              "#d8576b"
             ],
             [
              0.6666666666666666,
              "#ed7953"
             ],
             [
              0.7777777777777778,
              "#fb9f3a"
             ],
             [
              0.8888888888888888,
              "#fdca26"
             ],
             [
              1,
              "#f0f921"
             ]
            ],
            "type": "heatmap"
           }
          ],
          "heatmapgl": [
           {
            "colorbar": {
             "outlinewidth": 0,
             "ticks": ""
            },
            "colorscale": [
             [
              0,
              "#0d0887"
             ],
             [
              0.1111111111111111,
              "#46039f"
             ],
             [
              0.2222222222222222,
              "#7201a8"
             ],
             [
              0.3333333333333333,
              "#9c179e"
             ],
             [
              0.4444444444444444,
              "#bd3786"
             ],
             [
              0.5555555555555556,
              "#d8576b"
             ],
             [
              0.6666666666666666,
              "#ed7953"
             ],
             [
              0.7777777777777778,
              "#fb9f3a"
             ],
             [
              0.8888888888888888,
              "#fdca26"
             ],
             [
              1,
              "#f0f921"
             ]
            ],
            "type": "heatmapgl"
           }
          ],
          "histogram": [
           {
            "marker": {
             "pattern": {
              "fillmode": "overlay",
              "size": 10,
              "solidity": 0.2
             }
            },
            "type": "histogram"
           }
          ],
          "histogram2d": [
           {
            "colorbar": {
             "outlinewidth": 0,
             "ticks": ""
            },
            "colorscale": [
             [
              0,
              "#0d0887"
             ],
             [
              0.1111111111111111,
              "#46039f"
             ],
             [
              0.2222222222222222,
              "#7201a8"
             ],
             [
              0.3333333333333333,
              "#9c179e"
             ],
             [
              0.4444444444444444,
              "#bd3786"
             ],
             [
              0.5555555555555556,
              "#d8576b"
             ],
             [
              0.6666666666666666,
              "#ed7953"
             ],
             [
              0.7777777777777778,
              "#fb9f3a"
             ],
             [
              0.8888888888888888,
              "#fdca26"
             ],
             [
              1,
              "#f0f921"
             ]
            ],
            "type": "histogram2d"
           }
          ],
          "histogram2dcontour": [
           {
            "colorbar": {
             "outlinewidth": 0,
             "ticks": ""
            },
            "colorscale": [
             [
              0,
              "#0d0887"
             ],
             [
              0.1111111111111111,
              "#46039f"
             ],
             [
              0.2222222222222222,
              "#7201a8"
             ],
             [
              0.3333333333333333,
              "#9c179e"
             ],
             [
              0.4444444444444444,
              "#bd3786"
             ],
             [
              0.5555555555555556,
              "#d8576b"
             ],
             [
              0.6666666666666666,
              "#ed7953"
             ],
             [
              0.7777777777777778,
              "#fb9f3a"
             ],
             [
              0.8888888888888888,
              "#fdca26"
             ],
             [
              1,
              "#f0f921"
             ]
            ],
            "type": "histogram2dcontour"
           }
          ],
          "mesh3d": [
           {
            "colorbar": {
             "outlinewidth": 0,
             "ticks": ""
            },
            "type": "mesh3d"
           }
          ],
          "parcoords": [
           {
            "line": {
             "colorbar": {
              "outlinewidth": 0,
              "ticks": ""
             }
            },
            "type": "parcoords"
           }
          ],
          "pie": [
           {
            "automargin": true,
            "type": "pie"
           }
          ],
          "scatter": [
           {
            "fillpattern": {
             "fillmode": "overlay",
             "size": 10,
             "solidity": 0.2
            },
            "type": "scatter"
           }
          ],
          "scatter3d": [
           {
            "line": {
             "colorbar": {
              "outlinewidth": 0,
              "ticks": ""
             }
            },
            "marker": {
             "colorbar": {
              "outlinewidth": 0,
              "ticks": ""
             }
            },
            "type": "scatter3d"
           }
          ],
          "scattercarpet": [
           {
            "marker": {
             "colorbar": {
              "outlinewidth": 0,
              "ticks": ""
             }
            },
            "type": "scattercarpet"
           }
          ],
          "scattergeo": [
           {
            "marker": {
             "colorbar": {
              "outlinewidth": 0,
              "ticks": ""
             }
            },
            "type": "scattergeo"
           }
          ],
          "scattergl": [
           {
            "marker": {
             "colorbar": {
              "outlinewidth": 0,
              "ticks": ""
             }
            },
            "type": "scattergl"
           }
          ],
          "scattermapbox": [
           {
            "marker": {
             "colorbar": {
              "outlinewidth": 0,
              "ticks": ""
             }
            },
            "type": "scattermapbox"
           }
          ],
          "scatterpolar": [
           {
            "marker": {
             "colorbar": {
              "outlinewidth": 0,
              "ticks": ""
             }
            },
            "type": "scatterpolar"
           }
          ],
          "scatterpolargl": [
           {
            "marker": {
             "colorbar": {
              "outlinewidth": 0,
              "ticks": ""
             }
            },
            "type": "scatterpolargl"
           }
          ],
          "scatterternary": [
           {
            "marker": {
             "colorbar": {
              "outlinewidth": 0,
              "ticks": ""
             }
            },
            "type": "scatterternary"
           }
          ],
          "surface": [
           {
            "colorbar": {
             "outlinewidth": 0,
             "ticks": ""
            },
            "colorscale": [
             [
              0,
              "#0d0887"
             ],
             [
              0.1111111111111111,
              "#46039f"
             ],
             [
              0.2222222222222222,
              "#7201a8"
             ],
             [
              0.3333333333333333,
              "#9c179e"
             ],
             [
              0.4444444444444444,
              "#bd3786"
             ],
             [
              0.5555555555555556,
              "#d8576b"
             ],
             [
              0.6666666666666666,
              "#ed7953"
             ],
             [
              0.7777777777777778,
              "#fb9f3a"
             ],
             [
              0.8888888888888888,
              "#fdca26"
             ],
             [
              1,
              "#f0f921"
             ]
            ],
            "type": "surface"
           }
          ],
          "table": [
           {
            "cells": {
             "fill": {
              "color": "#EBF0F8"
             },
             "line": {
              "color": "white"
             }
            },
            "header": {
             "fill": {
              "color": "#C8D4E3"
             },
             "line": {
              "color": "white"
             }
            },
            "type": "table"
           }
          ]
         },
         "layout": {
          "annotationdefaults": {
           "arrowcolor": "#2a3f5f",
           "arrowhead": 0,
           "arrowwidth": 1
          },
          "autotypenumbers": "strict",
          "coloraxis": {
           "colorbar": {
            "outlinewidth": 0,
            "ticks": ""
           }
          },
          "colorscale": {
           "diverging": [
            [
             0,
             "#8e0152"
            ],
            [
             0.1,
             "#c51b7d"
            ],
            [
             0.2,
             "#de77ae"
            ],
            [
             0.3,
             "#f1b6da"
            ],
            [
             0.4,
             "#fde0ef"
            ],
            [
             0.5,
             "#f7f7f7"
            ],
            [
             0.6,
             "#e6f5d0"
            ],
            [
             0.7,
             "#b8e186"
            ],
            [
             0.8,
             "#7fbc41"
            ],
            [
             0.9,
             "#4d9221"
            ],
            [
             1,
             "#276419"
            ]
           ],
           "sequential": [
            [
             0,
             "#0d0887"
            ],
            [
             0.1111111111111111,
             "#46039f"
            ],
            [
             0.2222222222222222,
             "#7201a8"
            ],
            [
             0.3333333333333333,
             "#9c179e"
            ],
            [
             0.4444444444444444,
             "#bd3786"
            ],
            [
             0.5555555555555556,
             "#d8576b"
            ],
            [
             0.6666666666666666,
             "#ed7953"
            ],
            [
             0.7777777777777778,
             "#fb9f3a"
            ],
            [
             0.8888888888888888,
             "#fdca26"
            ],
            [
             1,
             "#f0f921"
            ]
           ],
           "sequentialminus": [
            [
             0,
             "#0d0887"
            ],
            [
             0.1111111111111111,
             "#46039f"
            ],
            [
             0.2222222222222222,
             "#7201a8"
            ],
            [
             0.3333333333333333,
             "#9c179e"
            ],
            [
             0.4444444444444444,
             "#bd3786"
            ],
            [
             0.5555555555555556,
             "#d8576b"
            ],
            [
             0.6666666666666666,
             "#ed7953"
            ],
            [
             0.7777777777777778,
             "#fb9f3a"
            ],
            [
             0.8888888888888888,
             "#fdca26"
            ],
            [
             1,
             "#f0f921"
            ]
           ]
          },
          "colorway": [
           "#636efa",
           "#EF553B",
           "#00cc96",
           "#ab63fa",
           "#FFA15A",
           "#19d3f3",
           "#FF6692",
           "#B6E880",
           "#FF97FF",
           "#FECB52"
          ],
          "font": {
           "color": "#2a3f5f"
          },
          "geo": {
           "bgcolor": "white",
           "lakecolor": "white",
           "landcolor": "#E5ECF6",
           "showlakes": true,
           "showland": true,
           "subunitcolor": "white"
          },
          "hoverlabel": {
           "align": "left"
          },
          "hovermode": "closest",
          "mapbox": {
           "style": "light"
          },
          "paper_bgcolor": "white",
          "plot_bgcolor": "#E5ECF6",
          "polar": {
           "angularaxis": {
            "gridcolor": "white",
            "linecolor": "white",
            "ticks": ""
           },
           "bgcolor": "#E5ECF6",
           "radialaxis": {
            "gridcolor": "white",
            "linecolor": "white",
            "ticks": ""
           }
          },
          "scene": {
           "xaxis": {
            "backgroundcolor": "#E5ECF6",
            "gridcolor": "white",
            "gridwidth": 2,
            "linecolor": "white",
            "showbackground": true,
            "ticks": "",
            "zerolinecolor": "white"
           },
           "yaxis": {
            "backgroundcolor": "#E5ECF6",
            "gridcolor": "white",
            "gridwidth": 2,
            "linecolor": "white",
            "showbackground": true,
            "ticks": "",
            "zerolinecolor": "white"
           },
           "zaxis": {
            "backgroundcolor": "#E5ECF6",
            "gridcolor": "white",
            "gridwidth": 2,
            "linecolor": "white",
            "showbackground": true,
            "ticks": "",
            "zerolinecolor": "white"
           }
          },
          "shapedefaults": {
           "line": {
            "color": "#2a3f5f"
           }
          },
          "ternary": {
           "aaxis": {
            "gridcolor": "white",
            "linecolor": "white",
            "ticks": ""
           },
           "baxis": {
            "gridcolor": "white",
            "linecolor": "white",
            "ticks": ""
           },
           "bgcolor": "#E5ECF6",
           "caxis": {
            "gridcolor": "white",
            "linecolor": "white",
            "ticks": ""
           }
          },
          "title": {
           "x": 0.05
          },
          "xaxis": {
           "automargin": true,
           "gridcolor": "white",
           "linecolor": "white",
           "ticks": "",
           "title": {
            "standoff": 15
           },
           "zerolinecolor": "white",
           "zerolinewidth": 2
          },
          "yaxis": {
           "automargin": true,
           "gridcolor": "white",
           "linecolor": "white",
           "ticks": "",
           "title": {
            "standoff": 15
           },
           "zerolinecolor": "white",
           "zerolinewidth": 2
          }
         }
        },
        "title": {
         "text": "10000 Simulations of the 2020 US Election show Biden winning 350 and Trump winning 188 Seats"
        }
       }
      }
     },
     "metadata": {},
     "output_type": "display_data"
    }
   ],
   "source": [
    "import plotly.graph_objects as go\n",
    "\n",
    "fig = go.Figure(data=go.Choropleth(\n",
    "    locations= res_summary['state'],\n",
    "    z = res_summary['pct_trump_wins'].astype(float), # Data to be color-coded\n",
    "    locationmode= 'USA-states',                      # Set of location match entries in 'locations'\n",
    "    colorscale= 'Bluered',\n",
    "    colorbar_title= 'Trump',    \n",
    "))\n",
    "\n",
    "title = f'{number_of_simulations} Simulations of the 2020 US Election show Biden winning {seats_biden_wins} and Trump winning {seats_trump_wins} Seats'\n",
    "fig.update_layout(\n",
    "    title_text = title, #'2020 Simulation of The US Presidential Election',\n",
    "    geo_scope='usa', # limite map scope to USA\n",
    ")\n",
    "\n",
    "fig.show()"
   ]
  },
  {
   "cell_type": "code",
   "execution_count": 281,
   "metadata": {},
   "outputs": [
    {
     "data": {
      "application/vnd.plotly.v1+json": {
       "config": {
        "plotlyServerURL": "https://plot.ly"
       },
       "data": [
        {
         "colorscale": [
          [
           0,
           "red"
          ],
          [
           1,
           "red"
          ]
         ],
         "customdata": [
          [
           9
          ],
          [
           3
          ],
          [
           6
          ],
          [
           4
          ],
          [
           11
          ],
          [
           6
          ],
          [
           6
          ],
          [
           8
          ],
          [
           8
          ],
          [
           6
          ],
          [
           10
          ],
          [
           3
          ],
          [
           5
          ],
          [
           3
          ],
          [
           18
          ],
          [
           7
          ],
          [
           9
          ],
          [
           3
          ],
          [
           11
          ],
          [
           38
          ],
          [
           6
          ],
          [
           5
          ],
          [
           3
          ]
         ],
         "geo": "geo",
         "hovertemplate": "Trump Win %=> 50%<br>state=%{location}<br>seats=%{customdata[0]}<extra></extra>",
         "locationmode": "USA-states",
         "locations": [
          "AL",
          "AK",
          "AR",
          "ID",
          "IN",
          "IA",
          "KS",
          "KY",
          "LA",
          "MS",
          "MO",
          "MT",
          "NE",
          "ND",
          "OH",
          "OK",
          "SC",
          "SD",
          "TN",
          "TX",
          "UT",
          "WV",
          "WY"
         ],
         "name": "> 50%",
         "showlegend": true,
         "showscale": false,
         "type": "choropleth",
         "z": [
          1,
          1,
          1,
          1,
          1,
          1,
          1,
          1,
          1,
          1,
          1,
          1,
          1,
          1,
          1,
          1,
          1,
          1,
          1,
          1,
          1,
          1,
          1
         ]
        },
        {
         "colorscale": [
          [
           0,
           "blue"
          ],
          [
           1,
           "blue"
          ]
         ],
         "customdata": [
          [
           11
          ],
          [
           55
          ],
          [
           9
          ],
          [
           7
          ],
          [
           3
          ],
          [
           3
          ],
          [
           29
          ],
          [
           16
          ],
          [
           4
          ],
          [
           20
          ],
          [
           4
          ],
          [
           10
          ],
          [
           11
          ],
          [
           16
          ],
          [
           10
          ],
          [
           6
          ],
          [
           4
          ],
          [
           14
          ],
          [
           5
          ],
          [
           29
          ],
          [
           15
          ],
          [
           7
          ],
          [
           20
          ],
          [
           4
          ],
          [
           3
          ],
          [
           13
          ],
          [
           12
          ],
          [
           10
          ]
         ],
         "geo": "geo",
         "hovertemplate": "Trump Win %=< 50%<br>state=%{location}<br>seats=%{customdata[0]}<extra></extra>",
         "locationmode": "USA-states",
         "locations": [
          "AZ",
          "CA",
          "CO",
          "CT",
          "DE",
          "DC",
          "FL",
          "GA",
          "HI",
          "IL",
          "ME",
          "MD",
          "MA",
          "MI",
          "MN",
          "NV",
          "NH",
          "NJ",
          "NM",
          "NY",
          "NC",
          "OR",
          "PA",
          "RI",
          "VT",
          "VA",
          "WA",
          "WI"
         ],
         "name": "< 50%",
         "showlegend": true,
         "showscale": false,
         "type": "choropleth",
         "z": [
          1,
          1,
          1,
          1,
          1,
          1,
          1,
          1,
          1,
          1,
          1,
          1,
          1,
          1,
          1,
          1,
          1,
          1,
          1,
          1,
          1,
          1,
          1,
          1,
          1,
          1,
          1,
          1
         ]
        }
       ],
       "layout": {
        "geo": {
         "center": {},
         "domain": {
          "x": [
           0,
           1
          ],
          "y": [
           0,
           1
          ]
         },
         "scope": "usa"
        },
        "legend": {
         "title": {
          "text": "Trump Win %"
         },
         "tracegroupgap": 0
        },
        "margin": {
         "t": 60
        },
        "template": {
         "data": {
          "bar": [
           {
            "error_x": {
             "color": "#2a3f5f"
            },
            "error_y": {
             "color": "#2a3f5f"
            },
            "marker": {
             "line": {
              "color": "#E5ECF6",
              "width": 0.5
             },
             "pattern": {
              "fillmode": "overlay",
              "size": 10,
              "solidity": 0.2
             }
            },
            "type": "bar"
           }
          ],
          "barpolar": [
           {
            "marker": {
             "line": {
              "color": "#E5ECF6",
              "width": 0.5
             },
             "pattern": {
              "fillmode": "overlay",
              "size": 10,
              "solidity": 0.2
             }
            },
            "type": "barpolar"
           }
          ],
          "carpet": [
           {
            "aaxis": {
             "endlinecolor": "#2a3f5f",
             "gridcolor": "white",
             "linecolor": "white",
             "minorgridcolor": "white",
             "startlinecolor": "#2a3f5f"
            },
            "baxis": {
             "endlinecolor": "#2a3f5f",
             "gridcolor": "white",
             "linecolor": "white",
             "minorgridcolor": "white",
             "startlinecolor": "#2a3f5f"
            },
            "type": "carpet"
           }
          ],
          "choropleth": [
           {
            "colorbar": {
             "outlinewidth": 0,
             "ticks": ""
            },
            "type": "choropleth"
           }
          ],
          "contour": [
           {
            "colorbar": {
             "outlinewidth": 0,
             "ticks": ""
            },
            "colorscale": [
             [
              0,
              "#0d0887"
             ],
             [
              0.1111111111111111,
              "#46039f"
             ],
             [
              0.2222222222222222,
              "#7201a8"
             ],
             [
              0.3333333333333333,
              "#9c179e"
             ],
             [
              0.4444444444444444,
              "#bd3786"
             ],
             [
              0.5555555555555556,
              "#d8576b"
             ],
             [
              0.6666666666666666,
              "#ed7953"
             ],
             [
              0.7777777777777778,
              "#fb9f3a"
             ],
             [
              0.8888888888888888,
              "#fdca26"
             ],
             [
              1,
              "#f0f921"
             ]
            ],
            "type": "contour"
           }
          ],
          "contourcarpet": [
           {
            "colorbar": {
             "outlinewidth": 0,
             "ticks": ""
            },
            "type": "contourcarpet"
           }
          ],
          "heatmap": [
           {
            "colorbar": {
             "outlinewidth": 0,
             "ticks": ""
            },
            "colorscale": [
             [
              0,
              "#0d0887"
             ],
             [
              0.1111111111111111,
              "#46039f"
             ],
             [
              0.2222222222222222,
              "#7201a8"
             ],
             [
              0.3333333333333333,
              "#9c179e"
             ],
             [
              0.4444444444444444,
              "#bd3786"
             ],
             [
              0.5555555555555556,
              "#d8576b"
             ],
             [
              0.6666666666666666,
              "#ed7953"
             ],
             [
              0.7777777777777778,
              "#fb9f3a"
             ],
             [
              0.8888888888888888,
              "#fdca26"
             ],
             [
              1,
              "#f0f921"
             ]
            ],
            "type": "heatmap"
           }
          ],
          "heatmapgl": [
           {
            "colorbar": {
             "outlinewidth": 0,
             "ticks": ""
            },
            "colorscale": [
             [
              0,
              "#0d0887"
             ],
             [
              0.1111111111111111,
              "#46039f"
             ],
             [
              0.2222222222222222,
              "#7201a8"
             ],
             [
              0.3333333333333333,
              "#9c179e"
             ],
             [
              0.4444444444444444,
              "#bd3786"
             ],
             [
              0.5555555555555556,
              "#d8576b"
             ],
             [
              0.6666666666666666,
              "#ed7953"
             ],
             [
              0.7777777777777778,
              "#fb9f3a"
             ],
             [
              0.8888888888888888,
              "#fdca26"
             ],
             [
              1,
              "#f0f921"
             ]
            ],
            "type": "heatmapgl"
           }
          ],
          "histogram": [
           {
            "marker": {
             "pattern": {
              "fillmode": "overlay",
              "size": 10,
              "solidity": 0.2
             }
            },
            "type": "histogram"
           }
          ],
          "histogram2d": [
           {
            "colorbar": {
             "outlinewidth": 0,
             "ticks": ""
            },
            "colorscale": [
             [
              0,
              "#0d0887"
             ],
             [
              0.1111111111111111,
              "#46039f"
             ],
             [
              0.2222222222222222,
              "#7201a8"
             ],
             [
              0.3333333333333333,
              "#9c179e"
             ],
             [
              0.4444444444444444,
              "#bd3786"
             ],
             [
              0.5555555555555556,
              "#d8576b"
             ],
             [
              0.6666666666666666,
              "#ed7953"
             ],
             [
              0.7777777777777778,
              "#fb9f3a"
             ],
             [
              0.8888888888888888,
              "#fdca26"
             ],
             [
              1,
              "#f0f921"
             ]
            ],
            "type": "histogram2d"
           }
          ],
          "histogram2dcontour": [
           {
            "colorbar": {
             "outlinewidth": 0,
             "ticks": ""
            },
            "colorscale": [
             [
              0,
              "#0d0887"
             ],
             [
              0.1111111111111111,
              "#46039f"
             ],
             [
              0.2222222222222222,
              "#7201a8"
             ],
             [
              0.3333333333333333,
              "#9c179e"
             ],
             [
              0.4444444444444444,
              "#bd3786"
             ],
             [
              0.5555555555555556,
              "#d8576b"
             ],
             [
              0.6666666666666666,
              "#ed7953"
             ],
             [
              0.7777777777777778,
              "#fb9f3a"
             ],
             [
              0.8888888888888888,
              "#fdca26"
             ],
             [
              1,
              "#f0f921"
             ]
            ],
            "type": "histogram2dcontour"
           }
          ],
          "mesh3d": [
           {
            "colorbar": {
             "outlinewidth": 0,
             "ticks": ""
            },
            "type": "mesh3d"
           }
          ],
          "parcoords": [
           {
            "line": {
             "colorbar": {
              "outlinewidth": 0,
              "ticks": ""
             }
            },
            "type": "parcoords"
           }
          ],
          "pie": [
           {
            "automargin": true,
            "type": "pie"
           }
          ],
          "scatter": [
           {
            "fillpattern": {
             "fillmode": "overlay",
             "size": 10,
             "solidity": 0.2
            },
            "type": "scatter"
           }
          ],
          "scatter3d": [
           {
            "line": {
             "colorbar": {
              "outlinewidth": 0,
              "ticks": ""
             }
            },
            "marker": {
             "colorbar": {
              "outlinewidth": 0,
              "ticks": ""
             }
            },
            "type": "scatter3d"
           }
          ],
          "scattercarpet": [
           {
            "marker": {
             "colorbar": {
              "outlinewidth": 0,
              "ticks": ""
             }
            },
            "type": "scattercarpet"
           }
          ],
          "scattergeo": [
           {
            "marker": {
             "colorbar": {
              "outlinewidth": 0,
              "ticks": ""
             }
            },
            "type": "scattergeo"
           }
          ],
          "scattergl": [
           {
            "marker": {
             "colorbar": {
              "outlinewidth": 0,
              "ticks": ""
             }
            },
            "type": "scattergl"
           }
          ],
          "scattermapbox": [
           {
            "marker": {
             "colorbar": {
              "outlinewidth": 0,
              "ticks": ""
             }
            },
            "type": "scattermapbox"
           }
          ],
          "scatterpolar": [
           {
            "marker": {
             "colorbar": {
              "outlinewidth": 0,
              "ticks": ""
             }
            },
            "type": "scatterpolar"
           }
          ],
          "scatterpolargl": [
           {
            "marker": {
             "colorbar": {
              "outlinewidth": 0,
              "ticks": ""
             }
            },
            "type": "scatterpolargl"
           }
          ],
          "scatterternary": [
           {
            "marker": {
             "colorbar": {
              "outlinewidth": 0,
              "ticks": ""
             }
            },
            "type": "scatterternary"
           }
          ],
          "surface": [
           {
            "colorbar": {
             "outlinewidth": 0,
             "ticks": ""
            },
            "colorscale": [
             [
              0,
              "#0d0887"
             ],
             [
              0.1111111111111111,
              "#46039f"
             ],
             [
              0.2222222222222222,
              "#7201a8"
             ],
             [
              0.3333333333333333,
              "#9c179e"
             ],
             [
              0.4444444444444444,
              "#bd3786"
             ],
             [
              0.5555555555555556,
              "#d8576b"
             ],
             [
              0.6666666666666666,
              "#ed7953"
             ],
             [
              0.7777777777777778,
              "#fb9f3a"
             ],
             [
              0.8888888888888888,
              "#fdca26"
             ],
             [
              1,
              "#f0f921"
             ]
            ],
            "type": "surface"
           }
          ],
          "table": [
           {
            "cells": {
             "fill": {
              "color": "#EBF0F8"
             },
             "line": {
              "color": "white"
             }
            },
            "header": {
             "fill": {
              "color": "#C8D4E3"
             },
             "line": {
              "color": "white"
             }
            },
            "type": "table"
           }
          ]
         },
         "layout": {
          "annotationdefaults": {
           "arrowcolor": "#2a3f5f",
           "arrowhead": 0,
           "arrowwidth": 1
          },
          "autotypenumbers": "strict",
          "coloraxis": {
           "colorbar": {
            "outlinewidth": 0,
            "ticks": ""
           }
          },
          "colorscale": {
           "diverging": [
            [
             0,
             "#8e0152"
            ],
            [
             0.1,
             "#c51b7d"
            ],
            [
             0.2,
             "#de77ae"
            ],
            [
             0.3,
             "#f1b6da"
            ],
            [
             0.4,
             "#fde0ef"
            ],
            [
             0.5,
             "#f7f7f7"
            ],
            [
             0.6,
             "#e6f5d0"
            ],
            [
             0.7,
             "#b8e186"
            ],
            [
             0.8,
             "#7fbc41"
            ],
            [
             0.9,
             "#4d9221"
            ],
            [
             1,
             "#276419"
            ]
           ],
           "sequential": [
            [
             0,
             "#0d0887"
            ],
            [
             0.1111111111111111,
             "#46039f"
            ],
            [
             0.2222222222222222,
             "#7201a8"
            ],
            [
             0.3333333333333333,
             "#9c179e"
            ],
            [
             0.4444444444444444,
             "#bd3786"
            ],
            [
             0.5555555555555556,
             "#d8576b"
            ],
            [
             0.6666666666666666,
             "#ed7953"
            ],
            [
             0.7777777777777778,
             "#fb9f3a"
            ],
            [
             0.8888888888888888,
             "#fdca26"
            ],
            [
             1,
             "#f0f921"
            ]
           ],
           "sequentialminus": [
            [
             0,
             "#0d0887"
            ],
            [
             0.1111111111111111,
             "#46039f"
            ],
            [
             0.2222222222222222,
             "#7201a8"
            ],
            [
             0.3333333333333333,
             "#9c179e"
            ],
            [
             0.4444444444444444,
             "#bd3786"
            ],
            [
             0.5555555555555556,
             "#d8576b"
            ],
            [
             0.6666666666666666,
             "#ed7953"
            ],
            [
             0.7777777777777778,
             "#fb9f3a"
            ],
            [
             0.8888888888888888,
             "#fdca26"
            ],
            [
             1,
             "#f0f921"
            ]
           ]
          },
          "colorway": [
           "#636efa",
           "#EF553B",
           "#00cc96",
           "#ab63fa",
           "#FFA15A",
           "#19d3f3",
           "#FF6692",
           "#B6E880",
           "#FF97FF",
           "#FECB52"
          ],
          "font": {
           "color": "#2a3f5f"
          },
          "geo": {
           "bgcolor": "white",
           "lakecolor": "white",
           "landcolor": "#E5ECF6",
           "showlakes": true,
           "showland": true,
           "subunitcolor": "white"
          },
          "hoverlabel": {
           "align": "left"
          },
          "hovermode": "closest",
          "mapbox": {
           "style": "light"
          },
          "paper_bgcolor": "white",
          "plot_bgcolor": "#E5ECF6",
          "polar": {
           "angularaxis": {
            "gridcolor": "white",
            "linecolor": "white",
            "ticks": ""
           },
           "bgcolor": "#E5ECF6",
           "radialaxis": {
            "gridcolor": "white",
            "linecolor": "white",
            "ticks": ""
           }
          },
          "scene": {
           "xaxis": {
            "backgroundcolor": "#E5ECF6",
            "gridcolor": "white",
            "gridwidth": 2,
            "linecolor": "white",
            "showbackground": true,
            "ticks": "",
            "zerolinecolor": "white"
           },
           "yaxis": {
            "backgroundcolor": "#E5ECF6",
            "gridcolor": "white",
            "gridwidth": 2,
            "linecolor": "white",
            "showbackground": true,
            "ticks": "",
            "zerolinecolor": "white"
           },
           "zaxis": {
            "backgroundcolor": "#E5ECF6",
            "gridcolor": "white",
            "gridwidth": 2,
            "linecolor": "white",
            "showbackground": true,
            "ticks": "",
            "zerolinecolor": "white"
           }
          },
          "shapedefaults": {
           "line": {
            "color": "#2a3f5f"
           }
          },
          "ternary": {
           "aaxis": {
            "gridcolor": "white",
            "linecolor": "white",
            "ticks": ""
           },
           "baxis": {
            "gridcolor": "white",
            "linecolor": "white",
            "ticks": ""
           },
           "bgcolor": "#E5ECF6",
           "caxis": {
            "gridcolor": "white",
            "linecolor": "white",
            "ticks": ""
           }
          },
          "title": {
           "x": 0.05
          },
          "xaxis": {
           "automargin": true,
           "gridcolor": "white",
           "linecolor": "white",
           "ticks": "",
           "title": {
            "standoff": 15
           },
           "zerolinecolor": "white",
           "zerolinewidth": 2
          },
          "yaxis": {
           "automargin": true,
           "gridcolor": "white",
           "linecolor": "white",
           "ticks": "",
           "title": {
            "standoff": 15
           },
           "zerolinecolor": "white",
           "zerolinewidth": 2
          }
         }
        },
        "title": {
         "text": "10000 Simulations of the 2020 US Election show Biden winning 350 and Trump winning 188 Seats"
        }
       }
      }
     },
     "metadata": {},
     "output_type": "display_data"
    }
   ],
   "source": [
    "res_summary['color'] = res_summary['pct_trump_wins'].apply(lambda x: '> 50%' if x > 50 else '< 50%')\n",
    "\n",
    "color_discrete_map = {\n",
    "    '> 50%': 'red',\n",
    "    '< 50%': 'blue'\n",
    "}\n",
    "\n",
    "fig2 = px.choropleth(\n",
    "    res_summary,\n",
    "    locations='state',\n",
    "    locationmode='USA-states',\n",
    "    color='color',\n",
    "    color_discrete_map=color_discrete_map,\n",
    "    scope='usa',\n",
    "    hover_data=['seats'],\n",
    "    labels={'color': 'Trump Win %'}\n",
    ")\n",
    "\n",
    "title = f'{number_of_simulations} Simulations of the 2020 US Election show Biden winning {seats_biden_wins} and Trump winning {seats_trump_wins} Seats'\n",
    "fig2.update_layout(\n",
    "    title_text=title,\n",
    ")\n",
    "\n",
    "fig2.show()"
   ]
  }
 ],
 "metadata": {
  "kernelspec": {
   "display_name": "Python 3",
   "language": "python",
   "name": "python3"
  },
  "language_info": {
   "codemirror_mode": {
    "name": "ipython",
    "version": 3
   },
   "file_extension": ".py",
   "mimetype": "text/x-python",
   "name": "python",
   "nbconvert_exporter": "python",
   "pygments_lexer": "ipython3",
   "version": "3.12.4"
  }
 },
 "nbformat": 4,
 "nbformat_minor": 2
}
